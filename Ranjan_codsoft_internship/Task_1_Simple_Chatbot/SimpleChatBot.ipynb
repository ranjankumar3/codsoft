{
  "nbformat": 4,
  "nbformat_minor": 0,
  "metadata": {
    "colab": {
      "provenance": []
    },
    "kernelspec": {
      "name": "python3",
      "display_name": "Python 3"
    },
    "language_info": {
      "name": "python"
    }
  },
  "cells": [
    {
      "cell_type": "code",
      "source": [
        "common_questions = [\n",
        "    \"how are you\",\n",
        "    \"what's your name\",\n",
        "    \"who are you\",\n",
        "    \"tell me a joke\",\n",
        "    \"what's the weather today\",\n",
        "    \"how does a computer work\",\n",
        "    \"recommend a book\",\n",
        "    \"what's the meaning of life\",\n",
        "    \"what's your favorite color\",\n",
        "    \"where are you from\",\n",
        "    \"what do you do\",\n",
        "    \"how old are you\",\n",
        "    \"can you help me\",\n",
        "    \"do you have siblings\",\n",
        "    \"what's your favorite food\",\n",
        "    \"what's your favorite movie\",\n",
        "    \"tell me a fun fact\",\n",
        "    \"what's the capital of France\",\n",
        "    \"can you sing a song\",\n",
        "    \"what's the time\",\n",
        "    \"can you do math\",\n",
        "    \"do you like sports\",\n",
        "    \"tell me a story\",\n",
        "    \"what's your dream\",\n",
        "    \"what's the largest mammal\",\n",
        "]\n",
        "\n",
        "common_question_responses = [\n",
        "    \"I'm just a simple chatbot.\",\n",
        "    \"I don't have a name, I'm a chatbot.\",\n",
        "    \"I'm here to help with your questions.\",\n",
        "    \"Why don't scientists trust atoms? Because they make up everything!\",\n",
        "    \"I'm sorry, I don't have access to real-time weather information.\",\n",
        "    \"Computers process data using binary code and perform operations with logic gates.\",\n",
        "    \"I recommend 'The Hitchhiker's Guide to the Galaxy' by Douglas Adams.\",\n",
        "    \"The meaning of life is a philosophical question. It's different for everyone!\",\n",
        "    \"I don't have favorite colors, but I like all colors equally.\",\n",
        "    \"I exist in the digital realm.\",\n",
        "    \"I'm here to chat and answer your questions.\",\n",
        "    \"I don't age, so I'm timeless.\",\n",
        "    \"Yes, I'm here to assist you.\",\n",
        "    \"No, I'm an only child.\",\n",
        "    \"I don't eat, but I've heard good things about pizza.\",\n",
        "    \"I don't watch movies, but I can recommend a classic.\",\n",
        "    \"Sure! Did you know honey never spoils?\",\n",
        "    \"The capital of France is Paris.\",\n",
        "    \"I'm not equipped for singing, but I can provide lyrics.\",\n",
        "    \"I don't have a concept of time.\",\n",
        "    \"Yes, I can perform basic math calculations.\",\n",
        "    \"I'm not into sports, but I can provide information about them.\",\n",
        "    \"Once upon a time...\",\n",
        "    \"I'm here to assist you, so my dream is to be helpful.\",\n",
        "    \"The blue whale is the largest mammal on Earth.\",\n",
        "]\n",
        "\n",
        "def common_question_response(user_input):\n",
        "    user_input = user_input.lower()\n",
        "    user_input = user_input.replace('what is' ,\"what's\")\n",
        "    user_input = user_input.replace('whats ' ,\"what's \")\n",
        "    user_input = user_input.replace('what ' ,\"what's \")\n",
        "\n",
        "\n",
        "    if user_input in common_questions:\n",
        "        index = common_questions.index(user_input)\n",
        "        return common_question_responses[index]\n",
        "\n",
        "    else:\n",
        "        return \"I'm sorry, I don't understand that.\"\n",
        "\n",
        "print(\"Chatbot: Hi! How can I assist you today?\")\n",
        "while True:\n",
        "    user_input = input(\"You: \")\n",
        "    if user_input.lower() == \"exit\":\n",
        "        print(\"Chatbot: Goodbye!\")\n",
        "        break\n",
        "    response = common_question_response(user_input)\n",
        "    print(\"Chatbot:\", response)\n"
      ],
      "metadata": {
        "colab": {
          "base_uri": "https://localhost:8080/"
        },
        "id": "Mtg1_-vTQI8N",
        "outputId": "89b2dac8-9662-468d-e10d-9a69a6e12158"
      },
      "execution_count": 21,
      "outputs": [
        {
          "output_type": "stream",
          "name": "stdout",
          "text": [
            "Chatbot: Hi! How can I assist you today?\n",
            "You: what your name\n",
            "Chatbot: I don't have a name, I'm a chatbot.\n",
            "You: whats your dream\n",
            "Chatbot: I'm here to assist you, so my dream is to be helpful.\n",
            "You: how are you\n",
            "Chatbot: I'm just a simple chatbot.\n",
            "You: tell me a story\n",
            "Chatbot: Once upon a time...\n",
            "You: recommend a book\n",
            "Chatbot: I recommend 'The Hitchhiker's Guide to the Galaxy' by Douglas Adams.\n",
            "You: exit\n",
            "Chatbot: Goodbye!\n"
          ]
        }
      ]
    },
    {
      "cell_type": "code",
      "source": [],
      "metadata": {
        "id": "mWEVKwoCQhir"
      },
      "execution_count": null,
      "outputs": []
    }
  ]
}