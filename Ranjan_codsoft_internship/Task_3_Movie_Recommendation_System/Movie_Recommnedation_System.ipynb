{
  "nbformat": 4,
  "nbformat_minor": 0,
  "metadata": {
    "colab": {
      "provenance": [],
      "toc_visible": true
    },
    "kernelspec": {
      "name": "python3",
      "display_name": "Python 3"
    },
    "language_info": {
      "name": "python"
    }
  },
  "cells": [
    {
      "cell_type": "code",
      "execution_count": 3,
      "metadata": {
        "id": "5N-1Kv3bH66T"
      },
      "outputs": [],
      "source": [
        "import pandas as pd\n",
        "import difflib"
      ]
    },
    {
      "cell_type": "code",
      "source": [],
      "metadata": {
        "id": "rg3xSjSshEVv"
      },
      "execution_count": null,
      "outputs": []
    },
    {
      "cell_type": "code",
      "source": [],
      "metadata": {
        "id": "YqmW5CLtfrE-"
      },
      "execution_count": null,
      "outputs": []
    },
    {
      "cell_type": "code",
      "source": [
        "from sklearn.feature_extraction.text import TfidfVectorizer\n",
        "\n",
        "from sklearn.metrics.pairwise import cosine_similarity"
      ],
      "metadata": {
        "id": "--P9FWpS9Oqh"
      },
      "execution_count": 8,
      "outputs": []
    },
    {
      "cell_type": "code",
      "source": [
        "import pandas as pd\n",
        "movies_data = pd.read_csv('movies.csv')"
      ],
      "metadata": {
        "id": "KtcOrhXxH8r1"
      },
      "execution_count": 10,
      "outputs": []
    },
    {
      "cell_type": "code",
      "source": [
        "movies_data.head()\n"
      ],
      "metadata": {
        "colab": {
          "base_uri": "https://localhost:8080/",
          "height": 793
        },
        "id": "WPkGQSPh9zvz",
        "outputId": "9ddc60b2-c2a8-4f57-bec7-44b57ba37cbc"
      },
      "execution_count": 11,
      "outputs": [
        {
          "output_type": "execute_result",
          "data": {
            "text/plain": [
              "   index     budget                                    genres  \\\n",
              "0      0  237000000  Action Adventure Fantasy Science Fiction   \n",
              "1      1  300000000                  Adventure Fantasy Action   \n",
              "2      2  245000000                    Action Adventure Crime   \n",
              "3      3  250000000               Action Crime Drama Thriller   \n",
              "4      4  260000000          Action Adventure Science Fiction   \n",
              "\n",
              "                                       homepage      id  \\\n",
              "0                   http://www.avatarmovie.com/   19995   \n",
              "1  http://disney.go.com/disneypictures/pirates/     285   \n",
              "2   http://www.sonypictures.com/movies/spectre/  206647   \n",
              "3            http://www.thedarkknightrises.com/   49026   \n",
              "4          http://movies.disney.com/john-carter   49529   \n",
              "\n",
              "                                            keywords original_language  \\\n",
              "0  culture clash future space war space colony so...                en   \n",
              "1  ocean drug abuse exotic island east india trad...                en   \n",
              "2         spy based on novel secret agent sequel mi6                en   \n",
              "3  dc comics crime fighter terrorist secret ident...                en   \n",
              "4  based on novel mars medallion space travel pri...                en   \n",
              "\n",
              "                             original_title  \\\n",
              "0                                    Avatar   \n",
              "1  Pirates of the Caribbean: At World's End   \n",
              "2                                   Spectre   \n",
              "3                     The Dark Knight Rises   \n",
              "4                               John Carter   \n",
              "\n",
              "                                            overview  popularity  ... runtime  \\\n",
              "0  In the 22nd century, a paraplegic Marine is di...  150.437577  ...   162.0   \n",
              "1  Captain Barbossa, long believed to be dead, ha...  139.082615  ...   169.0   \n",
              "2  A cryptic message from Bond’s past sends him o...  107.376788  ...   148.0   \n",
              "3  Following the death of District Attorney Harve...  112.312950  ...   165.0   \n",
              "4  John Carter is a war-weary, former military ca...   43.926995  ...   132.0   \n",
              "\n",
              "                                    spoken_languages    status  \\\n",
              "0  [{\"iso_639_1\": \"en\", \"name\": \"English\"}, {\"iso...  Released   \n",
              "1           [{\"iso_639_1\": \"en\", \"name\": \"English\"}]  Released   \n",
              "2  [{\"iso_639_1\": \"fr\", \"name\": \"Fran\\u00e7ais\"},...  Released   \n",
              "3           [{\"iso_639_1\": \"en\", \"name\": \"English\"}]  Released   \n",
              "4           [{\"iso_639_1\": \"en\", \"name\": \"English\"}]  Released   \n",
              "\n",
              "                                          tagline  \\\n",
              "0                     Enter the World of Pandora.   \n",
              "1  At the end of the world, the adventure begins.   \n",
              "2                           A Plan No One Escapes   \n",
              "3                                 The Legend Ends   \n",
              "4            Lost in our world, found in another.   \n",
              "\n",
              "                                      title vote_average vote_count  \\\n",
              "0                                    Avatar          7.2    11800.0   \n",
              "1  Pirates of the Caribbean: At World's End          6.9     4500.0   \n",
              "2                                   Spectre          6.3     4466.0   \n",
              "3                     The Dark Knight Rises          7.6     9106.0   \n",
              "4                               John Carter          6.1     2124.0   \n",
              "\n",
              "                                                cast  \\\n",
              "0  Sam Worthington Zoe Saldana Sigourney Weaver S...   \n",
              "1  Johnny Depp Orlando Bloom Keira Knightley Stel...   \n",
              "2  Daniel Craig Christoph Waltz L\\u00e9a Seydoux ...   \n",
              "3  Christian Bale Michael Caine Gary Oldman Anne ...   \n",
              "4  Taylor Kitsch Lynn Collins Samantha Morton Wil...   \n",
              "\n",
              "                                                crew           director  \n",
              "0  [{'name': 'Stephen E. Rivkin', 'gender': 0, 'd...      James Cameron  \n",
              "1  [{'name': 'Dariusz Wolski', 'gender': 2, 'depa...     Gore Verbinski  \n",
              "2  [{'name': 'Thomas Newman', 'gender': 2, 'depar...         Sam Mendes  \n",
              "3  [{'name': 'Hans Zimmer', 'gender': 2, 'departm...  Christopher Nolan  \n",
              "4  [{'name': 'Andrew Stanton', 'gender': 2, 'depa...     Andrew Stanton  \n",
              "\n",
              "[5 rows x 24 columns]"
            ],
            "text/html": [
              "\n",
              "  <div id=\"df-883d4ce1-b86b-4145-a6ea-8294c9dabb5d\" class=\"colab-df-container\">\n",
              "    <div>\n",
              "<style scoped>\n",
              "    .dataframe tbody tr th:only-of-type {\n",
              "        vertical-align: middle;\n",
              "    }\n",
              "\n",
              "    .dataframe tbody tr th {\n",
              "        vertical-align: top;\n",
              "    }\n",
              "\n",
              "    .dataframe thead th {\n",
              "        text-align: right;\n",
              "    }\n",
              "</style>\n",
              "<table border=\"1\" class=\"dataframe\">\n",
              "  <thead>\n",
              "    <tr style=\"text-align: right;\">\n",
              "      <th></th>\n",
              "      <th>index</th>\n",
              "      <th>budget</th>\n",
              "      <th>genres</th>\n",
              "      <th>homepage</th>\n",
              "      <th>id</th>\n",
              "      <th>keywords</th>\n",
              "      <th>original_language</th>\n",
              "      <th>original_title</th>\n",
              "      <th>overview</th>\n",
              "      <th>popularity</th>\n",
              "      <th>...</th>\n",
              "      <th>runtime</th>\n",
              "      <th>spoken_languages</th>\n",
              "      <th>status</th>\n",
              "      <th>tagline</th>\n",
              "      <th>title</th>\n",
              "      <th>vote_average</th>\n",
              "      <th>vote_count</th>\n",
              "      <th>cast</th>\n",
              "      <th>crew</th>\n",
              "      <th>director</th>\n",
              "    </tr>\n",
              "  </thead>\n",
              "  <tbody>\n",
              "    <tr>\n",
              "      <th>0</th>\n",
              "      <td>0</td>\n",
              "      <td>237000000</td>\n",
              "      <td>Action Adventure Fantasy Science Fiction</td>\n",
              "      <td>http://www.avatarmovie.com/</td>\n",
              "      <td>19995</td>\n",
              "      <td>culture clash future space war space colony so...</td>\n",
              "      <td>en</td>\n",
              "      <td>Avatar</td>\n",
              "      <td>In the 22nd century, a paraplegic Marine is di...</td>\n",
              "      <td>150.437577</td>\n",
              "      <td>...</td>\n",
              "      <td>162.0</td>\n",
              "      <td>[{\"iso_639_1\": \"en\", \"name\": \"English\"}, {\"iso...</td>\n",
              "      <td>Released</td>\n",
              "      <td>Enter the World of Pandora.</td>\n",
              "      <td>Avatar</td>\n",
              "      <td>7.2</td>\n",
              "      <td>11800.0</td>\n",
              "      <td>Sam Worthington Zoe Saldana Sigourney Weaver S...</td>\n",
              "      <td>[{'name': 'Stephen E. Rivkin', 'gender': 0, 'd...</td>\n",
              "      <td>James Cameron</td>\n",
              "    </tr>\n",
              "    <tr>\n",
              "      <th>1</th>\n",
              "      <td>1</td>\n",
              "      <td>300000000</td>\n",
              "      <td>Adventure Fantasy Action</td>\n",
              "      <td>http://disney.go.com/disneypictures/pirates/</td>\n",
              "      <td>285</td>\n",
              "      <td>ocean drug abuse exotic island east india trad...</td>\n",
              "      <td>en</td>\n",
              "      <td>Pirates of the Caribbean: At World's End</td>\n",
              "      <td>Captain Barbossa, long believed to be dead, ha...</td>\n",
              "      <td>139.082615</td>\n",
              "      <td>...</td>\n",
              "      <td>169.0</td>\n",
              "      <td>[{\"iso_639_1\": \"en\", \"name\": \"English\"}]</td>\n",
              "      <td>Released</td>\n",
              "      <td>At the end of the world, the adventure begins.</td>\n",
              "      <td>Pirates of the Caribbean: At World's End</td>\n",
              "      <td>6.9</td>\n",
              "      <td>4500.0</td>\n",
              "      <td>Johnny Depp Orlando Bloom Keira Knightley Stel...</td>\n",
              "      <td>[{'name': 'Dariusz Wolski', 'gender': 2, 'depa...</td>\n",
              "      <td>Gore Verbinski</td>\n",
              "    </tr>\n",
              "    <tr>\n",
              "      <th>2</th>\n",
              "      <td>2</td>\n",
              "      <td>245000000</td>\n",
              "      <td>Action Adventure Crime</td>\n",
              "      <td>http://www.sonypictures.com/movies/spectre/</td>\n",
              "      <td>206647</td>\n",
              "      <td>spy based on novel secret agent sequel mi6</td>\n",
              "      <td>en</td>\n",
              "      <td>Spectre</td>\n",
              "      <td>A cryptic message from Bond’s past sends him o...</td>\n",
              "      <td>107.376788</td>\n",
              "      <td>...</td>\n",
              "      <td>148.0</td>\n",
              "      <td>[{\"iso_639_1\": \"fr\", \"name\": \"Fran\\u00e7ais\"},...</td>\n",
              "      <td>Released</td>\n",
              "      <td>A Plan No One Escapes</td>\n",
              "      <td>Spectre</td>\n",
              "      <td>6.3</td>\n",
              "      <td>4466.0</td>\n",
              "      <td>Daniel Craig Christoph Waltz L\\u00e9a Seydoux ...</td>\n",
              "      <td>[{'name': 'Thomas Newman', 'gender': 2, 'depar...</td>\n",
              "      <td>Sam Mendes</td>\n",
              "    </tr>\n",
              "    <tr>\n",
              "      <th>3</th>\n",
              "      <td>3</td>\n",
              "      <td>250000000</td>\n",
              "      <td>Action Crime Drama Thriller</td>\n",
              "      <td>http://www.thedarkknightrises.com/</td>\n",
              "      <td>49026</td>\n",
              "      <td>dc comics crime fighter terrorist secret ident...</td>\n",
              "      <td>en</td>\n",
              "      <td>The Dark Knight Rises</td>\n",
              "      <td>Following the death of District Attorney Harve...</td>\n",
              "      <td>112.312950</td>\n",
              "      <td>...</td>\n",
              "      <td>165.0</td>\n",
              "      <td>[{\"iso_639_1\": \"en\", \"name\": \"English\"}]</td>\n",
              "      <td>Released</td>\n",
              "      <td>The Legend Ends</td>\n",
              "      <td>The Dark Knight Rises</td>\n",
              "      <td>7.6</td>\n",
              "      <td>9106.0</td>\n",
              "      <td>Christian Bale Michael Caine Gary Oldman Anne ...</td>\n",
              "      <td>[{'name': 'Hans Zimmer', 'gender': 2, 'departm...</td>\n",
              "      <td>Christopher Nolan</td>\n",
              "    </tr>\n",
              "    <tr>\n",
              "      <th>4</th>\n",
              "      <td>4</td>\n",
              "      <td>260000000</td>\n",
              "      <td>Action Adventure Science Fiction</td>\n",
              "      <td>http://movies.disney.com/john-carter</td>\n",
              "      <td>49529</td>\n",
              "      <td>based on novel mars medallion space travel pri...</td>\n",
              "      <td>en</td>\n",
              "      <td>John Carter</td>\n",
              "      <td>John Carter is a war-weary, former military ca...</td>\n",
              "      <td>43.926995</td>\n",
              "      <td>...</td>\n",
              "      <td>132.0</td>\n",
              "      <td>[{\"iso_639_1\": \"en\", \"name\": \"English\"}]</td>\n",
              "      <td>Released</td>\n",
              "      <td>Lost in our world, found in another.</td>\n",
              "      <td>John Carter</td>\n",
              "      <td>6.1</td>\n",
              "      <td>2124.0</td>\n",
              "      <td>Taylor Kitsch Lynn Collins Samantha Morton Wil...</td>\n",
              "      <td>[{'name': 'Andrew Stanton', 'gender': 2, 'depa...</td>\n",
              "      <td>Andrew Stanton</td>\n",
              "    </tr>\n",
              "  </tbody>\n",
              "</table>\n",
              "<p>5 rows × 24 columns</p>\n",
              "</div>\n",
              "    <div class=\"colab-df-buttons\">\n",
              "\n",
              "  <div class=\"colab-df-container\">\n",
              "    <button class=\"colab-df-convert\" onclick=\"convertToInteractive('df-883d4ce1-b86b-4145-a6ea-8294c9dabb5d')\"\n",
              "            title=\"Convert this dataframe to an interactive table.\"\n",
              "            style=\"display:none;\">\n",
              "\n",
              "  <svg xmlns=\"http://www.w3.org/2000/svg\" height=\"24px\" viewBox=\"0 -960 960 960\">\n",
              "    <path d=\"M120-120v-720h720v720H120Zm60-500h600v-160H180v160Zm220 220h160v-160H400v160Zm0 220h160v-160H400v160ZM180-400h160v-160H180v160Zm440 0h160v-160H620v160ZM180-180h160v-160H180v160Zm440 0h160v-160H620v160Z\"/>\n",
              "  </svg>\n",
              "    </button>\n",
              "\n",
              "  <style>\n",
              "    .colab-df-container {\n",
              "      display:flex;\n",
              "      gap: 12px;\n",
              "    }\n",
              "\n",
              "    .colab-df-convert {\n",
              "      background-color: #E8F0FE;\n",
              "      border: none;\n",
              "      border-radius: 50%;\n",
              "      cursor: pointer;\n",
              "      display: none;\n",
              "      fill: #1967D2;\n",
              "      height: 32px;\n",
              "      padding: 0 0 0 0;\n",
              "      width: 32px;\n",
              "    }\n",
              "\n",
              "    .colab-df-convert:hover {\n",
              "      background-color: #E2EBFA;\n",
              "      box-shadow: 0px 1px 2px rgba(60, 64, 67, 0.3), 0px 1px 3px 1px rgba(60, 64, 67, 0.15);\n",
              "      fill: #174EA6;\n",
              "    }\n",
              "\n",
              "    .colab-df-buttons div {\n",
              "      margin-bottom: 4px;\n",
              "    }\n",
              "\n",
              "    [theme=dark] .colab-df-convert {\n",
              "      background-color: #3B4455;\n",
              "      fill: #D2E3FC;\n",
              "    }\n",
              "\n",
              "    [theme=dark] .colab-df-convert:hover {\n",
              "      background-color: #434B5C;\n",
              "      box-shadow: 0px 1px 3px 1px rgba(0, 0, 0, 0.15);\n",
              "      filter: drop-shadow(0px 1px 2px rgba(0, 0, 0, 0.3));\n",
              "      fill: #FFFFFF;\n",
              "    }\n",
              "  </style>\n",
              "\n",
              "    <script>\n",
              "      const buttonEl =\n",
              "        document.querySelector('#df-883d4ce1-b86b-4145-a6ea-8294c9dabb5d button.colab-df-convert');\n",
              "      buttonEl.style.display =\n",
              "        google.colab.kernel.accessAllowed ? 'block' : 'none';\n",
              "\n",
              "      async function convertToInteractive(key) {\n",
              "        const element = document.querySelector('#df-883d4ce1-b86b-4145-a6ea-8294c9dabb5d');\n",
              "        const dataTable =\n",
              "          await google.colab.kernel.invokeFunction('convertToInteractive',\n",
              "                                                    [key], {});\n",
              "        if (!dataTable) return;\n",
              "\n",
              "        const docLinkHtml = 'Like what you see? Visit the ' +\n",
              "          '<a target=\"_blank\" href=https://colab.research.google.com/notebooks/data_table.ipynb>data table notebook</a>'\n",
              "          + ' to learn more about interactive tables.';\n",
              "        element.innerHTML = '';\n",
              "        dataTable['output_type'] = 'display_data';\n",
              "        await google.colab.output.renderOutput(dataTable, element);\n",
              "        const docLink = document.createElement('div');\n",
              "        docLink.innerHTML = docLinkHtml;\n",
              "        element.appendChild(docLink);\n",
              "      }\n",
              "    </script>\n",
              "  </div>\n",
              "\n",
              "\n",
              "<div id=\"df-d4ed9895-0677-4350-89bc-a9d174e6a549\">\n",
              "  <button class=\"colab-df-quickchart\" onclick=\"quickchart('df-d4ed9895-0677-4350-89bc-a9d174e6a549')\"\n",
              "            title=\"Suggest charts.\"\n",
              "            style=\"display:none;\">\n",
              "\n",
              "<svg xmlns=\"http://www.w3.org/2000/svg\" height=\"24px\"viewBox=\"0 0 24 24\"\n",
              "     width=\"24px\">\n",
              "    <g>\n",
              "        <path d=\"M19 3H5c-1.1 0-2 .9-2 2v14c0 1.1.9 2 2 2h14c1.1 0 2-.9 2-2V5c0-1.1-.9-2-2-2zM9 17H7v-7h2v7zm4 0h-2V7h2v10zm4 0h-2v-4h2v4z\"/>\n",
              "    </g>\n",
              "</svg>\n",
              "  </button>\n",
              "\n",
              "<style>\n",
              "  .colab-df-quickchart {\n",
              "      --bg-color: #E8F0FE;\n",
              "      --fill-color: #1967D2;\n",
              "      --hover-bg-color: #E2EBFA;\n",
              "      --hover-fill-color: #174EA6;\n",
              "      --disabled-fill-color: #AAA;\n",
              "      --disabled-bg-color: #DDD;\n",
              "  }\n",
              "\n",
              "  [theme=dark] .colab-df-quickchart {\n",
              "      --bg-color: #3B4455;\n",
              "      --fill-color: #D2E3FC;\n",
              "      --hover-bg-color: #434B5C;\n",
              "      --hover-fill-color: #FFFFFF;\n",
              "      --disabled-bg-color: #3B4455;\n",
              "      --disabled-fill-color: #666;\n",
              "  }\n",
              "\n",
              "  .colab-df-quickchart {\n",
              "    background-color: var(--bg-color);\n",
              "    border: none;\n",
              "    border-radius: 50%;\n",
              "    cursor: pointer;\n",
              "    display: none;\n",
              "    fill: var(--fill-color);\n",
              "    height: 32px;\n",
              "    padding: 0;\n",
              "    width: 32px;\n",
              "  }\n",
              "\n",
              "  .colab-df-quickchart:hover {\n",
              "    background-color: var(--hover-bg-color);\n",
              "    box-shadow: 0 1px 2px rgba(60, 64, 67, 0.3), 0 1px 3px 1px rgba(60, 64, 67, 0.15);\n",
              "    fill: var(--button-hover-fill-color);\n",
              "  }\n",
              "\n",
              "  .colab-df-quickchart-complete:disabled,\n",
              "  .colab-df-quickchart-complete:disabled:hover {\n",
              "    background-color: var(--disabled-bg-color);\n",
              "    fill: var(--disabled-fill-color);\n",
              "    box-shadow: none;\n",
              "  }\n",
              "\n",
              "  .colab-df-spinner {\n",
              "    border: 2px solid var(--fill-color);\n",
              "    border-color: transparent;\n",
              "    border-bottom-color: var(--fill-color);\n",
              "    animation:\n",
              "      spin 1s steps(1) infinite;\n",
              "  }\n",
              "\n",
              "  @keyframes spin {\n",
              "    0% {\n",
              "      border-color: transparent;\n",
              "      border-bottom-color: var(--fill-color);\n",
              "      border-left-color: var(--fill-color);\n",
              "    }\n",
              "    20% {\n",
              "      border-color: transparent;\n",
              "      border-left-color: var(--fill-color);\n",
              "      border-top-color: var(--fill-color);\n",
              "    }\n",
              "    30% {\n",
              "      border-color: transparent;\n",
              "      border-left-color: var(--fill-color);\n",
              "      border-top-color: var(--fill-color);\n",
              "      border-right-color: var(--fill-color);\n",
              "    }\n",
              "    40% {\n",
              "      border-color: transparent;\n",
              "      border-right-color: var(--fill-color);\n",
              "      border-top-color: var(--fill-color);\n",
              "    }\n",
              "    60% {\n",
              "      border-color: transparent;\n",
              "      border-right-color: var(--fill-color);\n",
              "    }\n",
              "    80% {\n",
              "      border-color: transparent;\n",
              "      border-right-color: var(--fill-color);\n",
              "      border-bottom-color: var(--fill-color);\n",
              "    }\n",
              "    90% {\n",
              "      border-color: transparent;\n",
              "      border-bottom-color: var(--fill-color);\n",
              "    }\n",
              "  }\n",
              "</style>\n",
              "\n",
              "  <script>\n",
              "    async function quickchart(key) {\n",
              "      const quickchartButtonEl =\n",
              "        document.querySelector('#' + key + ' button');\n",
              "      quickchartButtonEl.disabled = true;  // To prevent multiple clicks.\n",
              "      quickchartButtonEl.classList.add('colab-df-spinner');\n",
              "      try {\n",
              "        const charts = await google.colab.kernel.invokeFunction(\n",
              "            'suggestCharts', [key], {});\n",
              "      } catch (error) {\n",
              "        console.error('Error during call to suggestCharts:', error);\n",
              "      }\n",
              "      quickchartButtonEl.classList.remove('colab-df-spinner');\n",
              "      quickchartButtonEl.classList.add('colab-df-quickchart-complete');\n",
              "    }\n",
              "    (() => {\n",
              "      let quickchartButtonEl =\n",
              "        document.querySelector('#df-d4ed9895-0677-4350-89bc-a9d174e6a549 button');\n",
              "      quickchartButtonEl.style.display =\n",
              "        google.colab.kernel.accessAllowed ? 'block' : 'none';\n",
              "    })();\n",
              "  </script>\n",
              "</div>\n",
              "    </div>\n",
              "  </div>\n"
            ]
          },
          "metadata": {},
          "execution_count": 11
        }
      ]
    },
    {
      "cell_type": "code",
      "source": [
        "movies_data.shape\n"
      ],
      "metadata": {
        "colab": {
          "base_uri": "https://localhost:8080/"
        },
        "id": "bekBl9fF-L6H",
        "outputId": "82ea304e-7f8a-4c55-968d-19059b021092"
      },
      "execution_count": 12,
      "outputs": [
        {
          "output_type": "execute_result",
          "data": {
            "text/plain": [
              "(3803, 24)"
            ]
          },
          "metadata": {},
          "execution_count": 12
        }
      ]
    },
    {
      "cell_type": "code",
      "source": [
        "#selecting columns\n",
        "\n",
        "selected_features = ['genres','keywords', 'tagline','cast', 'director']\n",
        "print(selected_features)"
      ],
      "metadata": {
        "colab": {
          "base_uri": "https://localhost:8080/"
        },
        "id": "ysLZ385l-tT9",
        "outputId": "2c83a29f-8fb5-4de5-8e53-1e4f4ae19fcc"
      },
      "execution_count": 13,
      "outputs": [
        {
          "output_type": "stream",
          "name": "stdout",
          "text": [
            "['genres', 'keywords', 'tagline', 'cast', 'director']\n"
          ]
        }
      ]
    },
    {
      "cell_type": "code",
      "source": [
        "for feature in selected_features:\n",
        "  movies_data[feature] = movies_data[feature].fillna('')"
      ],
      "metadata": {
        "id": "t0_0wtSC_Mry"
      },
      "execution_count": 14,
      "outputs": []
    },
    {
      "cell_type": "code",
      "source": [
        "combined_features = movies_data['genres'] + ' ' + movies_data['keywords'] + ' ' + movies_data['tagline'] + ' ' + movies_data['cast'] + ' ' + movies_data['director']"
      ],
      "metadata": {
        "id": "Ar0fEe0L_kur"
      },
      "execution_count": 15,
      "outputs": []
    },
    {
      "cell_type": "code",
      "source": [
        "print(combined_features)"
      ],
      "metadata": {
        "colab": {
          "base_uri": "https://localhost:8080/"
        },
        "id": "td_7UoDu_mdA",
        "outputId": "b44d9a18-5dfa-43d4-dfae-0f022dcb6857"
      },
      "execution_count": 16,
      "outputs": [
        {
          "output_type": "stream",
          "name": "stdout",
          "text": [
            "0       Action Adventure Fantasy Science Fiction cultu...\n",
            "1       Adventure Fantasy Action ocean drug abuse exot...\n",
            "2       Action Adventure Crime spy based on novel secr...\n",
            "3       Action Crime Drama Thriller dc comics crime fi...\n",
            "4       Action Adventure Science Fiction based on nove...\n",
            "                              ...                        \n",
            "3798    Comedy Drama  At this wedding, the F-word stan...\n",
            "3799    Adventure Action Thriller Crime terror scotlan...\n",
            "3800    Comedy Fantasy Science Fiction loser bullying ...\n",
            "3801    Drama alcohol adultery river camping province ...\n",
            "3802                  Drama Comedy History Music usa c   \n",
            "Length: 3803, dtype: object\n"
          ]
        }
      ]
    },
    {
      "cell_type": "code",
      "source": [
        "combined_features.shape\n"
      ],
      "metadata": {
        "colab": {
          "base_uri": "https://localhost:8080/"
        },
        "id": "vis0rS_uAKgJ",
        "outputId": "c1a52ac1-c702-4d15-99dc-b7f252b0e7c7"
      },
      "execution_count": 17,
      "outputs": [
        {
          "output_type": "execute_result",
          "data": {
            "text/plain": [
              "(3803,)"
            ]
          },
          "metadata": {},
          "execution_count": 17
        }
      ]
    },
    {
      "cell_type": "code",
      "source": [
        "vectorizer = TfidfVectorizer()\n",
        "feature_vectors = vectorizer.fit_transform(combined_features)"
      ],
      "metadata": {
        "id": "npBte6soATGH"
      },
      "execution_count": 18,
      "outputs": []
    },
    {
      "cell_type": "code",
      "source": [
        "print(feature_vectors)"
      ],
      "metadata": {
        "colab": {
          "base_uri": "https://localhost:8080/"
        },
        "id": "8P99L3bzAdS-",
        "outputId": "433e97f7-afcf-41ab-e544-d419f3629a46"
      },
      "execution_count": 19,
      "outputs": [
        {
          "output_type": "stream",
          "name": "stdout",
          "text": [
            "  (0, 1955)\t0.17325808891276728\n",
            "  (0, 6371)\t0.11499267777948705\n",
            "  (0, 10703)\t0.1967992090221845\n",
            "  (0, 8396)\t0.16169837494577272\n",
            "  (0, 7186)\t0.2296627090227083\n",
            "  (0, 12012)\t0.15282238422201544\n",
            "  (0, 13732)\t0.19804791484117854\n",
            "  (0, 11558)\t0.20357519610117245\n",
            "  (0, 10938)\t0.21411180371382496\n",
            "  (0, 14250)\t0.20672870277406405\n",
            "  (0, 14029)\t0.23314874891759035\n",
            "  (0, 10963)\t0.1497279083891937\n",
            "  (0, 9425)\t0.26949828881299615\n",
            "  (0, 9174)\t0.09074110662959092\n",
            "  (0, 14021)\t0.12649979551885573\n",
            "  (0, 12557)\t0.07036243677389624\n",
            "  (0, 4026)\t0.2370458099624692\n",
            "  (0, 11732)\t0.21411180371382496\n",
            "  (0, 2600)\t0.2465642825643519\n",
            "  (0, 13661)\t0.12329309465913228\n",
            "  (0, 11824)\t0.3354616153055467\n",
            "  (0, 4789)\t0.1648094898420996\n",
            "  (0, 2470)\t0.2265092023498167\n",
            "  (0, 2984)\t0.2296627090227083\n",
            "  (0, 4445)\t0.10320179465216495\n",
            "  :\t:\n",
            "  (3800, 4445)\t0.10834984254752149\n",
            "  (3800, 11170)\t0.10834984254752149\n",
            "  (3800, 4302)\t0.11341445190244642\n",
            "  (3801, 13448)\t0.2496189902051291\n",
            "  (3801, 12000)\t0.2496189902051291\n",
            "  (3801, 275)\t0.2496189902051291\n",
            "  (3801, 6860)\t0.2496189902051291\n",
            "  (3801, 4145)\t0.2496189902051291\n",
            "  (3801, 10665)\t0.2496189902051291\n",
            "  (3801, 7713)\t0.2496189902051291\n",
            "  (3801, 10101)\t0.23778226928123758\n",
            "  (3801, 359)\t0.458767964266321\n",
            "  (3801, 3907)\t0.21754726120926893\n",
            "  (3801, 1964)\t0.2293839821331605\n",
            "  (3801, 6848)\t0.2293839821331605\n",
            "  (3801, 7008)\t0.22286976453452123\n",
            "  (3801, 227)\t0.16778064255368833\n",
            "  (3801, 10655)\t0.1889139659892232\n",
            "  (3801, 349)\t0.16778064255368833\n",
            "  (3801, 3662)\t0.05102083478451377\n",
            "  (3802, 8779)\t0.5104679863597391\n",
            "  (3802, 13362)\t0.6343323460659639\n",
            "  (3802, 5806)\t0.48001180042230235\n",
            "  (3802, 2621)\t0.24552731765005456\n",
            "  (3802, 3662)\t0.2152903095338758\n"
          ]
        }
      ]
    },
    {
      "cell_type": "code",
      "source": [
        "#cosine similarity calculate\n",
        "\n",
        "similarity = cosine_similarity(feature_vectors)\n",
        "print(similarity)"
      ],
      "metadata": {
        "colab": {
          "base_uri": "https://localhost:8080/"
        },
        "id": "3MueC6iOBdRO",
        "outputId": "24857eed-59a2-4c07-87f3-d7cfb11cd874"
      },
      "execution_count": 20,
      "outputs": [
        {
          "output_type": "stream",
          "name": "stdout",
          "text": [
            "[[1.         0.06982297 0.03673202 ... 0.03461548 0.         0.        ]\n",
            " [0.06982297 1.         0.03134024 ... 0.01074155 0.         0.        ]\n",
            " [0.03673202 0.03134024 1.         ... 0.         0.         0.        ]\n",
            " ...\n",
            " [0.03461548 0.01074155 0.         ... 1.         0.         0.01699966]\n",
            " [0.         0.         0.         ... 0.         1.         0.01098429]\n",
            " [0.         0.         0.         ... 0.01699966 0.01098429 1.        ]]\n"
          ]
        }
      ]
    },
    {
      "cell_type": "code",
      "source": [
        "print(similarity.shape)"
      ],
      "metadata": {
        "colab": {
          "base_uri": "https://localhost:8080/"
        },
        "id": "GcDKXO-bByib",
        "outputId": "4ebb3aa9-2043-4d38-9d54-515b84864f8a"
      },
      "execution_count": 21,
      "outputs": [
        {
          "output_type": "stream",
          "name": "stdout",
          "text": [
            "(3803, 3803)\n"
          ]
        }
      ]
    },
    {
      "cell_type": "code",
      "source": [
        "#user input to find matching movies\n",
        "\n",
        "movie_name = input('enter the movie name : ')\n",
        "list_of_titles = movies_data['title'].dropna().tolist()\n",
        "\n",
        "close_match = difflib.get_close_matches(movie_name , list_of_titles)\n",
        "print(close_match)\n",
        "\n"
      ],
      "metadata": {
        "colab": {
          "base_uri": "https://localhost:8080/"
        },
        "id": "7TeTisDNB7QS",
        "outputId": "4541d20e-6ad7-48ff-b8b3-bc69c7a75015"
      },
      "execution_count": 23,
      "outputs": [
        {
          "output_type": "stream",
          "name": "stdout",
          "text": [
            "enter the movie name : iron man\n",
            "['Iron Man', 'Iron Man 3', 'Iron Man 2']\n"
          ]
        }
      ]
    },
    {
      "cell_type": "code",
      "source": [
        "close_match = close_match[0]\n",
        "print(close_match)\n"
      ],
      "metadata": {
        "colab": {
          "base_uri": "https://localhost:8080/"
        },
        "id": "t9u15a6KC29i",
        "outputId": "b87f5be4-fc00-4906-cd54-7be67a54fe9c"
      },
      "execution_count": 24,
      "outputs": [
        {
          "output_type": "stream",
          "name": "stdout",
          "text": [
            "Iron Man\n"
          ]
        }
      ]
    },
    {
      "cell_type": "code",
      "source": [
        "#finding index of the movie\n",
        "index = movies_data[movies_data.title == close_match]['index'].values[0]\n",
        "print(index)"
      ],
      "metadata": {
        "colab": {
          "base_uri": "https://localhost:8080/"
        },
        "id": "UaqT6Hl0Ev-n",
        "outputId": "47fd824c-f6b2-41b3-f478-07083e302f19"
      },
      "execution_count": 25,
      "outputs": [
        {
          "output_type": "stream",
          "name": "stdout",
          "text": [
            "68\n"
          ]
        }
      ]
    },
    {
      "cell_type": "code",
      "source": [
        "#getting list of similar movies\n",
        "similarity_score = list(enumerate(similarity[index]))\n",
        "print(similarity_score)"
      ],
      "metadata": {
        "colab": {
          "base_uri": "https://localhost:8080/"
        },
        "id": "Io4v5yFbFcvY",
        "outputId": "1976abc0-31b8-4afe-96e6-d8e7896aa8fc"
      },
      "execution_count": 26,
      "outputs": [
        {
          "output_type": "stream",
          "name": "stdout",
          "text": [
            "[(0, 0.032386996765788253), (1, 0.054732027237567996), (2, 0.012777128569029076), (3, 0.006045124455131478), (4, 0.03149764973956762), (5, 0.012835767117063066), (6, 0.07716549140047418), (7, 0.2376294162085494), (8, 0.007227790388795252), (9, 0.07459839712631763), (10, 0.07494888501133909), (11, 0.010991078911025777), (12, 0.012695157952833838), (13, 0.011347271855336141), (14, 0.09533038683060381), (15, 0.006653468007541191), (16, 0.22550152370111418), (17, 0.012167656919373084), (18, 0.04045839587877891), (19, 0.07817305207522163), (20, 0.07645751825594041), (21, 0.01040962355340954), (22, 0.006362984013477211), (23, 0.0060592964848213), (24, 0.01153299453234101), (25, 0.0), (26, 0.21393300865856762), (27, 0.029517826678698404), (28, 0.06082668339027722), (29, 0.013029250992465019), (30, 0.07738782905891803), (31, 0.30832937136726607), (32, 0.028543417521816515), (33, 0.12748453799561188), (34, 0.0), (35, 0.03427504129001759), (36, 0.0307381217299286), (37, 0.0073312096103818995), (38, 0.10882680996851699), (39, 0.08882348519904978), (40, 0.007441210133974748), (41, 0.06432894536057938), (42, 0.0), (43, 0.05525618367970298), (44, 0.005752027646326117), (45, 0.0230486341385487), (46, 0.1386933717314303), (47, 0.03596567004812609), (48, 0.012787840861019233), (49, 0.0), (50, 0.011956009846393504), (51, 0.026621932791065624), (52, 0.029214149298921938), (53, 0.02072845759805668), (54, 0.049029777408779694), (55, 0.01297271694341505), (56, 0.0363547029817111), (57, 0.03549973106610681), (58, 0.006132781997564298), (59, 0.030718788299395637), (60, 0.013993363687426085), (61, 0.03239712228643805), (62, 0.012283777661268064), (63, 0.006468471613671785), (64, 0.15092905117742403), (65, 0.0055142810598871154), (66, 0.006609493710614266), (67, 0.027818292836270807), (68, 1.0000000000000002), (69, 0.01188073211235947), (70, 0.031866441745312904), (71, 0.016330743913322152), (72, 0.06926770245190028), (73, 0.0), (74, 0.02548623847402498), (75, 0.011779049039042096), (76, 0.0501176573097835), (77, 0.0), (78, 0.08427724102756802), (79, 0.40379182660763396), (80, 0.007625438159420544), (81, 0.01998054832756401), (82, 0.02669805371543485), (83, 0.033287265087861145), (84, 0.010041322913840134), (85, 0.20358489038657382), (86, 0.005847098035719022), (87, 0.02644735522359238), (88, 0.012067173425585036), (89, 0.005968896079307612), (90, 0.019827921583908434), (91, 0.07196997426023458), (92, 0.014476747695213208), (93, 0.024488047448693328), (94, 0.1316566698117334), (95, 0.06178876061518883), (96, 0.03219191900771647), (97, 0.025279419888821004), (98, 0.04863885914387522), (99, 0.005166900575966815), (100, 0.0), (101, 0.14117238492589082), (102, 0.03449084873969331), (103, 0.03623081515906372), (104, 0.012614516573593079), (105, 0.0), (106, 0.007331891915617759), (107, 0.027256811779497837), (108, 0.03243696442476962), (109, 0.005104611692148147), (110, 0.0396784796159437), (111, 0.034398435597705404), (112, 0.012292827027211288), (113, 0.007161027696378777), (114, 0.006421386441557827), (115, 0.005210328430601532), (116, 0.022725557432974025), (117, 0.006367488409727854), (118, 0.0), (119, 0.005697311139454826), (120, 0.0), (121, 0.011670676844012483), (122, 0.10458651475149601), (123, 0.030189434674601907), (124, 0.006254069765056416), (125, 0.029844227028856935), (126, 0.13085208846797108), (127, 0.03405847350812191), (128, 0.03077369184967737), (129, 0.07843639530959104), (130, 0.006213216040801781), (131, 0.12911730957690404), (132, 0.0065062560266169744), (133, 0.0), (134, 0.011704178343842955), (135, 0.0), (136, 0.04176878732059786), (137, 0.0), (138, 0.1191908587234044), (139, 0.011213820950622056), (140, 0.005538826302803936), (141, 0.006768853573961289), (142, 0.007646022791987043), (143, 0.007198479880852177), (144, 0.006978888158214315), (145, 0.0057703023655511455), (146, 0.030200242007299757), (147, 0.011203093405454796), (148, 0.0053836280741999575), (149, 0.031175524056472295), (150, 0.031283408705629616), (151, 0.025216855636047197), (152, 0.011685518707433335), (153, 0.011504921255617202), (154, 0.0), (155, 0.0), (156, 0.00442855172402), (157, 0.013006701249561537), (158, 0.03418666465285652), (159, 0.005015774930146296), (160, 0.012498577318761205), (161, 0.0), (162, 0.006566677776008242), (163, 0.049366931715056295), (164, 0.01811270510256623), (165, 0.028034852358204177), (166, 0.06411750651166721), (167, 0.019664840892207526), (168, 0.031015939186541056), (169, 0.13353543509852026), (170, 0.021283127274730886), (171, 0.006479227263206571), (172, 0.019635168042856158), (173, 0.0), (174, 0.14381137978831626), (175, 0.006665659542484997), (176, 0.006376482829817287), (177, 0.0), (178, 0.042696552941221856), (179, 0.0071887398230000045), (180, 0.005757592875776505), (181, 0.007251149246021653), (182, 0.19247495505908488), (183, 0.033773435453577395), (184, 0.022365911140326898), (185, 0.06749111686445336), (186, 0.010812176673424274), (187, 0.018374334032074058), (188, 0.005504427950202639), (189, 0.0077313110802761575), (190, 0.013176048711668957), (191, 0.00676794815375116), (192, 0.0), (193, 0.03407296989611845), (194, 0.0), (195, 0.006604208039144561), (196, 0.0266715519685756), (197, 0.00715826113585178), (198, 0.08059014743388339), (199, 0.04949823513135893), (200, 0.027979619867853484), (201, 0.030988882233368972), (202, 0.0067272435456644), (203, 0.14555534743794216), (204, 0.005334751651133695), (205, 0.08883341829556254), (206, 0.011481123685421629), (207, 0.04570843195402917), (208, 0.011881452957970483), (209, 0.005521535817274639), (210, 0.005196226332922427), (211, 0.028763262400793164), (212, 0.03042853411580517), (213, 0.013631434106105452), (214, 0.0), (215, 0.01296729471923142), (216, 0.011353589995619535), (217, 0.005180743376761617), (218, 0.006359154902400166), (219, 0.02857883055161016), (220, 0.024184730728874827), (221, 0.007387063082638913), (222, 0.026347378369841044), (223, 0.02312781216172924), (224, 0.024276736385596045), (225, 0.028383073558065516), (226, 0.0), (227, 0.005322149976457185), (228, 0.030306928439022926), (229, 0.033072226306886256), (230, 0.02554547973807695), (231, 0.0), (232, 0.0879430190777612), (233, 0.026530840824955784), (234, 0.007137655238194671), (235, 0.00644497940272015), (236, 0.005409672826784908), (237, 0.011601328860611462), (238, 0.065720373080032), (239, 0.017991219341173457), (240, 0.012537575998416758), (241, 0.0403199558592855), (242, 0.10229717621472234), (243, 0.012050167160549137), (244, 0.004529600335591639), (245, 0.010734080177864432), (246, 0.004999850424631206), (247, 0.0), (248, 0.0056615105481059415), (249, 0.040437739386541285), (250, 0.0), (251, 0.0), (252, 0.005471185336769901), (253, 0.004467342855943311), (254, 0.03408970596965714), (255, 0.0), (256, 0.040008536341068726), (257, 0.025102486603208587), (258, 0.0), (259, 0.011014921533430387), (260, 0.0321322668612143), (261, 0.006153328874138056), (262, 0.05041803911414166), (263, 0.024932126685859913), (264, 0.021347682110819905), (265, 0.0), (266, 0.025706821438893888), (267, 0.01021986557951983), (268, 0.0), (269, 0.0), (270, 0.056138031049357426), (271, 0.03560949790088457), (272, 0.0), (273, 0.005077848923167056), (274, 0.013261956830919172), (275, 0.02398911914024198), (276, 0.007090052568544817), (277, 0.012312977297154734), (278, 0.06406195464873433), (279, 0.04082809422743715), (280, 0.0), (281, 0.0), (282, 0.004810793766094037), (283, 0.0), (284, 0.01332781614139175), (285, 0.004944691689235843), (286, 0.018839151432651864), (287, 0.0), (288, 0.0), (289, 0.006670226012266367), (290, 0.01271324557952191), (291, 0.05908357323620872), (292, 0.02117721328545828), (293, 0.0), (294, 0.0075243299897209265), (295, 0.005074069532905567), (296, 0.005618727448690963), (297, 0.005490213830195231), (298, 0.0), (299, 0.005528139705334508), (300, 0.026744160335930196), (301, 0.02070811679560135), (302, 0.006900270657899069), (303, 0.005466344332609724), (304, 0.011715476617028762), (305, 0.026935493945944307), (306, 0.027182993320470607), (307, 0.09411865281376383), (308, 0.0046195928638677435), (309, 0.04043104408540938), (310, 0.04047074897279597), (311, 0.03197448675385557), (312, 0.01087116431270172), (313, 0.02601288036712337), (314, 0.0), (315, 0.010842795439045599), (316, 0.04109555116406205), (317, 0.0), (318, 0.07503287173758633), (319, 0.026963412735240486), (320, 0.005424352926644293), (321, 0.0), (322, 0.03348883402981835), (323, 0.0), (324, 0.043831073219251455), (325, 0.010359048585145364), (326, 0.0), (327, 0.0), (328, 0.03369859802743919), (329, 0.05028245207137071), (330, 0.051671028565044276), (331, 0.04962878454141033), (332, 0.06132514502477239), (333, 0.017379170040489514), (334, 0.03007538054806256), (335, 0.02510184999403822), (336, 0.006373413039822624), (337, 0.003545770960870446), (338, 0.0), (339, 0.013125040978165449), (340, 0.014952770154175034), (341, 0.006679328515218096), (342, 0.02956667653138972), (343, 0.0), (344, 0.004387293755538813), (345, 0.031197306450348152), (346, 0.011786342779719692), (347, 0.011511352084330857), (348, 0.006862210283538236), (349, 0.006592447140621727), (350, 0.02097634233761357), (351, 0.0), (352, 0.006427828576183706), (353, 0.11048241706471125), (354, 0.0), (355, 0.0055906510617120785), (356, 0.08794074148727994), (357, 0.0), (358, 0.02489133720686002), (359, 0.006648904570465608), (360, 0.01653870999073213), (361, 0.08451686439789194), (362, 0.027279793702325715), (363, 0.01898158188476883), (364, 0.0), (365, 0.030190349400358488), (366, 0.03103398202570019), (367, 0.0), (368, 0.005955790305492862), (369, 0.009997837649749701), (370, 0.03595944973462882), (371, 0.02550147898686111), (372, 0.017605236078838137), (373, 0.021417347864117104), (374, 0.006151704778950861), (375, 0.01799153517846521), (376, 0.02360992616558531), (377, 0.025231208610696332), (378, 0.0), (379, 0.010472602668663015), (380, 0.025609919266010722), (381, 0.006518866290802537), (382, 0.06000106131499659), (383, 0.011519807539577907), (384, 0.019726725506959253), (385, 0.0), (386, 0.02315979937433476), (387, 0.005340451080981082), (388, 0.0), (389, 0.021837565104893864), (390, 0.0), (391, 0.0), (392, 0.005105002748055374), (393, 0.03035456767806359), (394, 0.005418805892701664), (395, 0.0), (396, 0.07248305699162039), (397, 0.0), (398, 0.0), (399, 0.006051210046043895), (400, 0.028165834455316747), (401, 0.08096894437874318), (402, 0.03405086368271315), (403, 0.011401278894727156), (404, 0.0), (405, 0.0041738598407278695), (406, 0.0), (407, 0.0), (408, 0.0054287238360458375), (409, 0.0), (410, 0.025083600375526684), (411, 0.009466610211027113), (412, 0.05079308977794977), (413, 0.020369886996355176), (414, 0.028652829939772306), (415, 0.026611294172180756), (416, 0.0), (417, 0.0), (418, 0.0), (419, 0.028959605027892982), (420, 0.05888228550335374), (421, 0.07422383621576384), (422, 0.01957507702760739), (423, 0.0), (424, 0.012162890258105503), (425, 0.03871123656987149), (426, 0.02537236985661025), (427, 0.0), (428, 0.005715479238434363), (429, 0.0), (430, 0.0), (431, 0.0), (432, 0.018345319029376417), (433, 0.0059173416935039), (434, 0.0), (435, 0.0), (436, 0.06132422204199896), (437, 0.005995426404051688), (438, 0.0), (439, 0.0), (440, 0.033994084684806754), (441, 0.042213519306419006), (442, 0.02172879132748668), (443, 0.015203593621704252), (444, 0.0), (445, 0.0), (446, 0.03816581597907265), (447, 0.005884804199633187), (448, 0.0), (449, 0.023242092187632943), (450, 0.019529048843225788), (451, 0.0391016088546993), (452, 0.0), (453, 0.005618785111038713), (454, 0.01704481432875842), (455, 0.00520762976102169), (456, 0.02586243867684883), (457, 0.050987609844946324), (458, 0.006936779806503274), (459, 0.03060295480630261), (460, 0.06922575391653635), (461, 0.028525555081100485), (462, 0.022043122571456738), (463, 0.0), (464, 0.04209318852349312), (465, 0.0), (466, 0.0427393883442538), (467, 0.01393131774073245), (468, 0.005192552516476349), (469, 0.011126057681422042), (470, 0.021031197431673816), (471, 0.018895055236446343), (472, 0.011826409710212114), (473, 0.01963804140616052), (474, 0.0), (475, 0.02472165554442548), (476, 0.02591251942450721), (477, 0.0), (478, 0.012149083795852934), (479, 0.014977342989708731), (480, 0.025937438890339073), (481, 0.0), (482, 0.0), (483, 0.0439372336837281), (484, 0.006078707714586693), (485, 0.006166400004849574), (486, 0.011810314698373516), (487, 0.030330212776577097), (488, 0.012242282663420019), (489, 0.0), (490, 0.03099074988769271), (491, 0.010701100665922166), (492, 0.0), (493, 0.02920290492861275), (494, 0.006194744107873158), (495, 0.03222728127885354), (496, 0.0), (497, 0.0), (498, 0.006312245953955967), (499, 0.0), (500, 0.005085542646929213), (501, 0.07701264160492088), (502, 0.015360648319076133), (503, 0.028872671627667754), (504, 0.01714759759485358), (505, 0.02436869153230807), (506, 0.0), (507, 0.055729026832405076), (508, 0.057566855608105046), (509, 0.0), (510, 0.02486470383855598), (511, 0.16496430970486958), (512, 0.005676982631838086), (513, 0.010037958466230852), (514, 0.005205316424290446), (515, 0.0), (516, 0.0), (517, 0.0), (518, 0.01404293735364539), (519, 0.0), (520, 0.0), (521, 0.0), (522, 0.0), (523, 0.012440700703078504), (524, 0.0), (525, 0.01656888972262088), (526, 0.0), (527, 0.0), (528, 0.003983220150291382), (529, 0.004799442123149862), (530, 0.020488186332059784), (531, 0.011318631613253811), (532, 0.0), (533, 0.0), (534, 0.006161977838725594), (535, 0.011193024818996474), (536, 0.040036134882840656), (537, 0.005167377144959976), (538, 0.0), (539, 0.042807887789521354), (540, 0.015772111512770755), (541, 0.020099236780356442), (542, 0.022880530344541034), (543, 0.010325297524510698), (544, 0.012128432893228102), (545, 0.04420598490077675), (546, 0.04339673832932317), (547, 0.005507281721425567), (548, 0.0), (549, 0.01750188192044298), (550, 0.0), (551, 0.006660300820161276), (552, 0.0), (553, 0.005430229911958894), (554, 0.0), (555, 0.0), (556, 0.004553756478832179), (557, 0.0), (558, 0.0), (559, 0.0), (560, 0.017901132663037764), (561, 0.004793318913501954), (562, 0.02868961685829906), (563, 0.0), (564, 0.036205486805910736), (565, 0.007426581965807396), (566, 0.006193373090189257), (567, 0.0), (568, 0.011828448260192276), (569, 0.007199086910514205), (570, 0.033729045307568956), (571, 0.004928355447697496), (572, 0.00676051363545122), (573, 0.005638053285311031), (574, 0.050304586205865934), (575, 0.019723560856260196), (576, 0.0), (577, 0.029519751538290135), (578, 0.016442720160865214), (579, 0.004006040711870863), (580, 0.005049028408477351), (581, 0.02862579566621779), (582, 0.02352495197966065), (583, 0.013213618479715541), (584, 0.0), (585, 0.0), (586, 0.004672828493165039), (587, 0.03315913569396658), (588, 0.0), (589, 0.005282616094404149), (590, 0.00517844861532884), (591, 0.021546595396250014), (592, 0.0061047398961712775), (593, 0.028797547685725823), (594, 0.012368996517928506), (595, 0.011069458778341139), (596, 0.012668130763755617), (597, 0.005283638125795931), (598, 0.0), (599, 0.06016679059777526), (600, 0.030079634394061205), (601, 0.027197706582784618), (602, 0.01359631496727767), (603, 0.0), (604, 0.011959564478027592), (605, 0.0), (606, 0.0), (607, 0.1106915450662149), (608, 0.0), (609, 0.02621257531764823), (610, 0.011077320065856502), (611, 0.004789192829920786), (612, 0.02174093906412387), (613, 0.01761398978455119), (614, 0.0), (615, 0.016992224940530768), (616, 0.0), (617, 0.006190977966270332), (618, 0.10120201227449724), (619, 0.0), (620, 0.0), (621, 0.00481760230110106), (622, 0.005435864000891877), (623, 0.0), (624, 0.004749900549269225), (625, 0.022786957942016052), (626, 0.02195979046252054), (627, 0.009217585311033574), (628, 0.0), (629, 0.004379212716879791), (630, 0.0), (631, 0.052952463796266155), (632, 0.020727743276650813), (633, 0.0), (634, 0.024357232314008766), (635, 0.031327897027123935), (636, 0.0), (637, 0.0), (638, 0.0), (639, 0.016630966063117935), (640, 0.011767102539949196), (641, 0.07189711626807734), (642, 0.0), (643, 0.012041635428087321), (644, 0.01923665903471908), (645, 0.012625631869315283), (646, 0.03376912209137081), (647, 0.0), (648, 0.0), (649, 0.0), (650, 0.0), (651, 0.0), (652, 0.012492357720613648), (653, 0.0052806687182295415), (654, 0.06806875947028375), (655, 0.005681327115342079), (656, 0.0), (657, 0.02587376066152066), (658, 0.023917319388490833), (659, 0.005394111898786174), (660, 0.015508508430280801), (661, 0.11596286230938796), (662, 0.0), (663, 0.0), (664, 0.05088118820123578), (665, 0.02480235317407773), (666, 0.0), (667, 0.0), (668, 0.03379674042198735), (669, 0.014506336294309004), (670, 0.01669261458699769), (671, 0.006386526265580247), (672, 0.0), (673, 0.01476972710458003), (674, 0.07486135508785352), (675, 0.055781084805317356), (676, 0.011588575203901887), (677, 0.005129456242952049), (678, 0.01401445278045424), (679, 0.0), (680, 0.05778599633707005), (681, 0.0), (682, 0.0), (683, 0.010761387753185832), (684, 0.0), (685, 0.027943928424079792), (686, 0.0), (687, 0.011658946427615646), (688, 0.012965129088127346), (689, 0.0), (690, 0.0), (691, 0.01107373874626939), (692, 0.0), (693, 0.0), (694, 0.005084435276618205), (695, 0.010664951568069146), (696, 0.0), (697, 0.0), (698, 0.007510121194208234), (699, 0.02649995559726962), (700, 0.03452373197204033), (701, 0.023704314103139924), (702, 0.005455190672105538), (703, 0.01220470639235999), (704, 0.006996468187770173), (705, 0.06345337129121721), (706, 0.021563328756591144), (707, 0.007048140787439783), (708, 0.0048212535079841905), (709, 0.0), (710, 0.0), (711, 0.02182692958994819), (712, 0.0), (713, 0.027608333398133365), (714, 0.0), (715, 0.014377091961469024), (716, 0.01818964042815166), (717, 0.0), (718, 0.019716275406963836), (719, 0.0), (720, 0.09862907445905185), (721, 0.00638735640131272), (722, 0.0), (723, 0.016360548916492954), (724, 0.0052198294124834186), (725, 0.07223789916848004), (726, 0.04193057030810129), (727, 0.0), (728, 0.05322246665550388), (729, 0.013277796059873094), (730, 0.005867260418330452), (731, 0.01305646059396301), (732, 0.035896475409497475), (733, 0.03371031292534977), (734, 0.01908180549011784), (735, 0.03162680325869776), (736, 0.0046514752103012785), (737, 0.005361300049225668), (738, 0.01483135053023853), (739, 0.004972228350872977), (740, 0.026270102679953174), (741, 0.005007212393804487), (742, 0.0), (743, 0.0), (744, 0.01180271566610213), (745, 0.004926676496348137), (746, 0.010654577261900838), (747, 0.005423948527888825), (748, 0.007340473196365395), (749, 0.0), (750, 0.006840733291602629), (751, 0.0), (752, 0.03966412590637443), (753, 0.005392967845381615), (754, 0.022511839664649595), (755, 0.03199719521008226), (756, 0.016452305322625132), (757, 0.013956835692576185), (758, 0.0), (759, 0.0), (760, 0.014720101136996143), (761, 0.038045832439937505), (762, 0.005561002040730688), (763, 0.07451652327981767), (764, 0.014036537487788598), (765, 0.0), (766, 0.0), (767, 0.012441489908504135), (768, 0.02512801965520977), (769, 0.009196638286191064), (770, 0.018862898165346895), (771, 0.016182813451148043), (772, 0.0), (773, 0.013809923143498428), (774, 0.022310982791537554), (775, 0.029913234507532128), (776, 0.0), (777, 0.024511353654183353), (778, 0.02687885651286382), (779, 0.0), (780, 0.02280596554036719), (781, 0.012804051284341788), (782, 0.05267501337470943), (783, 0.1205829105123965), (784, 0.013097079523265342), (785, 0.007028146444027801), (786, 0.013282259987836243), (787, 0.004487218603946213), (788, 0.13055578327365971), (789, 0.05693059678248642), (790, 0.005147901023661861), (791, 0.007752945025031866), (792, 0.0), (793, 0.02053503746363122), (794, 0.009878599644095203), (795, 0.0), (796, 0.0), (797, 0.02555308719399773), (798, 0.0), (799, 0.02872061306541581), (800, 0.09552360900697784), (801, 0.0), (802, 0.0), (803, 0.0), (804, 0.005400337889879461), (805, 0.06366368973707952), (806, 0.0), (807, 0.005544170567258209), (808, 0.012097971208380881), (809, 0.011241121228274021), (810, 0.0), (811, 0.012941252528346174), (812, 0.006677753325004261), (813, 0.030776427871152166), (814, 0.01805295273085423), (815, 0.0), (816, 0.007232443125499874), (817, 0.0), (818, 0.005459928355513485), (819, 0.0), (820, 0.0), (821, 0.00514043367799383), (822, 0.0), (823, 0.0053173938111291405), (824, 0.0), (825, 0.012191010110611052), (826, 0.0), (827, 0.0), (828, 0.005542908171721763), (829, 0.0), (830, 0.0046410613240225355), (831, 0.01036228248040925), (832, 0.009578054631613491), (833, 0.05158584586728861), (834, 0.012567178998245462), (835, 0.0), (836, 0.011170177426756979), (837, 0.0), (838, 0.02627281969193539), (839, 0.0), (840, 0.06766631910894429), (841, 0.007453331265903215), (842, 0.007873974050971025), (843, 0.0), (844, 0.005275212145052478), (845, 0.051529477967377904), (846, 0.0), (847, 0.0), (848, 0.007474590986607794), (849, 0.0), (850, 0.02467557806431949), (851, 0.010960940490166394), (852, 0.0), (853, 0.0), (854, 0.022698457240734517), (855, 0.03386052768045723), (856, 0.017278698785555553), (857, 0.0), (858, 0.007245942574201027), (859, 0.010516377247260214), (860, 0.0), (861, 0.0), (862, 0.015666940535073007), (863, 0.005491063763555157), (864, 0.036451674902082364), (865, 0.0), (866, 0.005972176042815604), (867, 0.0), (868, 0.0), (869, 0.0), (870, 0.09467560430652013), (871, 0.0), (872, 0.0), (873, 0.050241758612783925), (874, 0.006339951414333016), (875, 0.0), (876, 0.0), (877, 0.0), (878, 0.029272773630607152), (879, 0.0), (880, 0.01745923217899168), (881, 0.0), (882, 0.08840494819099366), (883, 0.0), (884, 0.0), (885, 0.07108656002310298), (886, 0.0), (887, 0.0), (888, 0.01190601760906383), (889, 0.0383109514899893), (890, 0.0), (891, 0.0), (892, 0.013297250000980337), (893, 0.004990031927380344), (894, 0.004702862086624621), (895, 0.014858868945032891), (896, 0.0), (897, 0.0), (898, 0.020878666835231235), (899, 0.00717686378050172), (900, 0.02145546029467845), (901, 0.005924009324426013), (902, 0.021106588068986076), (903, 0.0), (904, 0.022049276459078292), (905, 0.0), (906, 0.0), (907, 0.0), (908, 0.021514547855693553), (909, 0.0), (910, 0.0), (911, 0.0469991944771129), (912, 0.0), (913, 0.0), (914, 0.0047149398467039964), (915, 0.0), (916, 0.0), (917, 0.0), (918, 0.0), (919, 0.005673622896625744), (920, 0.030126029282253254), (921, 0.0), (922, 0.03122096710771367), (923, 0.0), (924, 0.0), (925, 0.0), (926, 0.0), (927, 0.0), (928, 0.0), (929, 0.04150533236741023), (930, 0.004841678143178237), (931, 0.027752332700675023), (932, 0.003898059518120621), (933, 0.012049232275608404), (934, 0.005833237389577531), (935, 0.0070609341967005105), (936, 0.0), (937, 0.004875681929640373), (938, 0.0), (939, 0.026294148186683124), (940, 0.08873794651478872), (941, 0.004624992294789956), (942, 0.00718751765461161), (943, 0.0), (944, 0.0), (945, 0.08533555839218346), (946, 0.0), (947, 0.0), (948, 0.026622073149067706), (949, 0.022564540505421258), (950, 0.01078187996954923), (951, 0.005156383083371617), (952, 0.0058024987209258656), (953, 0.04452504251198741), (954, 0.09864771484467144), (955, 0.004857061370675806), (956, 0.048761956672760176), (957, 0.0), (958, 0.0), (959, 0.004640505789148309), (960, 0.0803491454920076), (961, 0.006113254559785187), (962, 0.0), (963, 0.004707748921119897), (964, 0.0), (965, 0.02801641650603786), (966, 0.0), (967, 0.028788449117659817), (968, 0.0), (969, 0.01136042342322222), (970, 0.0), (971, 0.0), (972, 0.0328938845090745), (973, 0.004705028460758753), (974, 0.021934651608951368), (975, 0.0), (976, 0.03395297501767942), (977, 0.04494034211750926), (978, 0.0067655792321758244), (979, 0.005380103946332328), (980, 0.0), (981, 0.0053733525258839645), (982, 0.005381737983927626), (983, 0.0), (984, 0.013343758140682385), (985, 0.013776968829003405), (986, 0.0), (987, 0.0), (988, 0.01774676008988596), (989, 0.011050123059635606), (990, 0.022072784957580197), (991, 0.0), (992, 0.005138007602889837), (993, 0.005501205977960383), (994, 0.020632380914654892), (995, 0.0), (996, 0.0220477652550393), (997, 0.0), (998, 0.0), (999, 0.015174965688544527), (1000, 0.005152798180448487), (1001, 0.028995642639877563), (1002, 0.026941084974503586), (1003, 0.0045013431452766255), (1004, 0.0), (1005, 0.033181177586042165), (1006, 0.01084834415457692), (1007, 0.0), (1008, 0.01819654727578703), (1009, 0.0), (1010, 0.0), (1011, 0.0), (1012, 0.013096225304979843), (1013, 0.0), (1014, 0.026978402893370168), (1015, 0.08365979490083049), (1016, 0.04839219693964078), (1017, 0.0), (1018, 0.0037908226299411523), (1019, 0.0), (1020, 0.00587786707334649), (1021, 0.0), (1022, 0.0), (1023, 0.0), (1024, 0.04564598997942309), (1025, 0.0), (1026, 0.0), (1027, 0.011736031943541048), (1028, 0.02308588822324479), (1029, 0.07939262665265918), (1030, 0.0), (1031, 0.0), (1032, 0.0), (1033, 0.0), (1034, 0.029971980120287116), (1035, 0.005438302198442975), (1036, 0.0), (1037, 0.0), (1038, 0.0), (1039, 0.04005487367465109), (1040, 0.0), (1041, 0.05532942590380909), (1042, 0.0), (1043, 0.005225959690661914), (1044, 0.028518328774208214), (1045, 0.0), (1046, 0.0), (1047, 0.0), (1048, 0.0), (1049, 0.004965554352078891), (1050, 0.013234229227541711), (1051, 0.0), (1052, 0.03595822314449668), (1053, 0.02059536267195515), (1054, 0.0), (1055, 0.03929604499963604), (1056, 0.00471316864997768), (1057, 0.012909232109772014), (1058, 0.025489093798317142), (1059, 0.02810267845500291), (1060, 0.0), (1061, 0.0), (1062, 0.006416666291962689), (1063, 0.0), (1064, 0.004239576990924292), (1065, 0.0), (1066, 0.0), (1067, 0.010964688889322945), (1068, 0.027276206976190313), (1069, 0.0), (1070, 0.02570272283471366), (1071, 0.0), (1072, 0.006616644592646869), (1073, 0.012597179919145165), (1074, 0.007006361547784264), (1075, 0.0), (1076, 0.012561564614468244), (1077, 0.009778727019533464), (1078, 0.006900878707770107), (1079, 0.02863882309138605), (1080, 0.0068556839293483825), (1081, 0.0), (1082, 0.01022283889148499), (1083, 0.033306988580218744), (1084, 0.01191200513873008), (1085, 0.016681065718961722), (1086, 0.04659302984314783), (1087, 0.0), (1088, 0.0), (1089, 0.012290673049305296), (1090, 0.013008504493402346), (1091, 0.0), (1092, 0.023509200835243705), (1093, 0.030329297908446417), (1094, 0.0), (1095, 0.00460123714810558), (1096, 0.0049644119946726665), (1097, 0.03541733747566418), (1098, 0.0), (1099, 0.007803849448685624), (1100, 0.011492214940931828), (1101, 0.004884175242686374), (1102, 0.0), (1103, 0.01148091626040236), (1104, 0.004800417732799863), (1105, 0.012816847590403649), (1106, 0.011088867991393494), (1107, 0.0), (1108, 0.0), (1109, 0.00445692896713548), (1110, 0.024067262039759264), (1111, 0.016299500013576405), (1112, 0.0), (1113, 0.0), (1114, 0.006023323851518723), (1115, 0.0), (1116, 0.0), (1117, 0.0), (1118, 0.00554273479107367), (1119, 0.03152952999498502), (1120, 0.0), (1121, 0.0), (1122, 0.0), (1123, 0.0), (1124, 0.01110204360815087), (1125, 0.0), (1126, 0.0), (1127, 0.0), (1128, 0.06290678694711212), (1129, 0.0), (1130, 0.0), (1131, 0.024310736419299626), (1132, 0.0), (1133, 0.019759303017814922), (1134, 0.006507902446547518), (1135, 0.08377990138714249), (1136, 0.010517446569151847), (1137, 0.004985352135828133), (1138, 0.00449784750158809), (1139, 0.012055104185741945), (1140, 0.004493694342034483), (1141, 0.0), (1142, 0.005524722429289147), (1143, 0.012740455259230624), (1144, 0.0055312082675678265), (1145, 0.0), (1146, 0.004875316458139751), (1147, 0.0), (1148, 0.0), (1149, 0.0), (1150, 0.0), (1151, 0.0), (1152, 0.05344497157412351), (1153, 0.018303444991585323), (1154, 0.0), (1155, 0.04043470165298359), (1156, 0.0), (1157, 0.01612633678536823), (1158, 0.005270801484543377), (1159, 0.020872298473333557), (1160, 0.0), (1161, 0.0), (1162, 0.0), (1163, 0.0), (1164, 0.0), (1165, 0.06335731846834487), (1166, 0.0), (1167, 0.0), (1168, 0.0), (1169, 0.0), (1170, 0.0790372420393735), (1171, 0.025114895961114835), (1172, 0.012525934087938522), (1173, 0.014470534065788462), (1174, 0.00468708356743604), (1175, 0.011339547376243861), (1176, 0.0), (1177, 0.03815085469866521), (1178, 0.005590504248559689), (1179, 0.0), (1180, 0.06893614434545221), (1181, 0.0), (1182, 0.0), (1183, 0.006498482359587108), (1184, 0.02096142458929881), (1185, 0.0), (1186, 0.0), (1187, 0.0), (1188, 0.005037119838153379), (1189, 0.0), (1190, 0.0), (1191, 0.028313937832051772), (1192, 0.09095991139212532), (1193, 0.016700431496552107), (1194, 0.0), (1195, 0.005148033136933102), (1196, 0.0), (1197, 0.0), (1198, 0.025404423794971504), (1199, 0.01055385112645835), (1200, 0.0551988635436424), (1201, 0.029148877192557033), (1202, 0.008799784451502958), (1203, 0.0), (1204, 0.0), (1205, 0.0), (1206, 0.0), (1207, 0.0), (1208, 0.0), (1209, 0.03262554756615188), (1210, 0.09902724717708405), (1211, 0.0), (1212, 0.005601113602507205), (1213, 0.05500136567078338), (1214, 0.005795572249964565), (1215, 0.0), (1216, 0.0), (1217, 0.02333376200449094), (1218, 0.0), (1219, 0.0), (1220, 0.0), (1221, 0.0), (1222, 0.01655903945911315), (1223, 0.0), (1224, 0.0), (1225, 0.0), (1226, 0.0), (1227, 0.0), (1228, 0.0), (1229, 0.0), (1230, 0.06910334900544018), (1231, 0.0), (1232, 0.022681186335779153), (1233, 0.05773594584438646), (1234, 0.011982801722517433), (1235, 0.0), (1236, 0.0), (1237, 0.0280222875837868), (1238, 0.019555894126105155), (1239, 0.012136919699378183), (1240, 0.0), (1241, 0.0), (1242, 0.0), (1243, 0.011866560025121178), (1244, 0.019554612955571097), (1245, 0.005618086609006948), (1246, 0.0), (1247, 0.03555221085068896), (1248, 0.008808662463959524), (1249, 0.04438899785717994), (1250, 0.032965277185544144), (1251, 0.010712221613542263), (1252, 0.0), (1253, 0.0069325992191292835), (1254, 0.005487538818169199), (1255, 0.0), (1256, 0.013279726743728137), (1257, 0.007292444359425382), (1258, 0.0), (1259, 0.03136325744313995), (1260, 0.0), (1261, 0.0), (1262, 0.0), (1263, 0.0064950270346025895), (1264, 0.0), (1265, 0.0), (1266, 0.01180231529800031), (1267, 0.007354659217132414), (1268, 0.0), (1269, 0.023686373119668497), (1270, 0.022016795820537595), (1271, 0.02336241800768612), (1272, 0.043415339928293384), (1273, 0.013121958452449647), (1274, 0.08126676831882429), (1275, 0.019204599548731226), (1276, 0.0), (1277, 0.06298171537087136), (1278, 0.006081246657812111), (1279, 0.012070009542657977), (1280, 0.0), (1281, 0.004686197019159713), (1282, 0.08908421838000423), (1283, 0.01622540129970321), (1284, 0.005503981356248211), (1285, 0.02885222889222795), (1286, 0.020182880041563014), (1287, 0.006747455095640329), (1288, 0.040109668585051474), (1289, 0.005740315110410647), (1290, 0.010932740465689612), (1291, 0.049046785265734805), (1292, 0.0), (1293, 0.0), (1294, 0.031422785693251284), (1295, 0.0), (1296, 0.025585274147822412), (1297, 0.03501915004894295), (1298, 0.010060717362953626), (1299, 0.020907104659287693), (1300, 0.012919732269187661), (1301, 0.0), (1302, 0.026065853483827124), (1303, 0.03038675979371787), (1304, 0.003707299297747516), (1305, 0.013008904081431532), (1306, 0.008155244310086324), (1307, 0.0), (1308, 0.0), (1309, 0.0), (1310, 0.0047000667041774), (1311, 0.06933954450740644), (1312, 0.0), (1313, 0.0), (1314, 0.0), (1315, 0.0), (1316, 0.0), (1317, 0.06864783991381063), (1318, 0.0190589948026437), (1319, 0.02468374704730508), (1320, 0.012689683727627118), (1321, 0.0055277428746398245), (1322, 0.01393881763679356), (1323, 0.0), (1324, 0.035331231111806125), (1325, 0.0), (1326, 0.024752970291108744), (1327, 0.0), (1328, 0.021295617908435052), (1329, 0.0), (1330, 0.0), (1331, 0.013910730200158008), (1332, 0.0296574040817148), (1333, 0.0), (1334, 0.005076901235243508), (1335, 0.024398531539335192), (1336, 0.02188877678225192), (1337, 0.019718228570179654), (1338, 0.011849879148816626), (1339, 0.005327222682558543), (1340, 0.0), (1341, 0.01576663968423451), (1342, 0.005743329821457766), (1343, 0.011088555320704675), (1344, 0.025795192607939037), (1345, 0.02222210265804987), (1346, 0.0), (1347, 0.005026717909176745), (1348, 0.0), (1349, 0.0), (1350, 0.0), (1351, 0.0), (1352, 0.019063014651444447), (1353, 0.0), (1354, 0.02461018539504684), (1355, 0.0), (1356, 0.0), (1357, 0.006348324946339372), (1358, 0.04626503591460631), (1359, 0.004764734960462345), (1360, 0.0), (1361, 0.011056284215717894), (1362, 0.0), (1363, 0.02365369506432716), (1364, 0.0), (1365, 0.0653390984815001), (1366, 0.0), (1367, 0.045208548057970054), (1368, 0.09344216150896992), (1369, 0.012600793124527155), (1370, 0.02471594785759073), (1371, 0.0), (1372, 0.0), (1373, 0.0), (1374, 0.0), (1375, 0.006875572028251529), (1376, 0.0), (1377, 0.02646215149407912), (1378, 0.0), (1379, 0.018497216660072664), (1380, 0.012225357576364303), (1381, 0.0), (1382, 0.007993931238810736), (1383, 0.02375328426844615), (1384, 0.0), (1385, 0.0), (1386, 0.0), (1387, 0.024340638554871105), (1388, 0.0), (1389, 0.0), (1390, 0.033936588666945294), (1391, 0.0), (1392, 0.04354266317989833), (1393, 0.0), (1394, 0.0), (1395, 0.025170751490854213), (1396, 0.03911915602665961), (1397, 0.0), (1398, 0.045130255822282986), (1399, 0.02618484538816055), (1400, 0.0), (1401, 0.0), (1402, 0.007025214391288127), (1403, 0.0), (1404, 0.009475504237667978), (1405, 0.0), (1406, 0.09694744580022491), (1407, 0.0), (1408, 0.0), (1409, 0.0), (1410, 0.0), (1411, 0.0), (1412, 0.0199279835666434), (1413, 0.0), (1414, 0.0), (1415, 0.018271781036088338), (1416, 0.0), (1417, 0.005948249774474318), (1418, 0.0), (1419, 0.018287461675576804), (1420, 0.0), (1421, 0.0), (1422, 0.02069609234665597), (1423, 0.0), (1424, 0.0), (1425, 0.023734042408721064), (1426, 0.006943067606954804), (1427, 0.0), (1428, 0.08073985807004586), (1429, 0.0), (1430, 0.0), (1431, 0.00488800003762057), (1432, 0.00532165950400838), (1433, 0.006044081933968181), (1434, 0.028319220410028698), (1435, 0.0), (1436, 0.016272020317988762), (1437, 0.004668676461305415), (1438, 0.010919770934504327), (1439, 0.03830691763319595), (1440, 0.028766891542735915), (1441, 0.0), (1442, 0.0), (1443, 0.0050335454356252645), (1444, 0.0), (1445, 0.03477505510926615), (1446, 0.03860754996307831), (1447, 0.011464768115057661), (1448, 0.005637944877507123), (1449, 0.0), (1450, 0.004843010382844438), (1451, 0.1077931602985073), (1452, 0.01997764708059836), (1453, 0.004716664726799666), (1454, 0.0), (1455, 0.0), (1456, 0.03620148157396952), (1457, 0.005156561224941433), (1458, 0.0), (1459, 0.07459545278971069), (1460, 0.006913836176612087), (1461, 0.0), (1462, 0.0), (1463, 0.004692415992223394), (1464, 0.0), (1465, 0.02387283366624214), (1466, 0.0), (1467, 0.015415373187173648), (1468, 0.026601881537849346), (1469, 0.03560757505579633), (1470, 0.005291492391864199), (1471, 0.0), (1472, 0.019338685357727696), (1473, 0.018995577158423437), (1474, 0.015079084789863827), (1475, 0.0), (1476, 0.0), (1477, 0.0), (1478, 0.0), (1479, 0.006013415651105579), (1480, 0.042485073406415615), (1481, 0.01255995409102795), (1482, 0.05973017717751979), (1483, 0.0), (1484, 0.053840784597810554), (1485, 0.0), (1486, 0.005257569972182344), (1487, 0.0), (1488, 0.020956921895946407), (1489, 0.0), (1490, 0.032911240748371436), (1491, 0.023852103558241033), (1492, 0.0), (1493, 0.0), (1494, 0.06458939149605387), (1495, 0.05245411567041445), (1496, 0.027088935039115025), (1497, 0.0), (1498, 0.0), (1499, 0.0), (1500, 0.005186446284788743), (1501, 0.0), (1502, 0.05834231774841199), (1503, 0.006552192985610935), (1504, 0.013166203996722976), (1505, 0.005730480636497298), (1506, 0.02142270878338357), (1507, 0.026767237284793525), (1508, 0.0), (1509, 0.007535776438688337), (1510, 0.0053147505633270595), (1511, 0.0), (1512, 0.0), (1513, 0.004724943459018206), (1514, 0.00538308515206749), (1515, 0.005429353097493077), (1516, 0.0), (1517, 0.020235622827187535), (1518, 0.029414784686363882), (1519, 0.0), (1520, 0.0), (1521, 0.0), (1522, 0.0), (1523, 0.0), (1524, 0.008359566395922939), (1525, 0.0136940026295662), (1526, 0.0), (1527, 0.0), (1528, 0.0060148390885373), (1529, 0.013534084689164116), (1530, 0.015371984039754242), (1531, 0.02596880952105087), (1532, 0.0), (1533, 0.0), (1534, 0.020003004604694057), (1535, 0.02152224418431613), (1536, 0.0), (1537, 0.0), (1538, 0.004675548494624559), (1539, 0.020491833244722767), (1540, 0.0), (1541, 0.0), (1542, 0.035126639184243025), (1543, 0.0), (1544, 0.0), (1545, 0.0), (1546, 0.013176847588057287), (1547, 0.02170975507076561), (1548, 0.0), (1549, 0.0), (1550, 0.006431590645513712), (1551, 0.011213861049717168), (1552, 0.0), (1553, 0.10626123696441003), (1554, 0.018050822372575392), (1555, 0.0), (1556, 0.0), (1557, 0.0), (1558, 0.010369373505910598), (1559, 0.0), (1560, 0.0), (1561, 0.0), (1562, 0.006513459978488194), (1563, 0.0), (1564, 0.006446129631852074), (1565, 0.0), (1566, 0.0), (1567, 0.0), (1568, 0.023103324702174504), (1569, 0.026761928689178663), (1570, 0.0), (1571, 0.0), (1572, 0.0), (1573, 0.0840117004847024), (1574, 0.0), (1575, 0.019124885665744475), (1576, 0.0), (1577, 0.01756784895413089), (1578, 0.0), (1579, 0.0), (1580, 0.008012594817183034), (1581, 0.0), (1582, 0.0), (1583, 0.031891388525611686), (1584, 0.0), (1585, 0.0), (1586, 0.0124025649987554), (1587, 0.0068282931967927965), (1588, 0.020108643513827306), (1589, 0.02094618891431175), (1590, 0.0), (1591, 0.0), (1592, 0.005046861736385698), (1593, 0.0), (1594, 0.0), (1595, 0.021530163689541387), (1596, 0.027290417962452115), (1597, 0.0065904332506572915), (1598, 0.0), (1599, 0.0), (1600, 0.01670231459038375), (1601, 0.024471589006662412), (1602, 0.007160348525438121), (1603, 0.0), (1604, 0.04450993486735011), (1605, 0.0), (1606, 0.01611455952375525), (1607, 0.017093922403511975), (1608, 0.020876758751380863), (1609, 0.0), (1610, 0.01217930049030861), (1611, 0.019104551813594366), (1612, 0.0), (1613, 0.0), (1614, 0.0), (1615, 0.012029778118376779), (1616, 0.00478901975304123), (1617, 0.03183842926313246), (1618, 0.0), (1619, 0.0), (1620, 0.0), (1621, 0.0), (1622, 0.0), (1623, 0.0), (1624, 0.0), (1625, 0.02343727020476867), (1626, 0.0045441388620478425), (1627, 0.0), (1628, 0.012684409093911284), (1629, 0.0), (1630, 0.0), (1631, 0.0), (1632, 0.0), (1633, 0.025845658218447923), (1634, 0.0), (1635, 0.004977911398369002), (1636, 0.03776408378707217), (1637, 0.015065723120127997), (1638, 0.0), (1639, 0.02007079964917865), (1640, 0.0), (1641, 0.04793159278033383), (1642, 0.02529643044639677), (1643, 0.017204424659311896), (1644, 0.02322985667894702), (1645, 0.01133350869937734), (1646, 0.01754127528662425), (1647, 0.0), (1648, 0.0), (1649, 0.03918601430456619), (1650, 0.04663623035450256), (1651, 0.07236439045495704), (1652, 0.06805993710813502), (1653, 0.004916140607036161), (1654, 0.06756331682494246), (1655, 0.0), (1656, 0.0), (1657, 0.01238057456714134), (1658, 0.008268346968278112), (1659, 0.0), (1660, 0.0), (1661, 0.005082760912805263), (1662, 0.0), (1663, 0.010418492698200927), (1664, 0.0675419536732299), (1665, 0.0), (1666, 0.0), (1667, 0.01557456940191775), (1668, 0.0), (1669, 0.004946691054276124), (1670, 0.06116771314359841), (1671, 0.0048968667624939835), (1672, 0.010842137306390023), (1673, 0.0), (1674, 0.0), (1675, 0.006063405570471031), (1676, 0.0), (1677, 0.0), (1678, 0.0), (1679, 0.0), (1680, 0.005528129520653445), (1681, 0.0), (1682, 0.007077499954302483), (1683, 0.023661780540370065), (1684, 0.0133180553220484), (1685, 0.0), (1686, 0.010842008604249567), (1687, 0.026589806175721913), (1688, 0.0), (1689, 0.0), (1690, 0.0), (1691, 0.0), (1692, 0.0), (1693, 0.0), (1694, 0.0), (1695, 0.0074839856959071), (1696, 0.04240275709153496), (1697, 0.017026037498545706), (1698, 0.0), (1699, 0.005425696085724147), (1700, 0.0), (1701, 0.024285769823530007), (1702, 0.005144659574003574), (1703, 0.05106345470124904), (1704, 0.0), (1705, 0.0), (1706, 0.0), (1707, 0.004739789716081096), (1708, 0.0), (1709, 0.020215782716248323), (1710, 0.07592409500864612), (1711, 0.0), (1712, 0.03799644684460263), (1713, 0.01185903105375288), (1714, 0.0), (1715, 0.049004633047714546), (1716, 0.0), (1717, 0.0), (1718, 0.0), (1719, 0.0), (1720, 0.06641952267930852), (1721, 0.016062566392626897), (1722, 0.0), (1723, 0.0), (1724, 0.0), (1725, 0.01808942762507585), (1726, 0.005459664833792164), (1727, 0.00595738291200959), (1728, 0.012478007592930471), (1729, 0.0), (1730, 0.0), (1731, 0.0), (1732, 0.0), (1733, 0.00578741243339567), (1734, 0.018320384071982693), (1735, 0.02048193831777667), (1736, 0.0), (1737, 0.0), (1738, 0.011825539257553355), (1739, 0.01296089332187747), (1740, 0.1335173071394344), (1741, 0.00537297728131612), (1742, 0.018077186438731463), (1743, 0.010996950935729109), (1744, 0.0), (1745, 0.0), (1746, 0.0), (1747, 0.005107520532667206), (1748, 0.0), (1749, 0.0), (1750, 0.028354615682899174), (1751, 0.0), (1752, 0.0), (1753, 0.0590898950266386), (1754, 0.00655630561252544), (1755, 0.0), (1756, 0.0), (1757, 0.025218168148074774), (1758, 0.0), (1759, 0.0), (1760, 0.0), (1761, 0.005608338001618339), (1762, 0.021339191195415677), (1763, 0.0), (1764, 0.013344618715373582), (1765, 0.01960457482703005), (1766, 0.0), (1767, 0.0), (1768, 0.0), (1769, 0.021915679030691505), (1770, 0.0), (1771, 0.01685185028352071), (1772, 0.017396265355894294), (1773, 0.01736242159439323), (1774, 0.014876090076284319), (1775, 0.0), (1776, 0.0), (1777, 0.013295194878989638), (1778, 0.0), (1779, 0.0), (1780, 0.07482412687461683), (1781, 0.0), (1782, 0.03397129120647006), (1783, 0.005264119932123458), (1784, 0.0), (1785, 0.013086374022069185), (1786, 0.019653568285878192), (1787, 0.0), (1788, 0.0), (1789, 0.0), (1790, 0.02920865201555916), (1791, 0.0), (1792, 0.005328666993953144), (1793, 0.0), (1794, 0.0334055699439228), (1795, 0.004374689325200137), (1796, 0.0), (1797, 0.006831145023604826), (1798, 0.0126577770783949), (1799, 0.0), (1800, 0.0), (1801, 0.0), (1802, 0.034625204552110406), (1803, 0.0), (1804, 0.0), (1805, 0.0), (1806, 0.0), (1807, 0.01822760734851355), (1808, 0.016884157326499404), (1809, 0.0), (1810, 0.0), (1811, 0.0), (1812, 0.0), (1813, 0.0), (1814, 0.0), (1815, 0.02115097207094943), (1816, 0.0), (1817, 0.003940932804773525), (1818, 0.0), (1819, 0.02762862685967089), (1820, 0.0), (1821, 0.0726234270597076), (1822, 0.0063624583267874795), (1823, 0.013612898100129577), (1824, 0.0), (1825, 0.011504481913100006), (1826, 0.025790053213113406), (1827, 0.027618275630265907), (1828, 0.012344628902453914), (1829, 0.0), (1830, 0.004759853911178714), (1831, 0.0), (1832, 0.0), (1833, 0.0), (1834, 0.0), (1835, 0.0), (1836, 0.011978576165618477), (1837, 0.0041071218689322665), (1838, 0.0), (1839, 0.0), (1840, 0.0), (1841, 0.0178655019200587), (1842, 0.0), (1843, 0.0), (1844, 0.005583039907069975), (1845, 0.012855076622284783), (1846, 0.016047743788173096), (1847, 0.014030681957985593), (1848, 0.004790039049722118), (1849, 0.0), (1850, 0.019800447230530448), (1851, 0.011777481855756335), (1852, 0.026645684595938624), (1853, 0.00516843614629032), (1854, 0.011407351288027015), (1855, 0.0), (1856, 0.005732651338329083), (1857, 0.0), (1858, 0.011060640678554107), (1859, 0.0), (1860, 0.005828859346743871), (1861, 0.0), (1862, 0.0), (1863, 0.022647564437472695), (1864, 0.08072672353571825), (1865, 0.0393712477155303), (1866, 0.0), (1867, 0.0), (1868, 0.005457864061678356), (1869, 0.0), (1870, 0.0), (1871, 0.0), (1872, 0.03286575696096883), (1873, 0.0), (1874, 0.06018746390482323), (1875, 0.0), (1876, 0.0), (1877, 0.009466187134594049), (1878, 0.005594675760999698), (1879, 0.0), (1880, 0.0276262958331907), (1881, 0.0), (1882, 0.006146662111395801), (1883, 0.0), (1884, 0.0), (1885, 0.0), (1886, 0.0), (1887, 0.0), (1888, 0.0), (1889, 0.0), (1890, 0.0), (1891, 0.0), (1892, 0.010561756697166283), (1893, 0.0), (1894, 0.005695464723721891), (1895, 0.0), (1896, 0.02313619594663359), (1897, 0.00600846174113407), (1898, 0.0), (1899, 0.04340741399878558), (1900, 0.0), (1901, 0.0), (1902, 0.020069580227592365), (1903, 0.0), (1904, 0.0), (1905, 0.0), (1906, 0.0), (1907, 0.010566733153546438), (1908, 0.00489041421255893), (1909, 0.0), (1910, 0.005288684001732834), (1911, 0.0), (1912, 0.013438442465674081), (1913, 0.0), (1914, 0.01862151654030536), (1915, 0.01284493260007818), (1916, 0.05603581490770817), (1917, 0.0), (1918, 0.02059696392715713), (1919, 0.016631459689679603), (1920, 0.005770226034318297), (1921, 0.0), (1922, 0.028126341290250666), (1923, 0.0), (1924, 0.0), (1925, 0.02911637230097463), (1926, 0.0), (1927, 0.0), (1928, 0.0), (1929, 0.0), (1930, 0.004812974275206403), (1931, 0.020914146945182028), (1932, 0.04201422486794095), (1933, 0.00593435458164554), (1934, 0.0), (1935, 0.0), (1936, 0.02098696420706702), (1937, 0.0066726087988599045), (1938, 0.01983380928961018), (1939, 0.01178179498181742), (1940, 0.0), (1941, 0.0), (1942, 0.0), (1943, 0.012174349960301981), (1944, 0.0), (1945, 0.0), (1946, 0.0), (1947, 0.0), (1948, 0.0), (1949, 0.0), (1950, 0.0047937518095984444), (1951, 0.0), (1952, 0.0), (1953, 0.012914475884594826), (1954, 0.005539635754506214), (1955, 0.004571684082606664), (1956, 0.08814170726192014), (1957, 0.0), (1958, 0.00742187469771296), (1959, 0.021884065529333765), (1960, 0.0), (1961, 0.0), (1962, 0.007196645788701514), (1963, 0.0), (1964, 0.0), (1965, 0.0), (1966, 0.0), (1967, 0.044049973598888514), (1968, 0.02182662984459232), (1969, 0.014326274035492335), (1970, 0.0), (1971, 0.06670907219762595), (1972, 0.07160137863043155), (1973, 0.011425701381478321), (1974, 0.021232633189479322), (1975, 0.01311034023877237), (1976, 0.019883477127716317), (1977, 0.005131988845640193), (1978, 0.051953498028172826), (1979, 0.0), (1980, 0.0), (1981, 0.0), (1982, 0.0), (1983, 0.0), (1984, 0.03095392692244453), (1985, 0.014220549884183266), (1986, 0.031453580451364), (1987, 0.0060222617006813394), (1988, 0.0), (1989, 0.0), (1990, 0.03999677797300599), (1991, 0.005426629239963763), (1992, 0.012222677565347614), (1993, 0.0), (1994, 0.0), (1995, 0.02114070117802136), (1996, 0.0), (1997, 0.01849951640104613), (1998, 0.0), (1999, 0.02210454113202538), (2000, 0.0), (2001, 0.007571170334793081), (2002, 0.022945219794112594), (2003, 0.006633096371874788), (2004, 0.010539953422303435), (2005, 0.0), (2006, 0.0), (2007, 0.03511218463596487), (2008, 0.0), (2009, 0.0), (2010, 0.029891810248872677), (2011, 0.0), (2012, 0.0), (2013, 0.017970943978737546), (2014, 0.0), (2015, 0.01824241009040123), (2016, 0.003908343949825509), (2017, 0.0), (2018, 0.0), (2019, 0.0), (2020, 0.0), (2021, 0.0), (2022, 0.0), (2023, 0.004630035919408075), (2024, 0.027402745222008813), (2025, 0.0), (2026, 0.023058185737080433), (2027, 0.0), (2028, 0.037383015462648314), (2029, 0.005942507214817966), (2030, 0.0), (2031, 0.0), (2032, 0.0), (2033, 0.0), (2034, 0.023676879109634914), (2035, 0.0), (2036, 0.014722443424544854), (2037, 0.014705697854259422), (2038, 0.0), (2039, 0.04839652231189524), (2040, 0.0), (2041, 0.0), (2042, 0.01341195301346013), (2043, 0.03820477431944884), (2044, 0.07157565392951494), (2045, 0.0), (2046, 0.045260701083711156), (2047, 0.028380576208494383), (2048, 0.0), (2049, 0.013102216935877379), (2050, 0.005005309154740689), (2051, 0.0), (2052, 0.0), (2053, 0.0), (2054, 0.004876009859045572), (2055, 0.006288697674773219), (2056, 0.0), (2057, 0.009968908769276245), (2058, 0.012917245910539318), (2059, 0.0), (2060, 0.03817494281187896), (2061, 0.0), (2062, 0.0), (2063, 0.0803324687663425), (2064, 0.00551687911517754), (2065, 0.0), (2066, 0.07977068325895176), (2067, 0.0), (2068, 0.0), (2069, 0.01122301894120336), (2070, 0.0), (2071, 0.014776264019082228), (2072, 0.0), (2073, 0.0), (2074, 0.00490603041512863), (2075, 0.028861362116658733), (2076, 0.019368875338914175), (2077, 0.025823648339205824), (2078, 0.0), (2079, 0.0), (2080, 0.0), (2081, 0.0), (2082, 0.0), (2083, 0.0), (2084, 0.02412948429261155), (2085, 0.010989623626297037), (2086, 0.006506620753665925), (2087, 0.0191825744568186), (2088, 0.0), (2089, 0.0564117666125023), (2090, 0.0), (2091, 0.0), (2092, 0.0), (2093, 0.030960663765383922), (2094, 0.0), (2095, 0.005409136652388276), (2096, 0.0), (2097, 0.005701432958810701), (2098, 0.0), (2099, 0.0), (2100, 0.005097109646530069), (2101, 0.03357399792274263), (2102, 0.012820202910016947), (2103, 0.02635041845859276), (2104, 0.0), (2105, 0.0), (2106, 0.0), (2107, 0.041615008027949166), (2108, 0.0), (2109, 0.0), (2110, 0.0170535758612019), (2111, 0.033609926865797134), (2112, 0.024866369915636153), (2113, 0.0), (2114, 0.03484346192580606), (2115, 0.0), (2116, 0.006772916404021491), (2117, 0.0), (2118, 0.0), (2119, 0.0), (2120, 0.0), (2121, 0.006805412444962564), (2122, 0.013525308679006875), (2123, 0.0), (2124, 0.0), (2125, 0.0), (2126, 0.0), (2127, 0.05664474176033374), (2128, 0.02708321327660703), (2129, 0.04322529342275414), (2130, 0.0), (2131, 0.01803074706742293), (2132, 0.0), (2133, 0.0), (2134, 0.0), (2135, 0.0), (2136, 0.010845905126028324), (2137, 0.0), (2138, 0.06254590694974166), (2139, 0.0), (2140, 0.0048749138468115304), (2141, 0.0), (2142, 0.005034860004620749), (2143, 0.0), (2144, 0.0), (2145, 0.04076007149174993), (2146, 0.0), (2147, 0.0), (2148, 0.0), (2149, 0.0), (2150, 0.0), (2151, 0.04105242505843013), (2152, 0.01771834717697483), (2153, 0.0), (2154, 0.005748292287383566), (2155, 0.023516127040987243), (2156, 0.01990496104979524), (2157, 0.02264113731124074), (2158, 0.0), (2159, 0.005927692040890022), (2160, 0.018797815736908367), (2161, 0.01071956354806558), (2162, 0.007173459457683893), (2163, 0.030984737715845024), (2164, 0.04892279039794298), (2165, 0.014434372006199679), (2166, 0.0), (2167, 0.0068663349043277385), (2168, 0.0), (2169, 0.005160783067110311), (2170, 0.0), (2171, 0.02990450628341437), (2172, 0.01443555679557307), (2173, 0.0), (2174, 0.01325055844488552), (2175, 0.006106684549014275), (2176, 0.0), (2177, 0.0), (2178, 0.006208233896099541), (2179, 0.02206236151264276), (2180, 0.0), (2181, 0.016109954625433513), (2182, 0.0), (2183, 0.06096071684896965), (2184, 0.004075441766836413), (2185, 0.006248053011131265), (2186, 0.08948281261918109), (2187, 0.0), (2188, 0.006268370561151316), (2189, 0.0), (2190, 0.0), (2191, 0.0), (2192, 0.024563071560527713), (2193, 0.0), (2194, 0.004791611691756008), (2195, 0.004817671805207269), (2196, 0.02650115350145745), (2197, 0.0), (2198, 0.026012425426728446), (2199, 0.0), (2200, 0.0047388392619041155), (2201, 0.006203878577357491), (2202, 0.0), (2203, 0.0047549250308065545), (2204, 0.0), (2205, 0.03922782730320067), (2206, 0.015332660771560563), (2207, 0.013531334563140408), (2208, 0.0), (2209, 0.014984300014468616), (2210, 0.0), (2211, 0.0), (2212, 0.00579290978967656), (2213, 0.025951050447632407), (2214, 0.0), (2215, 0.0), (2216, 0.01196302704712155), (2217, 0.0), (2218, 0.0057091634982869505), (2219, 0.012528004419308337), (2220, 0.021800875925676446), (2221, 0.07271633952038745), (2222, 0.006407287597883232), (2223, 0.0), (2224, 0.019318490258665166), (2225, 0.0), (2226, 0.02686092134964806), (2227, 0.0), (2228, 0.03445718779230502), (2229, 0.016580520567073473), (2230, 0.0), (2231, 0.0), (2232, 0.0), (2233, 0.0), (2234, 0.0), (2235, 0.09782012326498281), (2236, 0.0), (2237, 0.004860831555526165), (2238, 0.0), (2239, 0.0), (2240, 0.0), (2241, 0.0), (2242, 0.0), (2243, 0.0), (2244, 0.005095044956298984), (2245, 0.02454949462661718), (2246, 0.0), (2247, 0.005583227378230101), (2248, 0.0), (2249, 0.0), (2250, 0.012649393281247968), (2251, 0.0), (2252, 0.0), (2253, 0.05557500453032579), (2254, 0.0), (2255, 0.005350837070510802), (2256, 0.0), (2257, 0.0), (2258, 0.017463331389340874), (2259, 0.0), (2260, 0.0), (2261, 0.0068749154232389), (2262, 0.017482907068819744), (2263, 0.014549271650768612), (2264, 0.024628558194281294), (2265, 0.0), (2266, 0.0), (2267, 0.0), (2268, 0.006026620645416893), (2269, 0.0), (2270, 0.03336975182786663), (2271, 0.0), (2272, 0.0), (2273, 0.013616886716353289), (2274, 0.01317901586043364), (2275, 0.0), (2276, 0.0), (2277, 0.005138839881274418), (2278, 0.005753688866175076), (2279, 0.0), (2280, 0.0), (2281, 0.0), (2282, 0.0), (2283, 0.0), (2284, 0.0), (2285, 0.07316200417372588), (2286, 0.0), (2287, 0.0), (2288, 0.005020721392224933), (2289, 0.02600059768156992), (2290, 0.0), (2291, 0.004554777459825124), (2292, 0.025732472923638814), (2293, 0.005198722546367607), (2294, 0.005656490095407739), (2295, 0.005425382540537308), (2296, 0.005162057220013897), (2297, 0.0), (2298, 0.0069844758351658275), (2299, 0.0), (2300, 0.018951589579114355), (2301, 0.0), (2302, 0.0), (2303, 0.0), (2304, 0.01086296817959858), (2305, 0.0), (2306, 0.0), (2307, 0.0), (2308, 0.012931305420019593), (2309, 0.005837562787071624), (2310, 0.006026701882598218), (2311, 0.0), (2312, 0.0), (2313, 0.0), (2314, 0.031730381394988134), (2315, 0.0), (2316, 0.012043699404460852), (2317, 0.034247683985058334), (2318, 0.0), (2319, 0.0), (2320, 0.026151941655984872), (2321, 0.0), (2322, 0.0), (2323, 0.021818883826944132), (2324, 0.018387539639231478), (2325, 0.0), (2326, 0.05946097239418191), (2327, 0.0288159819858663), (2328, 0.0), (2329, 0.0), (2330, 0.0), (2331, 0.0), (2332, 0.011704411634271796), (2333, 0.0), (2334, 0.03089256417814099), (2335, 0.035839030070289435), (2336, 0.0038202109783165737), (2337, 0.0), (2338, 0.009666240521431727), (2339, 0.0), (2340, 0.004661207467742818), (2341, 0.0), (2342, 0.0), (2343, 0.018737243433633786), (2344, 0.015032006652809746), (2345, 0.0), (2346, 0.037921450893676246), (2347, 0.0), (2348, 0.012435515152591366), (2349, 0.020133799253967754), (2350, 0.0), (2351, 0.0), (2352, 0.05762695282886421), (2353, 0.0), (2354, 0.02411104123836727), (2355, 0.0), (2356, 0.0), (2357, 0.008855507083265629), (2358, 0.0), (2359, 0.0), (2360, 0.03341409710863931), (2361, 0.0), (2362, 0.0), (2363, 0.029900274695147937), (2364, 0.053237578565545354), (2365, 0.015085577549445586), (2366, 0.005456817793363242), (2367, 0.0), (2368, 0.0), (2369, 0.0), (2370, 0.0), (2371, 0.005302183337059427), (2372, 0.029265980768962193), (2373, 0.0), (2374, 0.0), (2375, 0.05614506096273582), (2376, 0.0), (2377, 0.0), (2378, 0.0), (2379, 0.0), (2380, 0.02498144587539673), (2381, 0.02064968304040168), (2382, 0.0), (2383, 0.020744759329335682), (2384, 0.0), (2385, 0.0), (2386, 0.005042378331523824), (2387, 0.036263000856906126), (2388, 0.005023105578220552), (2389, 0.02337339881477829), (2390, 0.09721572836177679), (2391, 0.01364686277725305), (2392, 0.0), (2393, 0.0), (2394, 0.005660150629057587), (2395, 0.0717734888125209), (2396, 0.0), (2397, 0.03926112477191303), (2398, 0.017848265622549903), (2399, 0.0), (2400, 0.005302889197875984), (2401, 0.0), (2402, 0.0), (2403, 0.026359559679225975), (2404, 0.0), (2405, 0.04165552609379612), (2406, 0.022911806687844198), (2407, 0.0), (2408, 0.0), (2409, 0.0), (2410, 0.03866099100573239), (2411, 0.07991306301392023), (2412, 0.005396678605857267), (2413, 0.0), (2414, 0.0), (2415, 0.0), (2416, 0.0), (2417, 0.0), (2418, 0.0), (2419, 0.0), (2420, 0.0), (2421, 0.0), (2422, 0.0), (2423, 0.025211213437643886), (2424, 0.0), (2425, 0.03387809023892826), (2426, 0.0), (2427, 0.0), (2428, 0.0), (2429, 0.004272946053048578), (2430, 0.0), (2431, 0.0), (2432, 0.014495109884670697), (2433, 0.021203391990250522), (2434, 0.0), (2435, 0.004653390210170346), (2436, 0.0), (2437, 0.016930162697716654), (2438, 0.0), (2439, 0.00514214395453708), (2440, 0.0), (2441, 0.0), (2442, 0.11801551527576208), (2443, 0.0), (2444, 0.033670985212579184), (2445, 0.0), (2446, 0.01922602774172356), (2447, 0.0796671483623563), (2448, 0.0), (2449, 0.0), (2450, 0.0), (2451, 0.030236213474630548), (2452, 0.0), (2453, 0.01248226500426965), (2454, 0.024403486285283982), (2455, 0.0), (2456, 0.0), (2457, 0.006633642584404478), (2458, 0.022064888047551568), (2459, 0.0), (2460, 0.0), (2461, 0.0), (2462, 0.0), (2463, 0.0), (2464, 0.0), (2465, 0.0), (2466, 0.00579648735069686), (2467, 0.0), (2468, 0.0), (2469, 0.005744574146680447), (2470, 0.004202299500598704), (2471, 0.005283474412834783), (2472, 0.0), (2473, 0.0), (2474, 0.010435690345473498), (2475, 0.034855256142457006), (2476, 0.0), (2477, 0.0), (2478, 0.0), (2479, 0.02644208595477624), (2480, 0.01353803551373628), (2481, 0.0), (2482, 0.04303906942708964), (2483, 0.0), (2484, 0.015663689552300943), (2485, 0.0), (2486, 0.02209924879852305), (2487, 0.11854917619784915), (2488, 0.0), (2489, 0.0), (2490, 0.012221607443022251), (2491, 0.0), (2492, 0.06879303949099506), (2493, 0.0), (2494, 0.0), (2495, 0.0), (2496, 0.0), (2497, 0.0), (2498, 0.0), (2499, 0.0), (2500, 0.0), (2501, 0.0), (2502, 0.0), (2503, 0.0), (2504, 0.021979209379079167), (2505, 0.0), (2506, 0.014290124640371868), (2507, 0.0), (2508, 0.009216465321721287), (2509, 0.020192720859169604), (2510, 0.0059225035834765665), (2511, 0.0), (2512, 0.015287551538068737), (2513, 0.0), (2514, 0.005010477529264966), (2515, 0.009521994942916707), (2516, 0.0), (2517, 0.0), (2518, 0.0), (2519, 0.0), (2520, 0.0), (2521, 0.010159864026828988), (2522, 0.0), (2523, 0.04786213485896024), (2524, 0.0), (2525, 0.04901788205673706), (2526, 0.0), (2527, 0.005546335264589593), (2528, 0.02391864694874537), (2529, 0.0), (2530, 0.0), (2531, 0.0), (2532, 0.0), (2533, 0.016825760670945256), (2534, 0.0), (2535, 0.0), (2536, 0.012350056327166934), (2537, 0.013731266705212186), (2538, 0.021027379154926352), (2539, 0.022794637293680548), (2540, 0.0), (2541, 0.033273976156653), (2542, 0.0), (2543, 0.02034244612910576), (2544, 0.04588342705114), (2545, 0.014547466039789443), (2546, 0.0), (2547, 0.0), (2548, 0.0), (2549, 0.0), (2550, 0.007565671377227321), (2551, 0.0), (2552, 0.007064006772683059), (2553, 0.0), (2554, 0.0), (2555, 0.0), (2556, 0.005626875697222826), (2557, 0.0), (2558, 0.004920846568035233), (2559, 0.0), (2560, 0.0), (2561, 0.029051600724398444), (2562, 0.0), (2563, 0.021460530774660255), (2564, 0.024740889132493653), (2565, 0.005275470265758805), (2566, 0.0), (2567, 0.0), (2568, 0.0), (2569, 0.0), (2570, 0.0), (2571, 0.0), (2572, 0.0), (2573, 0.022424935530833526), (2574, 0.0), (2575, 0.025333143755637458), (2576, 0.0), (2577, 0.022300277075293078), (2578, 0.02465334146434576), (2579, 0.004866048005869381), (2580, 0.0671795127108113), (2581, 0.041497625294192375), (2582, 0.020278017895836994), (2583, 0.0056366172940620395), (2584, 0.0), (2585, 0.02444351190344401), (2586, 0.006069369540107501), (2587, 0.024872884188328035), (2588, 0.0), (2589, 0.0), (2590, 0.024139441827712896), (2591, 0.02732779373126816), (2592, 0.02059150898656264), (2593, 0.06389383129207697), (2594, 0.0), (2595, 0.0), (2596, 0.014212828780565272), (2597, 0.004394309423941854), (2598, 0.060052588088492925), (2599, 0.0), (2600, 0.0), (2601, 0.0), (2602, 0.0044598700895294024), (2603, 0.0), (2604, 0.0), (2605, 0.03178383679671824), (2606, 0.0), (2607, 0.058318686059136426), (2608, 0.020278503706807546), (2609, 0.00488242046637275), (2610, 0.0), (2611, 0.017511819046654043), (2612, 0.04143592695995994), (2613, 0.0), (2614, 0.0), (2615, 0.0), (2616, 0.0), (2617, 0.0), (2618, 0.0), (2619, 0.0), (2620, 0.0), (2621, 0.0), (2622, 0.0), (2623, 0.0056623461180706335), (2624, 0.0), (2625, 0.07654309445567076), (2626, 0.0), (2627, 0.0), (2628, 0.0), (2629, 0.0), (2630, 0.034339677848120996), (2631, 0.0), (2632, 0.0), (2633, 0.01208487579394921), (2634, 0.0), (2635, 0.0), (2636, 0.01841729207366866), (2637, 0.0), (2638, 0.013738311501094634), (2639, 0.021029685276341754), (2640, 0.0), (2641, 0.004497933254698279), (2642, 0.0), (2643, 0.0), (2644, 0.012061401156924428), (2645, 0.011974735251430075), (2646, 0.005771347326908636), (2647, 0.0), (2648, 0.06853895123206018), (2649, 0.0), (2650, 0.005639800859033323), (2651, 0.10922463680044495), (2652, 0.0), (2653, 0.01458313523225747), (2654, 0.028053673390468513), (2655, 0.013268190443770728), (2656, 0.0), (2657, 0.017609832409766307), (2658, 0.0), (2659, 0.0), (2660, 0.0), (2661, 0.0), (2662, 0.0), (2663, 0.023399971395220914), (2664, 0.0), (2665, 0.040272552215516025), (2666, 0.0), (2667, 0.0), (2668, 0.0), (2669, 0.006124502296101994), (2670, 0.0), (2671, 0.0), (2672, 0.01937015686329386), (2673, 0.0), (2674, 0.0), (2675, 0.011407900769378157), (2676, 0.02111910158924178), (2677, 0.0), (2678, 0.011370329542662533), (2679, 0.0), (2680, 0.0), (2681, 0.0103899720801055), (2682, 0.0), (2683, 0.011686803568592679), (2684, 0.03099094837704234), (2685, 0.0), (2686, 0.0), (2687, 0.0), (2688, 0.0068068489609706155), (2689, 0.0), (2690, 0.0), (2691, 0.0), (2692, 0.01217351885457515), (2693, 0.01419790191202831), (2694, 0.0), (2695, 0.0), (2696, 0.018554724253440204), (2697, 0.0), (2698, 0.020011758899799382), (2699, 0.0), (2700, 0.0), (2701, 0.0), (2702, 0.0), (2703, 0.0), (2704, 0.004305370651626386), (2705, 0.0), (2706, 0.06974487798298383), (2707, 0.0), (2708, 0.017919964210169458), (2709, 0.0), (2710, 0.0), (2711, 0.0), (2712, 0.005167416418130848), (2713, 0.0), (2714, 0.0), (2715, 0.0), (2716, 0.0), (2717, 0.0), (2718, 0.0), (2719, 0.0), (2720, 0.0), (2721, 0.0), (2722, 0.017401607100814283), (2723, 0.0), (2724, 0.0), (2725, 0.0), (2726, 0.015866919515008404), (2727, 0.0), (2728, 0.034631239483303086), (2729, 0.020511811023610972), (2730, 0.0), (2731, 0.023893560184227277), (2732, 0.0), (2733, 0.012587151237178577), (2734, 0.0), (2735, 0.030322882244643887), (2736, 0.010717262984836731), (2737, 0.0), (2738, 0.0), (2739, 0.0), (2740, 0.0), (2741, 0.04095116051496099), (2742, 0.0), (2743, 0.01646244225411281), (2744, 0.0), (2745, 0.0), (2746, 0.01580516308055372), (2747, 0.010149074904957393), (2748, 0.0), (2749, 0.0), (2750, 0.0), (2751, 0.017085584504312995), (2752, 0.01847949596672575), (2753, 0.0), (2754, 0.0), (2755, 0.02585942843074616), (2756, 0.0), (2757, 0.008978962875352603), (2758, 0.02342862863734637), (2759, 0.021026553836004373), (2760, 0.0), (2761, 0.03063419716359357), (2762, 0.0), (2763, 0.0), (2764, 0.017104324017712256), (2765, 0.0), (2766, 0.013023092171053963), (2767, 0.0), (2768, 0.025771786945032255), (2769, 0.0), (2770, 0.0), (2771, 0.0), (2772, 0.0), (2773, 0.0), (2774, 0.0), (2775, 0.005380984985625331), (2776, 0.0), (2777, 0.02326221592245232), (2778, 0.07912829138395373), (2779, 0.0), (2780, 0.0), (2781, 0.023355939319123487), (2782, 0.0), (2783, 0.0), (2784, 0.015515211198095357), (2785, 0.019062281241181304), (2786, 0.0), (2787, 0.011584390091460258), (2788, 0.0), (2789, 0.0), (2790, 0.004894662982769305), (2791, 0.01914339164656715), (2792, 0.0), (2793, 0.0), (2794, 0.03031150457579795), (2795, 0.0), (2796, 0.025216721661277162), (2797, 0.0), (2798, 0.0), (2799, 0.0), (2800, 0.016138727542253192), (2801, 0.0), (2802, 0.0), (2803, 0.026942217932415732), (2804, 0.0), (2805, 0.04987120255481403), (2806, 0.009460499472632828), (2807, 0.021158291526719067), (2808, 0.0), (2809, 0.02077613554554221), (2810, 0.0), (2811, 0.0), (2812, 0.011999915657026334), (2813, 0.0), (2814, 0.0), (2815, 0.028300715282608996), (2816, 0.0), (2817, 0.01907701094229019), (2818, 0.014858365967285719), (2819, 0.0044548936810403904), (2820, 0.0), (2821, 0.013294643977391787), (2822, 0.049777128030614154), (2823, 0.07521753439178427), (2824, 0.02114424536702512), (2825, 0.0), (2826, 0.024914187069248372), (2827, 0.011867715007051707), (2828, 0.0), (2829, 0.0), (2830, 0.0), (2831, 0.019419870271160884), (2832, 0.03314937055780064), (2833, 0.0), (2834, 0.01480910210957076), (2835, 0.0), (2836, 0.0), (2837, 0.0), (2838, 0.0), (2839, 0.0), (2840, 0.0), (2841, 0.03347941745945816), (2842, 0.0), (2843, 0.0), (2844, 0.0), (2845, 0.033187934186349646), (2846, 0.0), (2847, 0.0), (2848, 0.04217446027621361), (2849, 0.006003532625237702), (2850, 0.0), (2851, 0.023200288592632273), (2852, 0.0), (2853, 0.004374858084509444), (2854, 0.0), (2855, 0.0), (2856, 0.02346407331188894), (2857, 0.0), (2858, 0.0), (2859, 0.0), (2860, 0.010352798868347505), (2861, 0.0), (2862, 0.020306658679795322), (2863, 0.011660609353451172), (2864, 0.0), (2865, 0.017347573684338025), (2866, 0.0), (2867, 0.0070422019759826225), (2868, 0.08512351933984846), (2869, 0.0), (2870, 0.0), (2871, 0.0), (2872, 0.014529186619842262), (2873, 0.0), (2874, 0.0), (2875, 0.09266447864931436), (2876, 0.0), (2877, 0.014682064320228904), (2878, 0.022798040938136567), (2879, 0.0135727211190826), (2880, 0.0945793906236666), (2881, 0.0), (2882, 0.0), (2883, 0.0), (2884, 0.015851040919471263), (2885, 0.0), (2886, 0.006326848165429893), (2887, 0.0), (2888, 0.0), (2889, 0.0), (2890, 0.0), (2891, 0.0), (2892, 0.0), (2893, 0.0), (2894, 0.0), (2895, 0.0), (2896, 0.0), (2897, 0.020364922388074903), (2898, 0.0), (2899, 0.04194615902793838), (2900, 0.018858767013483553), (2901, 0.0), (2902, 0.0), (2903, 0.0), (2904, 0.022747218880770085), (2905, 0.0), (2906, 0.0), (2907, 0.0), (2908, 0.0), (2909, 0.0), (2910, 0.0), (2911, 0.0), (2912, 0.027852378698646332), (2913, 0.011247850680866317), (2914, 0.0), (2915, 0.006804327071526641), (2916, 0.0), (2917, 0.0), (2918, 0.02923985950902791), (2919, 0.0), (2920, 0.0), (2921, 0.006528425764962609), (2922, 0.0), (2923, 0.018170947165147014), (2924, 0.0), (2925, 0.0), (2926, 0.014237638518314059), (2927, 0.0), (2928, 0.0), (2929, 0.0), (2930, 0.0068831618281130925), (2931, 0.006465753311650526), (2932, 0.0), (2933, 0.007167663048576875), (2934, 0.052536143048090296), (2935, 0.0), (2936, 0.0), (2937, 0.04905242772281865), (2938, 0.0), (2939, 0.0), (2940, 0.0), (2941, 0.0), (2942, 0.0), (2943, 0.0), (2944, 0.0), (2945, 0.0), (2946, 0.0), (2947, 0.0), (2948, 0.0), (2949, 0.0), (2950, 0.0), (2951, 0.0), (2952, 0.0), (2953, 0.011249826590895136), (2954, 0.0), (2955, 0.0), (2956, 0.0), (2957, 0.0), (2958, 0.0), (2959, 0.005154087911749169), (2960, 0.0), (2961, 0.026818335180420993), (2962, 0.0), (2963, 0.0), (2964, 0.041677599944361265), (2965, 0.0), (2966, 0.03166777164339319), (2967, 0.03388945138281428), (2968, 0.02522031837177294), (2969, 0.006764704046406228), (2970, 0.0), (2971, 0.0), (2972, 0.03227898030431642), (2973, 0.0), (2974, 0.0), (2975, 0.0), (2976, 0.0), (2977, 0.0), (2978, 0.004890509277584749), (2979, 0.0), (2980, 0.005716058629350312), (2981, 0.02903107831211333), (2982, 0.0), (2983, 0.0), (2984, 0.0), (2985, 0.0), (2986, 0.004271698304992887), (2987, 0.03938019064766742), (2988, 0.0), (2989, 0.0), (2990, 0.0), (2991, 0.04161688532234371), (2992, 0.0), (2993, 0.0), (2994, 0.017683275665493457), (2995, 0.03101652026965315), (2996, 0.01153501242233907), (2997, 0.0), (2998, 0.0), (2999, 0.0), (3000, 0.0), (3001, 0.009985669212472282), (3002, 0.046017898279608824), (3003, 0.0), (3004, 0.006978045873770838), (3005, 0.0), (3006, 0.02740381634773281), (3007, 0.004155370017925361), (3008, 0.004227260906732616), (3009, 0.0), (3010, 0.0), (3011, 0.0), (3012, 0.037709876299721015), (3013, 0.032377210734013555), (3014, 0.016698645574594866), (3015, 0.011782301848372024), (3016, 0.0), (3017, 0.0), (3018, 0.01582214920998961), (3019, 0.010820718825941239), (3020, 0.005206215381695405), (3021, 0.005853967489774242), (3022, 0.0), (3023, 0.0), (3024, 0.020192954427426708), (3025, 0.0), (3026, 0.0), (3027, 0.0), (3028, 0.0), (3029, 0.00484334660712727), (3030, 0.004901112153131497), (3031, 0.0), (3032, 0.021747015799359157), (3033, 0.05897012935637259), (3034, 0.02562266212344415), (3035, 0.010819502808609466), (3036, 0.0), (3037, 0.0), (3038, 0.0), (3039, 0.0), (3040, 0.005237374048486282), (3041, 0.0), (3042, 0.0), (3043, 0.008583032768409401), (3044, 0.0), (3045, 0.0), (3046, 0.0), (3047, 0.016071915369111296), (3048, 0.08484258537596642), (3049, 0.0), (3050, 0.0), (3051, 0.013873959703921773), (3052, 0.0), (3053, 0.0), (3054, 0.022459672919839666), (3055, 0.020007934782818176), (3056, 0.0), (3057, 0.0), (3058, 0.0), (3059, 0.05021779720931467), (3060, 0.0), (3061, 0.0), (3062, 0.005163813575823164), (3063, 0.0), (3064, 0.0), (3065, 0.0), (3066, 0.0), (3067, 0.0), (3068, 0.006136258616110179), (3069, 0.040633432093703604), (3070, 0.0), (3071, 0.0), (3072, 0.02062290759590228), (3073, 0.004747037572311515), (3074, 0.004845060563615641), (3075, 0.0), (3076, 0.0), (3077, 0.005299324261548824), (3078, 0.0), (3079, 0.0), (3080, 0.0), (3081, 0.0), (3082, 0.0062639126872414035), (3083, 0.03884871002441669), (3084, 0.0), (3085, 0.0), (3086, 0.004826510505658616), (3087, 0.017910700500920074), (3088, 0.0), (3089, 0.025775887101097586), (3090, 0.02137842968875025), (3091, 0.0), (3092, 0.07891837238612753), (3093, 0.0), (3094, 0.015760202188451554), (3095, 0.0), (3096, 0.0), (3097, 0.0), (3098, 0.012609028669705515), (3099, 0.004274707698300852), (3100, 0.0), (3101, 0.0), (3102, 0.023051851380806707), (3103, 0.0), (3104, 0.0), (3105, 0.04674401623982694), (3106, 0.07997014560730106), (3107, 0.0), (3108, 0.0), (3109, 0.0), (3110, 0.0), (3111, 0.0), (3112, 0.0), (3113, 0.0), (3114, 0.0), (3115, 0.0), (3116, 0.09099285911588528), (3117, 0.0), (3118, 0.0), (3119, 0.0), (3120, 0.0151647770906625), (3121, 0.0), (3122, 0.0), (3123, 0.0), (3124, 0.0), (3125, 0.0), (3126, 0.017538797581552485), (3127, 0.01396187449989903), (3128, 0.005826198732267293), (3129, 0.007666419509117588), (3130, 0.02738808700176596), (3131, 0.0), (3132, 0.0), (3133, 0.03730270366386812), (3134, 0.0), (3135, 0.0), (3136, 0.010721757416326326), (3137, 0.0), (3138, 0.004664826799664076), (3139, 0.0), (3140, 0.0), (3141, 0.0), (3142, 0.05290348666856021), (3143, 0.009482089164376557), (3144, 0.005791375648456665), (3145, 0.0), (3146, 0.0), (3147, 0.018401295714452252), (3148, 0.010861239694748462), (3149, 0.0), (3150, 0.03569103164018499), (3151, 0.004921675590013534), (3152, 0.0), (3153, 0.005460135246898669), (3154, 0.005904076638167243), (3155, 0.016266184979756883), (3156, 0.0), (3157, 0.0), (3158, 0.02230660123811866), (3159, 0.0), (3160, 0.03712440402201127), (3161, 0.0), (3162, 0.00969198500724061), (3163, 0.02099400363413496), (3164, 0.0), (3165, 0.00457120850543212), (3166, 0.09485831843443035), (3167, 0.0), (3168, 0.0), (3169, 0.0), (3170, 0.0194389409263869), (3171, 0.006369873175742658), (3172, 0.06501858709662303), (3173, 0.0), (3174, 0.0), (3175, 0.0), (3176, 0.0), (3177, 0.010333395274468546), (3178, 0.0), (3179, 0.0), (3180, 0.005855593386044531), (3181, 0.0256632412050529), (3182, 0.014511745366330965), (3183, 0.0), (3184, 0.04240819686624578), (3185, 0.0), (3186, 0.0), (3187, 0.0), (3188, 0.0), (3189, 0.0), (3190, 0.08359397161521787), (3191, 0.0), (3192, 0.0), (3193, 0.0), (3194, 0.0), (3195, 0.048979135026667175), (3196, 0.01313422618618373), (3197, 0.0), (3198, 0.015302368062280473), (3199, 0.0), (3200, 0.0), (3201, 0.0), (3202, 0.007070435120814223), (3203, 0.020873800719233466), (3204, 0.03256123970253442), (3205, 0.0), (3206, 0.0), (3207, 0.06758821583454654), (3208, 0.033691149699765784), (3209, 0.004552908304358854), (3210, 0.022875714201250275), (3211, 0.07553768130905836), (3212, 0.0), (3213, 0.0), (3214, 0.017468865317160184), (3215, 0.006063959660734686), (3216, 0.0), (3217, 0.0), (3218, 0.0), (3219, 0.05592600094496471), (3220, 0.0), (3221, 0.004765914317647739), (3222, 0.0), (3223, 0.0), (3224, 0.031392556470672246), (3225, 0.008355150213166082), (3226, 0.0), (3227, 0.0), (3228, 0.0), (3229, 0.010249439060487869), (3230, 0.021550010666010956), (3231, 0.07281424490177868), (3232, 0.03335716808641377), (3233, 0.006805607768363701), (3234, 0.0), (3235, 0.0), (3236, 0.012944197431066692), (3237, 0.02786829475897347), (3238, 0.0), (3239, 0.0), (3240, 0.014499279464740165), (3241, 0.0), (3242, 0.0), (3243, 0.0), (3244, 0.0), (3245, 0.02708469630681958), (3246, 0.0), (3247, 0.0), (3248, 0.0), (3249, 0.061014366354987366), (3250, 0.012228178254713678), (3251, 0.009689890360343206), (3252, 0.012282313851175152), (3253, 0.0), (3254, 0.0), (3255, 0.016067741657233403), (3256, 0.017115758251878402), (3257, 0.0), (3258, 0.0), (3259, 0.00467237617301249), (3260, 0.027068818317644103), (3261, 0.0), (3262, 0.0), (3263, 0.0), (3264, 0.0), (3265, 0.0), (3266, 0.0), (3267, 0.08011546388957091), (3268, 0.0), (3269, 0.0), (3270, 0.0), (3271, 0.0), (3272, 0.0), (3273, 0.0), (3274, 0.03737986627014852), (3275, 0.0), (3276, 0.0), (3277, 0.0), (3278, 0.0), (3279, 0.0), (3280, 0.0066643116445866376), (3281, 0.0), (3282, 0.024999845583533856), (3283, 0.0), (3284, 0.006284629565791077), (3285, 0.0), (3286, 0.07308941541691992), (3287, 0.0), (3288, 0.0), (3289, 0.0), (3290, 0.02144480253855203), (3291, 0.0), (3292, 0.0), (3293, 0.01837043876621716), (3294, 0.0), (3295, 0.0), (3296, 0.01617948809788754), (3297, 0.005161864022938888), (3298, 0.0), (3299, 0.006265760824772603), (3300, 0.0), (3301, 0.0), (3302, 0.0), (3303, 0.0), (3304, 0.006892238046618312), (3305, 0.028192958880355168), (3306, 0.005945941102150752), (3307, 0.0), (3308, 0.02403741937278208), (3309, 0.004619446404534983), (3310, 0.0), (3311, 0.0), (3312, 0.015836367629427223), (3313, 0.0), (3314, 0.0), (3315, 0.024344806616694324), (3316, 0.005508473263378765), (3317, 0.0), (3318, 0.025300877734275674), (3319, 0.0), (3320, 0.0), (3321, 0.053576621809184016), (3322, 0.0), (3323, 0.01653425152968093), (3324, 0.0), (3325, 0.0), (3326, 0.005733658112892628), (3327, 0.0), (3328, 0.0), (3329, 0.00741119665113246), (3330, 0.0), (3331, 0.0), (3332, 0.0057902710499861355), (3333, 0.01294433461467238), (3334, 0.0), (3335, 0.005539744646294283), (3336, 0.01178077048317061), (3337, 0.012809048355345574), (3338, 0.0), (3339, 0.0), (3340, 0.0), (3341, 0.0), (3342, 0.0), (3343, 0.01220611983493751), (3344, 0.0), (3345, 0.0), (3346, 0.0), (3347, 0.03856391110921739), (3348, 0.0), (3349, 0.017053521387642552), (3350, 0.026389328938424154), (3351, 0.010977634572803725), (3352, 0.012529423436065584), (3353, 0.0063853436818123565), (3354, 0.045706206145241485), (3355, 0.01404518941497307), (3356, 0.0), (3357, 0.0), (3358, 0.0), (3359, 0.007342015640694246), (3360, 0.0), (3361, 0.026692859255017784), (3362, 0.0), (3363, 0.01577848400995156), (3364, 0.007047562104264666), (3365, 0.0), (3366, 0.025711679934013628), (3367, 0.0), (3368, 0.022940027959088092), (3369, 0.0), (3370, 0.010168111602149544), (3371, 0.0), (3372, 0.0236498561286449), (3373, 0.01518931875741413), (3374, 0.0), (3375, 0.0), (3376, 0.0), (3377, 0.029951949966049277), (3378, 0.0), (3379, 0.0), (3380, 0.0), (3381, 0.0), (3382, 0.0051220326285648125), (3383, 0.02118871097069351), (3384, 0.0), (3385, 0.09740307886285089), (3386, 0.09138549925375275), (3387, 0.0), (3388, 0.0), (3389, 0.0), (3390, 0.0), (3391, 0.0), (3392, 0.008990608780614062), (3393, 0.0), (3394, 0.0), (3395, 0.08035123326749159), (3396, 0.019596951155452333), (3397, 0.0), (3398, 0.0), (3399, 0.004338759175253046), (3400, 0.0), (3401, 0.0), (3402, 0.0), (3403, 0.008030607746666037), (3404, 0.0), (3405, 0.06323908267787794), (3406, 0.0), (3407, 0.0), (3408, 0.0), (3409, 0.0), (3410, 0.0), (3411, 0.0), (3412, 0.005778039264398612), (3413, 0.0), (3414, 0.06739740145570652), (3415, 0.0), (3416, 0.004696587073016579), (3417, 0.0039059484532769783), (3418, 0.0), (3419, 0.0), (3420, 0.019552625083482277), (3421, 0.03139957659234903), (3422, 0.0), (3423, 0.0), (3424, 0.010360832009865855), (3425, 0.0), (3426, 0.0), (3427, 0.025207309791548796), (3428, 0.014062329684315705), (3429, 0.0), (3430, 0.0), (3431, 0.0), (3432, 0.0), (3433, 0.0), (3434, 0.0), (3435, 0.0), (3436, 0.0), (3437, 0.0160083294691865), (3438, 0.0), (3439, 0.026416067011477917), (3440, 0.0), (3441, 0.028680403701073606), (3442, 0.036157697933916634), (3443, 0.0982044846044911), (3444, 0.02415340109723057), (3445, 0.0052913165409580465), (3446, 0.011864896503710778), (3447, 0.01258512528226528), (3448, 0.012713043639135673), (3449, 0.01205250074757264), (3450, 0.010723341389812749), (3451, 0.0), (3452, 0.0), (3453, 0.0), (3454, 0.0), (3455, 0.013311859677532876), (3456, 0.0), (3457, 0.0), (3458, 0.0), (3459, 0.0), (3460, 0.01966533055587232), (3461, 0.0), (3462, 0.02002099176211168), (3463, 0.04264862604372414), (3464, 0.0), (3465, 0.0), (3466, 0.06641563543098654), (3467, 0.0), (3468, 0.0), (3469, 0.038003193083974304), (3470, 0.0), (3471, 0.0), (3472, 0.0), (3473, 0.033245581909529774), (3474, 0.0), (3475, 0.0), (3476, 0.0), (3477, 0.004497427347240055), (3478, 0.0), (3479, 0.0), (3480, 0.0), (3481, 0.0), (3482, 0.0), (3483, 0.019821018181255937), (3484, 0.0), (3485, 0.005771123249596432), (3486, 0.02446585583393728), (3487, 0.0), (3488, 0.0), (3489, 0.0), (3490, 0.015644496346446483), (3491, 0.0), (3492, 0.005353226567318892), (3493, 0.0), (3494, 0.04515870214971449), (3495, 0.0), (3496, 0.0), (3497, 0.0), (3498, 0.0), (3499, 0.0), (3500, 0.007935316918030129), (3501, 0.0), (3502, 0.0), (3503, 0.0), (3504, 0.0), (3505, 0.0317544173502041), (3506, 0.0), (3507, 0.0), (3508, 0.0), (3509, 0.032967086488281415), (3510, 0.0), (3511, 0.0165490836836687), (3512, 0.013018075661763223), (3513, 0.0), (3514, 0.0), (3515, 0.0), (3516, 0.004639360221314012), (3517, 0.0), (3518, 0.004836185007868142), (3519, 0.0), (3520, 0.0), (3521, 0.0), (3522, 0.013218535854157314), (3523, 0.005587693151601276), (3524, 0.0), (3525, 0.0), (3526, 0.02705523981597407), (3527, 0.011894920028911267), (3528, 0.0), (3529, 0.0), (3530, 0.0), (3531, 0.0), (3532, 0.0), (3533, 0.0), (3534, 0.01687165112363746), (3535, 0.0), (3536, 0.0), (3537, 0.0), (3538, 0.0), (3539, 0.0), (3540, 0.0), (3541, 0.0), (3542, 0.0), (3543, 0.0), (3544, 0.0), (3545, 0.005389331015727168), (3546, 0.018580088906727382), (3547, 0.0), (3548, 0.0), (3549, 0.03932931580994427), (3550, 0.0), (3551, 0.0), (3552, 0.016482428079440274), (3553, 0.003917215574427574), (3554, 0.0), (3555, 0.0), (3556, 0.041140613358531655), (3557, 0.025098710857984603), (3558, 0.0), (3559, 0.0), (3560, 0.0), (3561, 0.03300237265065907), (3562, 0.020169508420463007), (3563, 0.0), (3564, 0.0), (3565, 0.0), (3566, 0.027404894446454903), (3567, 0.0), (3568, 0.03835807928442986), (3569, 0.02475497458793383), (3570, 0.0), (3571, 0.0), (3572, 0.0), (3573, 0.0), (3574, 0.0), (3575, 0.027876631392223846), (3576, 0.0), (3577, 0.0), (3578, 0.0), (3579, 0.004269907718423798), (3580, 0.0), (3581, 0.02426983371777497), (3582, 0.026886376000848044), (3583, 0.0), (3584, 0.0047613804120305294), (3585, 0.0), (3586, 0.0), (3587, 0.0), (3588, 0.0), (3589, 0.0), (3590, 0.0), (3591, 0.004920763730832189), (3592, 0.0), (3593, 0.0), (3594, 0.03290306759942856), (3595, 0.0), (3596, 0.0), (3597, 0.0), (3598, 0.0), (3599, 0.0), (3600, 0.0), (3601, 0.0), (3602, 0.0), (3603, 0.0044588232212948425), (3604, 0.015948690606744916), (3605, 0.0), (3606, 0.0051343465177073125), (3607, 0.04023450810159249), (3608, 0.0), (3609, 0.0), (3610, 0.0), (3611, 0.0), (3612, 0.037776982023949905), (3613, 0.01948003372570497), (3614, 0.0), (3615, 0.0), (3616, 0.03355934024428379), (3617, 0.011129643688387363), (3618, 0.029283074296355363), (3619, 0.011963501644533607), (3620, 0.01980110642306452), (3621, 0.0), (3622, 0.0), (3623, 0.16072885965373837), (3624, 0.01852188772384623), (3625, 0.0), (3626, 0.0), (3627, 0.0), (3628, 0.0), (3629, 0.0), (3630, 0.017456506784029626), (3631, 0.0), (3632, 0.0), (3633, 0.0), (3634, 0.0), (3635, 0.0), (3636, 0.03340518698729708), (3637, 0.016378456713068375), (3638, 0.0), (3639, 0.016118132561225927), (3640, 0.0), (3641, 0.0), (3642, 0.019232508485052695), (3643, 0.046233217904728605), (3644, 0.015617282936856533), (3645, 0.0), (3646, 0.0), (3647, 0.0), (3648, 0.0), (3649, 0.014759108733554373), (3650, 0.013330282102661236), (3651, 0.0), (3652, 0.03403682078357383), (3653, 0.0), (3654, 0.0), (3655, 0.0), (3656, 0.019235559063268272), (3657, 0.0), (3658, 0.0), (3659, 0.0), (3660, 0.0), (3661, 0.0), (3662, 0.0), (3663, 0.0), (3664, 0.03785075524569636), (3665, 0.0), (3666, 0.0), (3667, 0.005352080134931736), (3668, 0.0245040449596187), (3669, 0.0), (3670, 0.0), (3671, 0.0), (3672, 0.005332147487247097), (3673, 0.0), (3674, 0.0), (3675, 0.0), (3676, 0.0), (3677, 0.0), (3678, 0.0), (3679, 0.02737735051871367), (3680, 0.0), (3681, 0.0), (3682, 0.0), (3683, 0.0), (3684, 0.0), (3685, 0.0), (3686, 0.0), (3687, 0.0), (3688, 0.0), (3689, 0.005442218263497188), (3690, 0.0), (3691, 0.0), (3692, 0.010431332104299005), (3693, 0.012513126307627338), (3694, 0.0), (3695, 0.00623831776019219), (3696, 0.0), (3697, 0.0), (3698, 0.012435662789525867), (3699, 0.03887265762254949), (3700, 0.0), (3701, 0.0), (3702, 0.0), (3703, 0.0), (3704, 0.0), (3705, 0.035945282955126105), (3706, 0.0), (3707, 0.005230558150609256), (3708, 0.0), (3709, 0.0), (3710, 0.0), (3711, 0.013929991376590444), (3712, 0.0), (3713, 0.0), (3714, 0.006970814929696193), (3715, 0.011340836567692518), (3716, 0.0), (3717, 0.0), (3718, 0.0), (3719, 0.0), (3720, 0.0), (3721, 0.0), (3722, 0.00430500321630338), (3723, 0.0), (3724, 0.012893686602217928), (3725, 0.005465925185519919), (3726, 0.0), (3727, 0.0), (3728, 0.0), (3729, 0.0), (3730, 0.01771568093919857), (3731, 0.0), (3732, 0.0), (3733, 0.004458829739954662), (3734, 0.0), (3735, 0.0), (3736, 0.021045660330364657), (3737, 0.021390105526019606), (3738, 0.0), (3739, 0.0), (3740, 0.005066611676586138), (3741, 0.0), (3742, 0.0), (3743, 0.0), (3744, 0.0), (3745, 0.0), (3746, 0.0), (3747, 0.0), (3748, 0.013954404270771895), (3749, 0.055888793505057446), (3750, 0.02082952396895763), (3751, 0.04350209155881779), (3752, 0.0), (3753, 0.0), (3754, 0.0), (3755, 0.02319020283761282), (3756, 0.005633564108203619), (3757, 0.0), (3758, 0.0044871337109588), (3759, 0.0), (3760, 0.0), (3761, 0.0), (3762, 0.0), (3763, 0.0), (3764, 0.0040783611011913435), (3765, 0.0), (3766, 0.0), (3767, 0.0), (3768, 0.0), (3769, 0.0), (3770, 0.0), (3771, 0.024617504147896943), (3772, 0.0), (3773, 0.0), (3774, 0.005950220628826842), (3775, 0.0), (3776, 0.0), (3777, 0.049232282301304324), (3778, 0.0), (3779, 0.0), (3780, 0.0), (3781, 0.0), (3782, 0.0), (3783, 0.0), (3784, 0.0), (3785, 0.0), (3786, 0.013835301649547466), (3787, 0.0), (3788, 0.0), (3789, 0.0), (3790, 0.0), (3791, 0.0), (3792, 0.0), (3793, 0.0), (3794, 0.0), (3795, 0.026181996876601853), (3796, 0.024958956331635498), (3797, 0.0), (3798, 0.0), (3799, 0.012265225157641339), (3800, 0.020996848443428837), (3801, 0.0), (3802, 0.0)]\n"
          ]
        }
      ]
    },
    {
      "cell_type": "code",
      "source": [],
      "metadata": {
        "id": "dxU86f5LGIwS"
      },
      "execution_count": null,
      "outputs": []
    },
    {
      "cell_type": "code",
      "source": [
        "sorted_similar_score = sorted(similarity_score, key=lambda x:x[1], reverse=True)"
      ],
      "metadata": {
        "id": "txDhD8tIF-S_"
      },
      "execution_count": 27,
      "outputs": []
    },
    {
      "cell_type": "code",
      "source": [
        "print(sorted_similar_score)"
      ],
      "metadata": {
        "colab": {
          "base_uri": "https://localhost:8080/"
        },
        "id": "I5XDNarwGp8Y",
        "outputId": "bdcaf51f-963c-45cb-d143-b02d2272e3ce"
      },
      "execution_count": 28,
      "outputs": [
        {
          "output_type": "stream",
          "name": "stdout",
          "text": [
            "[(68, 1.0000000000000002), (79, 0.40379182660763396), (31, 0.30832937136726607), (7, 0.2376294162085494), (16, 0.22550152370111418), (26, 0.21393300865856762), (85, 0.20358489038657382), (182, 0.19247495505908488), (511, 0.16496430970486958), (3623, 0.16072885965373837), (64, 0.15092905117742403), (203, 0.14555534743794216), (174, 0.14381137978831626), (101, 0.14117238492589082), (46, 0.1386933717314303), (169, 0.13353543509852026), (1740, 0.1335173071394344), (94, 0.1316566698117334), (126, 0.13085208846797108), (788, 0.13055578327365971), (131, 0.12911730957690404), (33, 0.12748453799561188), (783, 0.1205829105123965), (138, 0.1191908587234044), (2487, 0.11854917619784915), (2442, 0.11801551527576208), (661, 0.11596286230938796), (607, 0.1106915450662149), (353, 0.11048241706471125), (2651, 0.10922463680044495), (38, 0.10882680996851699), (1451, 0.1077931602985073), (1553, 0.10626123696441003), (122, 0.10458651475149601), (242, 0.10229717621472234), (618, 0.10120201227449724), (1210, 0.09902724717708405), (954, 0.09864771484467144), (720, 0.09862907445905185), (3443, 0.0982044846044911), (2235, 0.09782012326498281), (3385, 0.09740307886285089), (2390, 0.09721572836177679), (1406, 0.09694744580022491), (800, 0.09552360900697784), (14, 0.09533038683060381), (3166, 0.09485831843443035), (870, 0.09467560430652013), (2880, 0.0945793906236666), (307, 0.09411865281376383), (1368, 0.09344216150896992), (2875, 0.09266447864931436), (3386, 0.09138549925375275), (3116, 0.09099285911588528), (1192, 0.09095991139212532), (2186, 0.08948281261918109), (1282, 0.08908421838000423), (205, 0.08883341829556254), (39, 0.08882348519904978), (940, 0.08873794651478872), (882, 0.08840494819099366), (1956, 0.08814170726192014), (232, 0.0879430190777612), (356, 0.08794074148727994), (945, 0.08533555839218346), (2868, 0.08512351933984846), (3048, 0.08484258537596642), (361, 0.08451686439789194), (78, 0.08427724102756802), (1573, 0.0840117004847024), (1135, 0.08377990138714249), (1015, 0.08365979490083049), (3190, 0.08359397161521787), (1274, 0.08126676831882429), (401, 0.08096894437874318), (1428, 0.08073985807004586), (1864, 0.08072672353571825), (198, 0.08059014743388339), (3395, 0.08035123326749159), (960, 0.0803491454920076), (2063, 0.0803324687663425), (3267, 0.08011546388957091), (3106, 0.07997014560730106), (2411, 0.07991306301392023), (2066, 0.07977068325895176), (2447, 0.0796671483623563), (1029, 0.07939262665265918), (2778, 0.07912829138395373), (1170, 0.0790372420393735), (3092, 0.07891837238612753), (129, 0.07843639530959104), (19, 0.07817305207522163), (30, 0.07738782905891803), (6, 0.07716549140047418), (501, 0.07701264160492088), (2625, 0.07654309445567076), (20, 0.07645751825594041), (1710, 0.07592409500864612), (3211, 0.07553768130905836), (2823, 0.07521753439178427), (318, 0.07503287173758633), (10, 0.07494888501133909), (674, 0.07486135508785352), (1780, 0.07482412687461683), (9, 0.07459839712631763), (1459, 0.07459545278971069), (763, 0.07451652327981767), (421, 0.07422383621576384), (2285, 0.07316200417372588), (3286, 0.07308941541691992), (3231, 0.07281424490177868), (2221, 0.07271633952038745), (1821, 0.0726234270597076), (396, 0.07248305699162039), (1651, 0.07236439045495704), (725, 0.07223789916848004), (91, 0.07196997426023458), (641, 0.07189711626807734), (2395, 0.0717734888125209), (1972, 0.07160137863043155), (2044, 0.07157565392951494), (885, 0.07108656002310298), (2706, 0.06974487798298383), (1311, 0.06933954450740644), (72, 0.06926770245190028), (460, 0.06922575391653635), (1230, 0.06910334900544018), (1180, 0.06893614434545221), (2492, 0.06879303949099506), (1317, 0.06864783991381063), (2648, 0.06853895123206018), (654, 0.06806875947028375), (1652, 0.06805993710813502), (840, 0.06766631910894429), (3207, 0.06758821583454654), (1654, 0.06756331682494246), (1664, 0.0675419536732299), (185, 0.06749111686445336), (3414, 0.06739740145570652), (2580, 0.0671795127108113), (1971, 0.06670907219762595), (1720, 0.06641952267930852), (3466, 0.06641563543098654), (238, 0.065720373080032), (1365, 0.0653390984815001), (3172, 0.06501858709662303), (1494, 0.06458939149605387), (41, 0.06432894536057938), (166, 0.06411750651166721), (278, 0.06406195464873433), (2593, 0.06389383129207697), (805, 0.06366368973707952), (705, 0.06345337129121721), (1165, 0.06335731846834487), (3405, 0.06323908267787794), (1277, 0.06298171537087136), (1128, 0.06290678694711212), (2138, 0.06254590694974166), (95, 0.06178876061518883), (332, 0.06132514502477239), (436, 0.06132422204199896), (1670, 0.06116771314359841), (3249, 0.061014366354987366), (2183, 0.06096071684896965), (28, 0.06082668339027722), (1874, 0.06018746390482323), (599, 0.06016679059777526), (2598, 0.060052588088492925), (382, 0.06000106131499659), (1482, 0.05973017717751979), (2326, 0.05946097239418191), (1753, 0.0590898950266386), (291, 0.05908357323620872), (3033, 0.05897012935637259), (420, 0.05888228550335374), (1502, 0.05834231774841199), (2607, 0.058318686059136426), (680, 0.05778599633707005), (1233, 0.05773594584438646), (2352, 0.05762695282886421), (508, 0.057566855608105046), (789, 0.05693059678248642), (2127, 0.05664474176033374), (2089, 0.0564117666125023), (2375, 0.05614506096273582), (270, 0.056138031049357426), (1916, 0.05603581490770817), (3219, 0.05592600094496471), (3749, 0.055888793505057446), (675, 0.055781084805317356), (507, 0.055729026832405076), (2253, 0.05557500453032579), (1041, 0.05532942590380909), (43, 0.05525618367970298), (1200, 0.0551988635436424), (1213, 0.05500136567078338), (1, 0.054732027237567996), (1484, 0.053840784597810554), (3321, 0.053576621809184016), (1152, 0.05344497157412351), (2364, 0.053237578565545354), (728, 0.05322246665550388), (631, 0.052952463796266155), (3142, 0.05290348666856021), (782, 0.05267501337470943), (2934, 0.052536143048090296), (1495, 0.05245411567041445), (1978, 0.051953498028172826), (330, 0.051671028565044276), (833, 0.05158584586728861), (845, 0.051529477967377904), (1703, 0.05106345470124904), (457, 0.050987609844946324), (664, 0.05088118820123578), (412, 0.05079308977794977), (262, 0.05041803911414166), (574, 0.050304586205865934), (329, 0.05028245207137071), (873, 0.050241758612783925), (3059, 0.05021779720931467), (76, 0.0501176573097835), (2805, 0.04987120255481403), (2822, 0.049777128030614154), (331, 0.04962878454141033), (199, 0.04949823513135893), (163, 0.049366931715056295), (3777, 0.049232282301304324), (2937, 0.04905242772281865), (1291, 0.049046785265734805), (54, 0.049029777408779694), (2525, 0.04901788205673706), (1715, 0.049004633047714546), (3195, 0.048979135026667175), (2164, 0.04892279039794298), (956, 0.048761956672760176), (98, 0.04863885914387522), (2039, 0.04839652231189524), (1016, 0.04839219693964078), (1641, 0.04793159278033383), (2523, 0.04786213485896024), (911, 0.0469991944771129), (3105, 0.04674401623982694), (1650, 0.04663623035450256), (1086, 0.04659302984314783), (1358, 0.04626503591460631), (3643, 0.046233217904728605), (3002, 0.046017898279608824), (2544, 0.04588342705114), (207, 0.04570843195402917), (3354, 0.045706206145241485), (1024, 0.04564598997942309), (2046, 0.045260701083711156), (1367, 0.045208548057970054), (3494, 0.04515870214971449), (1398, 0.045130255822282986), (977, 0.04494034211750926), (953, 0.04452504251198741), (1604, 0.04450993486735011), (1249, 0.04438899785717994), (545, 0.04420598490077675), (1967, 0.044049973598888514), (483, 0.0439372336837281), (324, 0.043831073219251455), (1392, 0.04354266317989833), (3751, 0.04350209155881779), (1272, 0.043415339928293384), (1899, 0.04340741399878558), (546, 0.04339673832932317), (2129, 0.04322529342275414), (2482, 0.04303906942708964), (539, 0.042807887789521354), (466, 0.0427393883442538), (178, 0.042696552941221856), (3463, 0.04264862604372414), (1480, 0.042485073406415615), (3184, 0.04240819686624578), (1696, 0.04240275709153496), (441, 0.042213519306419006), (2848, 0.04217446027621361), (464, 0.04209318852349312), (1932, 0.04201422486794095), (2899, 0.04194615902793838), (726, 0.04193057030810129), (136, 0.04176878732059786), (2964, 0.041677599944361265), (2405, 0.04165552609379612), (2991, 0.04161688532234371), (2107, 0.041615008027949166), (929, 0.04150533236741023), (2581, 0.041497625294192375), (2612, 0.04143592695995994), (3556, 0.041140613358531655), (316, 0.04109555116406205), (2151, 0.04105242505843013), (2741, 0.04095116051496099), (279, 0.04082809422743715), (2145, 0.04076007149174993), (3069, 0.040633432093703604), (310, 0.04047074897279597), (18, 0.04045839587877891), (249, 0.040437739386541285), (1155, 0.04043470165298359), (309, 0.04043104408540938), (241, 0.0403199558592855), (2665, 0.040272552215516025), (3607, 0.04023450810159249), (1288, 0.040109668585051474), (1039, 0.04005487367465109), (536, 0.040036134882840656), (256, 0.040008536341068726), (1990, 0.03999677797300599), (110, 0.0396784796159437), (752, 0.03966412590637443), (2987, 0.03938019064766742), (1865, 0.0393712477155303), (3549, 0.03932931580994427), (1055, 0.03929604499963604), (2397, 0.03926112477191303), (2205, 0.03922782730320067), (1649, 0.03918601430456619), (1396, 0.03911915602665961), (451, 0.0391016088546993), (3699, 0.03887265762254949), (3083, 0.03884871002441669), (425, 0.03871123656987149), (2410, 0.03866099100573239), (1446, 0.03860754996307831), (3347, 0.03856391110921739), (3568, 0.03835807928442986), (889, 0.0383109514899893), (1439, 0.03830691763319595), (2043, 0.03820477431944884), (2060, 0.03817494281187896), (446, 0.03816581597907265), (1177, 0.03815085469866521), (761, 0.038045832439937505), (3469, 0.038003193083974304), (1712, 0.03799644684460263), (2346, 0.037921450893676246), (3664, 0.03785075524569636), (3612, 0.037776982023949905), (1636, 0.03776408378707217), (3012, 0.037709876299721015), (2028, 0.037383015462648314), (3274, 0.03737986627014852), (3133, 0.03730270366386812), (3160, 0.03712440402201127), (864, 0.036451674902082364), (56, 0.0363547029817111), (2387, 0.036263000856906126), (103, 0.03623081515906372), (564, 0.036205486805910736), (1456, 0.03620148157396952), (3442, 0.036157697933916634), (47, 0.03596567004812609), (370, 0.03595944973462882), (1052, 0.03595822314449668), (3705, 0.035945282955126105), (732, 0.035896475409497475), (2335, 0.035839030070289435), (3150, 0.03569103164018499), (271, 0.03560949790088457), (1469, 0.03560757505579633), (1247, 0.03555221085068896), (57, 0.03549973106610681), (1097, 0.03541733747566418), (1324, 0.035331231111806125), (1542, 0.035126639184243025), (2007, 0.03511218463596487), (1297, 0.03501915004894295), (2475, 0.034855256142457006), (2114, 0.03484346192580606), (1445, 0.03477505510926615), (2728, 0.034631239483303086), (1802, 0.034625204552110406), (700, 0.03452373197204033), (102, 0.03449084873969331), (2228, 0.03445718779230502), (111, 0.034398435597705404), (2630, 0.034339677848120996), (35, 0.03427504129001759), (2317, 0.034247683985058334), (158, 0.03418666465285652), (254, 0.03408970596965714), (193, 0.03407296989611845), (127, 0.03405847350812191), (402, 0.03405086368271315), (3652, 0.03403682078357383), (440, 0.033994084684806754), (1782, 0.03397129120647006), (976, 0.03395297501767942), (1390, 0.033936588666945294), (2967, 0.03388945138281428), (2425, 0.03387809023892826), (855, 0.03386052768045723), (668, 0.03379674042198735), (183, 0.033773435453577395), (646, 0.03376912209137081), (570, 0.033729045307568956), (733, 0.03371031292534977), (328, 0.03369859802743919), (3208, 0.033691149699765784), (2444, 0.033670985212579184), (2111, 0.033609926865797134), (2101, 0.03357399792274263), (3616, 0.03355934024428379), (322, 0.03348883402981835), (2841, 0.03347941745945816), (2360, 0.03341409710863931), (1794, 0.0334055699439228), (3636, 0.03340518698729708), (2270, 0.03336975182786663), (3232, 0.03335716808641377), (1083, 0.033306988580218744), (83, 0.033287265087861145), (2541, 0.033273976156653), (3473, 0.033245581909529774), (2845, 0.033187934186349646), (1005, 0.033181177586042165), (587, 0.03315913569396658), (2832, 0.03314937055780064), (229, 0.033072226306886256), (3561, 0.03300237265065907), (3509, 0.032967086488281415), (1250, 0.032965277185544144), (1490, 0.032911240748371436), (3594, 0.03290306759942856), (972, 0.0328938845090745), (1872, 0.03286575696096883), (1209, 0.03262554756615188), (3204, 0.03256123970253442), (108, 0.03243696442476962), (61, 0.03239712228643805), (0, 0.032386996765788253), (3013, 0.032377210734013555), (2972, 0.03227898030431642), (495, 0.03222728127885354), (96, 0.03219191900771647), (260, 0.0321322668612143), (755, 0.03199719521008226), (311, 0.03197448675385557), (1583, 0.031891388525611686), (70, 0.031866441745312904), (1617, 0.03183842926313246), (2605, 0.03178383679671824), (3505, 0.0317544173502041), (2314, 0.031730381394988134), (2966, 0.03166777164339319), (735, 0.03162680325869776), (1119, 0.03152952999498502), (4, 0.03149764973956762), (1986, 0.031453580451364), (1294, 0.031422785693251284), (3421, 0.03139957659234903), (3224, 0.031392556470672246), (1259, 0.03136325744313995), (635, 0.031327897027123935), (150, 0.031283408705629616), (922, 0.03122096710771367), (345, 0.031197306450348152), (149, 0.031175524056472295), (366, 0.03103398202570019), (2995, 0.03101652026965315), (168, 0.031015939186541056), (2684, 0.03099094837704234), (490, 0.03099074988769271), (201, 0.030988882233368972), (2163, 0.030984737715845024), (2093, 0.030960663765383922), (1984, 0.03095392692244453), (2334, 0.03089256417814099), (813, 0.030776427871152166), (128, 0.03077369184967737), (36, 0.0307381217299286), (59, 0.030718788299395637), (2761, 0.03063419716359357), (459, 0.03060295480630261), (212, 0.03042853411580517), (1303, 0.03038675979371787), (393, 0.03035456767806359), (487, 0.030330212776577097), (1093, 0.030329297908446417), (2735, 0.030322882244643887), (2794, 0.03031150457579795), (228, 0.030306928439022926), (2451, 0.030236213474630548), (146, 0.030200242007299757), (365, 0.030190349400358488), (123, 0.030189434674601907), (920, 0.030126029282253254), (600, 0.030079634394061205), (334, 0.03007538054806256), (1034, 0.029971980120287116), (3377, 0.029951949966049277), (775, 0.029913234507532128), (2171, 0.02990450628341437), (2363, 0.029900274695147937), (2010, 0.029891810248872677), (125, 0.029844227028856935), (1332, 0.0296574040817148), (342, 0.02956667653138972), (577, 0.029519751538290135), (27, 0.029517826678698404), (1518, 0.029414784686363882), (3618, 0.029283074296355363), (878, 0.029272773630607152), (2372, 0.029265980768962193), (2918, 0.02923985950902791), (52, 0.029214149298921938), (1790, 0.02920865201555916), (493, 0.02920290492861275), (1201, 0.029148877192557033), (1925, 0.02911637230097463), (2561, 0.029051600724398444), (2981, 0.02903107831211333), (1001, 0.028995642639877563), (419, 0.028959605027892982), (503, 0.028872671627667754), (2075, 0.028861362116658733), (1285, 0.02885222889222795), (2327, 0.0288159819858663), (593, 0.028797547685725823), (967, 0.028788449117659817), (1440, 0.028766891542735915), (211, 0.028763262400793164), (799, 0.02872061306541581), (562, 0.02868961685829906), (3441, 0.028680403701073606), (414, 0.028652829939772306), (1079, 0.02863882309138605), (581, 0.02862579566621779), (219, 0.02857883055161016), (32, 0.028543417521816515), (461, 0.028525555081100485), (1044, 0.028518328774208214), (225, 0.028383073558065516), (2047, 0.028380576208494383), (1750, 0.028354615682899174), (1434, 0.028319220410028698), (1191, 0.028313937832051772), (2815, 0.028300715282608996), (3305, 0.028192958880355168), (400, 0.028165834455316747), (1922, 0.028126341290250666), (1059, 0.02810267845500291), (2654, 0.028053673390468513), (165, 0.028034852358204177), (1237, 0.0280222875837868), (965, 0.02801641650603786), (200, 0.027979619867853484), (685, 0.027943928424079792), (3575, 0.027876631392223846), (3237, 0.02786829475897347), (2912, 0.027852378698646332), (67, 0.027818292836270807), (931, 0.027752332700675023), (1819, 0.02762862685967089), (1880, 0.0276262958331907), (1827, 0.027618275630265907), (713, 0.027608333398133365), (3566, 0.027404894446454903), (3006, 0.02740381634773281), (2024, 0.027402745222008813), (3130, 0.02738808700176596), (3679, 0.02737735051871367), (2591, 0.02732779373126816), (1596, 0.027290417962452115), (362, 0.027279793702325715), (1068, 0.027276206976190313), (107, 0.027256811779497837), (601, 0.027197706582784618), (306, 0.027182993320470607), (1496, 0.027088935039115025), (3245, 0.02708469630681958), (2128, 0.02708321327660703), (3260, 0.027068818317644103), (3526, 0.02705523981597407), (1014, 0.026978402893370168), (319, 0.026963412735240486), (2803, 0.026942217932415732), (1002, 0.026941084974503586), (305, 0.026935493945944307), (3582, 0.026886376000848044), (778, 0.02687885651286382), (2226, 0.02686092134964806), (2961, 0.026818335180420993), (1507, 0.026767237284793525), (1569, 0.026761928689178663), (300, 0.026744160335930196), (82, 0.02669805371543485), (3361, 0.026692859255017784), (196, 0.0266715519685756), (1852, 0.026645684595938624), (948, 0.026622073149067706), (51, 0.026621932791065624), (415, 0.026611294172180756), (1468, 0.026601881537849346), (1687, 0.026589806175721913), (233, 0.026530840824955784), (2196, 0.02650115350145745), (699, 0.02649995559726962), (1377, 0.02646215149407912), (87, 0.02644735522359238), (2479, 0.02644208595477624), (3439, 0.026416067011477917), (3350, 0.026389328938424154), (2403, 0.026359559679225975), (2103, 0.02635041845859276), (222, 0.026347378369841044), (939, 0.026294148186683124), (838, 0.02627281969193539), (740, 0.026270102679953174), (609, 0.02621257531764823), (1399, 0.02618484538816055), (3795, 0.026181996876601853), (2320, 0.026151941655984872), (1302, 0.026065853483827124), (313, 0.02601288036712337), (2198, 0.026012425426728446), (2289, 0.02600059768156992), (1531, 0.02596880952105087), (2213, 0.025951050447632407), (480, 0.025937438890339073), (476, 0.02591251942450721), (657, 0.02587376066152066), (456, 0.02586243867684883), (2755, 0.02585942843074616), (1633, 0.025845658218447923), (2077, 0.025823648339205824), (1344, 0.025795192607939037), (1826, 0.025790053213113406), (3089, 0.025775887101097586), (2768, 0.025771786945032255), (2292, 0.025732472923638814), (3366, 0.025711679934013628), (266, 0.025706821438893888), (1070, 0.02570272283471366), (3181, 0.0256632412050529), (3034, 0.02562266212344415), (380, 0.025609919266010722), (1296, 0.025585274147822412), (797, 0.02555308719399773), (230, 0.02554547973807695), (371, 0.02550147898686111), (1058, 0.025489093798317142), (74, 0.02548623847402498), (1198, 0.025404423794971504), (426, 0.02537236985661025), (2575, 0.025333143755637458), (3318, 0.025300877734275674), (1642, 0.02529643044639677), (97, 0.025279419888821004), (377, 0.025231208610696332), (2968, 0.02522031837177294), (1757, 0.025218168148074774), (151, 0.025216855636047197), (2796, 0.025216721661277162), (2423, 0.025211213437643886), (3427, 0.025207309791548796), (1395, 0.025170751490854213), (768, 0.02512801965520977), (1171, 0.025114895961114835), (257, 0.025102486603208587), (335, 0.02510184999403822), (3557, 0.025098710857984603), (410, 0.025083600375526684), (3282, 0.024999845583533856), (2380, 0.02498144587539673), (3796, 0.024958956331635498), (263, 0.024932126685859913), (2826, 0.024914187069248372), (358, 0.02489133720686002), (2587, 0.024872884188328035), (2112, 0.024866369915636153), (510, 0.02486470383855598), (665, 0.02480235317407773), (3569, 0.02475497458793383), (1326, 0.024752970291108744), (2564, 0.024740889132493653), (475, 0.02472165554442548), (1370, 0.02471594785759073), (1319, 0.02468374704730508), (850, 0.02467557806431949), (2578, 0.02465334146434576), (2264, 0.024628558194281294), (3771, 0.024617504147896943), (1354, 0.02461018539504684), (2192, 0.024563071560527713), (2245, 0.02454949462661718), (777, 0.024511353654183353), (3668, 0.0245040449596187), (93, 0.024488047448693328), (1601, 0.024471589006662412), (3486, 0.02446585583393728), (2585, 0.02444351190344401), (2454, 0.024403486285283982), (1335, 0.024398531539335192), (505, 0.02436869153230807), (634, 0.024357232314008766), (3315, 0.024344806616694324), (1387, 0.024340638554871105), (1131, 0.024310736419299626), (1701, 0.024285769823530007), (224, 0.024276736385596045), (3581, 0.02426983371777497), (220, 0.024184730728874827), (3444, 0.02415340109723057), (2590, 0.024139441827712896), (2084, 0.02412948429261155), (2354, 0.02411104123836727), (1110, 0.024067262039759264), (3308, 0.02403741937278208), (275, 0.02398911914024198), (2528, 0.02391864694874537), (658, 0.023917319388490833), (2731, 0.023893560184227277), (1465, 0.02387283366624214), (1491, 0.023852103558241033), (1383, 0.02375328426844615), (1425, 0.023734042408721064), (701, 0.023704314103139924), (1269, 0.023686373119668497), (2034, 0.023676879109634914), (1683, 0.023661780540370065), (1363, 0.02365369506432716), (3372, 0.0236498561286449), (376, 0.02360992616558531), (582, 0.02352495197966065), (2155, 0.023516127040987243), (1092, 0.023509200835243705), (2856, 0.02346407331188894), (1625, 0.02343727020476867), (2758, 0.02342862863734637), (2663, 0.023399971395220914), (2389, 0.02337339881477829), (1271, 0.02336241800768612), (2781, 0.023355939319123487), (1217, 0.02333376200449094), (2777, 0.02326221592245232), (449, 0.023242092187632943), (1644, 0.02322985667894702), (2851, 0.023200288592632273), (3755, 0.02319020283761282), (386, 0.02315979937433476), (1896, 0.02313619594663359), (223, 0.02312781216172924), (1568, 0.023103324702174504), (1028, 0.02308588822324479), (2026, 0.023058185737080433), (3102, 0.023051851380806707), (45, 0.0230486341385487), (2002, 0.022945219794112594), (3368, 0.022940027959088092), (2406, 0.022911806687844198), (542, 0.022880530344541034), (3210, 0.022875714201250275), (780, 0.02280596554036719), (2878, 0.022798040938136567), (2539, 0.022794637293680548), (625, 0.022786957942016052), (2904, 0.022747218880770085), (116, 0.022725557432974025), (854, 0.022698457240734517), (1232, 0.022681186335779153), (1863, 0.022647564437472695), (2157, 0.02264113731124074), (949, 0.022564540505421258), (754, 0.022511839664649595), (3054, 0.022459672919839666), (2573, 0.022424935530833526), (184, 0.022365911140326898), (774, 0.022310982791537554), (3158, 0.02230660123811866), (2577, 0.022300277075293078), (1345, 0.02222210265804987), (1999, 0.02210454113202538), (2486, 0.02209924879852305), (990, 0.022072784957580197), (2458, 0.022064888047551568), (2179, 0.02206236151264276), (904, 0.022049276459078292), (996, 0.0220477652550393), (462, 0.022043122571456738), (1270, 0.022016795820537595), (2504, 0.021979209379079167), (626, 0.02195979046252054), (974, 0.021934651608951368), (1769, 0.021915679030691505), (1336, 0.02188877678225192), (1959, 0.021884065529333765), (389, 0.021837565104893864), (711, 0.02182692958994819), (1968, 0.02182662984459232), (2323, 0.021818883826944132), (2220, 0.021800875925676446), (3032, 0.021747015799359157), (612, 0.02174093906412387), (442, 0.02172879132748668), (1547, 0.02170975507076561), (706, 0.021563328756591144), (3230, 0.021550010666010956), (591, 0.021546595396250014), (1595, 0.021530163689541387), (1535, 0.02152224418431613), (908, 0.021514547855693553), (2563, 0.021460530774660255), (900, 0.02145546029467845), (3290, 0.02144480253855203), (1506, 0.02142270878338357), (373, 0.021417347864117104), (3737, 0.021390105526019606), (3090, 0.02137842968875025), (264, 0.021347682110819905), (1762, 0.021339191195415677), (1328, 0.021295617908435052), (170, 0.021283127274730886), (1974, 0.021232633189479322), (2433, 0.021203391990250522), (3383, 0.02118871097069351), (292, 0.02117721328545828), (2807, 0.021158291526719067), (1815, 0.02115097207094943), (2824, 0.02114424536702512), (1995, 0.02114070117802136), (2676, 0.02111910158924178), (902, 0.021106588068986076), (3736, 0.021045660330364657), (470, 0.021031197431673816), (2639, 0.021029685276341754), (2538, 0.021027379154926352), (2759, 0.021026553836004373), (3800, 0.020996848443428837), (3163, 0.02099400363413496), (1936, 0.02098696420706702), (350, 0.02097634233761357), (1184, 0.02096142458929881), (1488, 0.020956921895946407), (1589, 0.02094618891431175), (1931, 0.020914146945182028), (1299, 0.020907104659287693), (898, 0.020878666835231235), (1608, 0.020876758751380863), (3203, 0.020873800719233466), (1159, 0.020872298473333557), (3750, 0.02082952396895763), (2809, 0.02077613554554221), (2383, 0.020744759329335682), (53, 0.02072845759805668), (632, 0.020727743276650813), (301, 0.02070811679560135), (1422, 0.02069609234665597), (2381, 0.02064968304040168), (994, 0.020632380914654892), (3072, 0.02062290759590228), (1918, 0.02059696392715713), (1053, 0.02059536267195515), (2592, 0.02059150898656264), (793, 0.02053503746363122), (2729, 0.020511811023610972), (1539, 0.020491833244722767), (530, 0.020488186332059784), (1735, 0.02048193831777667), (413, 0.020369886996355176), (2897, 0.020364922388074903), (2543, 0.02034244612910576), (2862, 0.020306658679795322), (2608, 0.020278503706807546), (2582, 0.020278017895836994), (1517, 0.020235622827187535), (1709, 0.020215782716248323), (3024, 0.020192954427426708), (2509, 0.020192720859169604), (1286, 0.020182880041563014), (3562, 0.020169508420463007), (2349, 0.020133799253967754), (1588, 0.020108643513827306), (541, 0.020099236780356442), (1639, 0.02007079964917865), (1902, 0.020069580227592365), (3462, 0.02002099176211168), (2698, 0.020011758899799382), (3055, 0.020007934782818176), (1534, 0.020003004604694057), (81, 0.01998054832756401), (1452, 0.01997764708059836), (1412, 0.0199279835666434), (2156, 0.01990496104979524), (1976, 0.019883477127716317), (1938, 0.01983380928961018), (90, 0.019827921583908434), (3483, 0.019821018181255937), (3620, 0.01980110642306452), (1850, 0.019800447230530448), (1133, 0.019759303017814922), (384, 0.019726725506959253), (575, 0.019723560856260196), (1337, 0.019718228570179654), (718, 0.019716275406963836), (3460, 0.01966533055587232), (167, 0.019664840892207526), (1786, 0.019653568285878192), (473, 0.01963804140616052), (172, 0.019635168042856158), (1765, 0.01960457482703005), (3396, 0.019596951155452333), (422, 0.01957507702760739), (1238, 0.019555894126105155), (1244, 0.019554612955571097), (3420, 0.019552625083482277), (450, 0.019529048843225788), (3613, 0.01948003372570497), (3170, 0.0194389409263869), (2831, 0.019419870271160884), (2672, 0.01937015686329386), (2076, 0.019368875338914175), (1472, 0.019338685357727696), (2224, 0.019318490258665166), (644, 0.01923665903471908), (3656, 0.019235559063268272), (3642, 0.019232508485052695), (2446, 0.01922602774172356), (1275, 0.019204599548731226), (2087, 0.0191825744568186), (2791, 0.01914339164656715), (1575, 0.019124885665744475), (1611, 0.019104551813594366), (734, 0.01908180549011784), (2817, 0.01907701094229019), (1352, 0.019063014651444447), (2785, 0.019062281241181304), (1318, 0.0190589948026437), (1473, 0.018995577158423437), (363, 0.01898158188476883), (2300, 0.018951589579114355), (471, 0.018895055236446343), (770, 0.018862898165346895), (2900, 0.018858767013483553), (286, 0.018839151432651864), (2160, 0.018797815736908367), (2343, 0.018737243433633786), (1914, 0.01862151654030536), (3546, 0.018580088906727382), (2696, 0.018554724253440204), (3624, 0.01852188772384623), (1997, 0.01849951640104613), (1379, 0.018497216660072664), (2752, 0.01847949596672575), (2636, 0.01841729207366866), (3147, 0.018401295714452252), (2324, 0.018387539639231478), (187, 0.018374334032074058), (3293, 0.01837043876621716), (432, 0.018345319029376417), (1734, 0.018320384071982693), (1153, 0.018303444991585323), (1419, 0.018287461675576804), (1415, 0.018271781036088338), (2015, 0.01824241009040123), (1807, 0.01822760734851355), (1008, 0.01819654727578703), (716, 0.01818964042815166), (2923, 0.018170947165147014), (164, 0.01811270510256623), (1725, 0.01808942762507585), (1742, 0.018077186438731463), (814, 0.01805295273085423), (1554, 0.018050822372575392), (2131, 0.01803074706742293), (375, 0.01799153517846521), (239, 0.017991219341173457), (2013, 0.017970943978737546), (2708, 0.017919964210169458), (3087, 0.017910700500920074), (560, 0.017901132663037764), (1841, 0.0178655019200587), (2398, 0.017848265622549903), (988, 0.01774676008988596), (2152, 0.01771834717697483), (3730, 0.01771568093919857), (2994, 0.017683275665493457), (613, 0.01761398978455119), (2657, 0.017609832409766307), (372, 0.017605236078838137), (1577, 0.01756784895413089), (1646, 0.01754127528662425), (3126, 0.017538797581552485), (2611, 0.017511819046654043), (549, 0.01750188192044298), (2262, 0.017482907068819744), (3214, 0.017468865317160184), (2258, 0.017463331389340874), (880, 0.01745923217899168), (3630, 0.017456506784029626), (2722, 0.017401607100814283), (1772, 0.017396265355894294), (333, 0.017379170040489514), (1773, 0.01736242159439323), (2865, 0.017347573684338025), (856, 0.017278698785555553), (1643, 0.017204424659311896), (504, 0.01714759759485358), (3256, 0.017115758251878402), (2764, 0.017104324017712256), (1607, 0.017093922403511975), (2751, 0.017085584504312995), (2110, 0.0170535758612019), (3349, 0.017053521387642552), (454, 0.01704481432875842), (1697, 0.017026037498545706), (615, 0.016992224940530768), (2437, 0.016930162697716654), (1808, 0.016884157326499404), (3534, 0.01687165112363746), (1771, 0.01685185028352071), (2533, 0.016825760670945256), (1600, 0.01670231459038375), (1193, 0.016700431496552107), (3014, 0.016698645574594866), (670, 0.01669261458699769), (1085, 0.016681065718961722), (1919, 0.016631459689679603), (639, 0.016630966063117935), (2229, 0.016580520567073473), (525, 0.01656888972262088), (1222, 0.01655903945911315), (3511, 0.0165490836836687), (360, 0.01653870999073213), (3323, 0.01653425152968093), (3552, 0.016482428079440274), (2743, 0.01646244225411281), (756, 0.016452305322625132), (578, 0.016442720160865214), (3637, 0.016378456713068375), (723, 0.016360548916492954), (71, 0.016330743913322152), (1111, 0.016299500013576405), (1436, 0.016272020317988762), (3155, 0.016266184979756883), (1283, 0.01622540129970321), (771, 0.016182813451148043), (3296, 0.01617948809788754), (2800, 0.016138727542253192), (1157, 0.01612633678536823), (3639, 0.016118132561225927), (1606, 0.01611455952375525), (2181, 0.016109954625433513), (3047, 0.016071915369111296), (3255, 0.016067741657233403), (1721, 0.016062566392626897), (1846, 0.016047743788173096), (3437, 0.0160083294691865), (3604, 0.015948690606744916), (2726, 0.015866919515008404), (2884, 0.015851040919471263), (3312, 0.015836367629427223), (3018, 0.01582214920998961), (2746, 0.01580516308055372), (3363, 0.01577848400995156), (540, 0.015772111512770755), (1341, 0.01576663968423451), (3094, 0.015760202188451554), (862, 0.015666940535073007), (2484, 0.015663689552300943), (3490, 0.015644496346446483), (3644, 0.015617282936856533), (1667, 0.01557456940191775), (2784, 0.015515211198095357), (660, 0.015508508430280801), (1467, 0.015415373187173648), (1530, 0.015371984039754242), (502, 0.015360648319076133), (2206, 0.015332660771560563), (3198, 0.015302368062280473), (2512, 0.015287551538068737), (443, 0.015203593621704252), (3373, 0.01518931875741413), (999, 0.015174965688544527), (3120, 0.0151647770906625), (2365, 0.015085577549445586), (1474, 0.015079084789863827), (1637, 0.015065723120127997), (2344, 0.015032006652809746), (2209, 0.014984300014468616), (479, 0.014977342989708731), (340, 0.014952770154175034), (1774, 0.014876090076284319), (895, 0.014858868945032891), (2818, 0.014858365967285719), (738, 0.01483135053023853), (2834, 0.01480910210957076), (2071, 0.014776264019082228), (673, 0.01476972710458003), (3649, 0.014759108733554373), (2036, 0.014722443424544854), (760, 0.014720101136996143), (2037, 0.014705697854259422), (2877, 0.014682064320228904), (2653, 0.01458313523225747), (2263, 0.014549271650768612), (2545, 0.014547466039789443), (2872, 0.014529186619842262), (3182, 0.014511745366330965), (669, 0.014506336294309004), (3240, 0.014499279464740165), (2432, 0.014495109884670697), (92, 0.014476747695213208), (1173, 0.014470534065788462), (2172, 0.01443555679557307), (2165, 0.014434372006199679), (715, 0.014377091961469024), (1969, 0.014326274035492335), (2506, 0.014290124640371868), (2926, 0.014237638518314059), (1985, 0.014220549884183266), (2596, 0.014212828780565272), (2693, 0.01419790191202831), (3428, 0.014062329684315705), (3355, 0.01404518941497307), (518, 0.01404293735364539), (764, 0.014036537487788598), (1847, 0.014030681957985593), (678, 0.01401445278045424), (60, 0.013993363687426085), (3127, 0.01396187449989903), (757, 0.013956835692576185), (3748, 0.013954404270771895), (1322, 0.01393881763679356), (467, 0.01393131774073245), (3711, 0.013929991376590444), (1331, 0.013910730200158008), (3051, 0.013873959703921773), (3786, 0.013835301649547466), (773, 0.013809923143498428), (985, 0.013776968829003405), (2638, 0.013738311501094634), (2537, 0.013731266705212186), (1525, 0.0136940026295662), (2391, 0.01364686277725305), (213, 0.013631434106105452), (2273, 0.013616886716353289), (1823, 0.013612898100129577), (602, 0.01359631496727767), (2879, 0.0135727211190826), (2480, 0.01353803551373628), (1529, 0.013534084689164116), (2207, 0.013531334563140408), (2122, 0.013525308679006875), (1912, 0.013438442465674081), (2042, 0.01341195301346013), (1764, 0.013344618715373582), (984, 0.013343758140682385), (3650, 0.013330282102661236), (284, 0.01332781614139175), (1684, 0.0133180553220484), (3455, 0.013311859677532876), (892, 0.013297250000980337), (1777, 0.013295194878989638), (2821, 0.013294643977391787), (786, 0.013282259987836243), (1256, 0.013279726743728137), (729, 0.013277796059873094), (2655, 0.013268190443770728), (274, 0.013261956830919172), (2174, 0.01325055844488552), (1050, 0.013234229227541711), (3522, 0.013218535854157314), (583, 0.013213618479715541), (2274, 0.01317901586043364), (1546, 0.013176847588057287), (190, 0.013176048711668957), (1504, 0.013166203996722976), (3196, 0.01313422618618373), (339, 0.013125040978165449), (1273, 0.013121958452449647), (1975, 0.01311034023877237), (2049, 0.013102216935877379), (784, 0.013097079523265342), (1012, 0.013096225304979843), (1785, 0.013086374022069185), (731, 0.01305646059396301), (29, 0.013029250992465019), (2766, 0.013023092171053963), (3512, 0.013018075661763223), (1305, 0.013008904081431532), (1090, 0.013008504493402346), (157, 0.013006701249561537), (55, 0.01297271694341505), (215, 0.01296729471923142), (688, 0.012965129088127346), (1739, 0.01296089332187747), (3333, 0.01294433461467238), (3236, 0.012944197431066692), (811, 0.012941252528346174), (2308, 0.012931305420019593), (1300, 0.012919732269187661), (2058, 0.012917245910539318), (1953, 0.012914475884594826), (1057, 0.012909232109772014), (3724, 0.012893686602217928), (1845, 0.012855076622284783), (1915, 0.01284493260007818), (5, 0.012835767117063066), (2102, 0.012820202910016947), (1105, 0.012816847590403649), (3337, 0.012809048355345574), (781, 0.012804051284341788), (48, 0.012787840861019233), (2, 0.012777128569029076), (1143, 0.012740455259230624), (290, 0.01271324557952191), (3448, 0.012713043639135673), (12, 0.012695157952833838), (1320, 0.012689683727627118), (1628, 0.012684409093911284), (596, 0.012668130763755617), (1798, 0.0126577770783949), (2250, 0.012649393281247968), (645, 0.012625631869315283), (104, 0.012614516573593079), (3098, 0.012609028669705515), (1369, 0.012600793124527155), (1073, 0.012597179919145165), (2733, 0.012587151237178577), (3447, 0.01258512528226528), (834, 0.012567178998245462), (1076, 0.012561564614468244), (1481, 0.01255995409102795), (240, 0.012537575998416758), (3352, 0.012529423436065584), (2219, 0.012528004419308337), (1172, 0.012525934087938522), (3693, 0.012513126307627338), (160, 0.012498577318761205), (652, 0.012492357720613648), (2453, 0.01248226500426965), (1728, 0.012478007592930471), (767, 0.012441489908504135), (523, 0.012440700703078504), (3698, 0.012435662789525867), (2348, 0.012435515152591366), (1586, 0.0124025649987554), (1657, 0.01238057456714134), (594, 0.012368996517928506), (2536, 0.012350056327166934), (1828, 0.012344628902453914), (277, 0.012312977297154734), (112, 0.012292827027211288), (1089, 0.012290673049305296), (62, 0.012283777661268064), (3252, 0.012282313851175152), (3799, 0.012265225157641339), (488, 0.012242282663420019), (3250, 0.012228178254713678), (1380, 0.012225357576364303), (1992, 0.012222677565347614), (2490, 0.012221607443022251), (3343, 0.01220611983493751), (703, 0.01220470639235999), (825, 0.012191010110611052), (1610, 0.01217930049030861), (1943, 0.012174349960301981), (2692, 0.01217351885457515), (17, 0.012167656919373084), (424, 0.012162890258105503), (478, 0.012149083795852934), (1239, 0.012136919699378183), (544, 0.012128432893228102), (808, 0.012097971208380881), (2633, 0.01208487579394921), (1279, 0.012070009542657977), (88, 0.012067173425585036), (2644, 0.012061401156924428), (1139, 0.012055104185741945), (3449, 0.01205250074757264), (243, 0.012050167160549137), (933, 0.012049232275608404), (2316, 0.012043699404460852), (643, 0.012041635428087321), (1615, 0.012029778118376779), (2812, 0.011999915657026334), (1234, 0.011982801722517433), (1836, 0.011978576165618477), (2645, 0.011974735251430075), (3619, 0.011963501644533607), (2216, 0.01196302704712155), (604, 0.011959564478027592), (50, 0.011956009846393504), (1084, 0.01191200513873008), (888, 0.01190601760906383), (3527, 0.011894920028911267), (208, 0.011881452957970483), (69, 0.01188073211235947), (2827, 0.011867715007051707), (1243, 0.011866560025121178), (3446, 0.011864896503710778), (1713, 0.01185903105375288), (1338, 0.011849879148816626), (568, 0.011828448260192276), (472, 0.011826409710212114), (1738, 0.011825539257553355), (486, 0.011810314698373516), (744, 0.01180271566610213), (1266, 0.01180231529800031), (346, 0.011786342779719692), (3015, 0.011782301848372024), (1939, 0.01178179498181742), (3336, 0.01178077048317061), (75, 0.011779049039042096), (1851, 0.011777481855756335), (640, 0.011767102539949196), (1027, 0.011736031943541048), (304, 0.011715476617028762), (2332, 0.011704411634271796), (134, 0.011704178343842955), (2683, 0.011686803568592679), (152, 0.011685518707433335), (121, 0.011670676844012483), (2863, 0.011660609353451172), (687, 0.011658946427615646), (237, 0.011601328860611462), (676, 0.011588575203901887), (2787, 0.011584390091460258), (2996, 0.01153501242233907), (24, 0.01153299453234101), (383, 0.011519807539577907), (347, 0.011511352084330857), (153, 0.011504921255617202), (1825, 0.011504481913100006), (1100, 0.011492214940931828), (206, 0.011481123685421629), (1103, 0.01148091626040236), (1447, 0.011464768115057661), (1973, 0.011425701381478321), (2675, 0.011407900769378157), (1854, 0.011407351288027015), (403, 0.011401278894727156), (2678, 0.011370329542662533), (969, 0.01136042342322222), (216, 0.011353589995619535), (13, 0.011347271855336141), (3715, 0.011340836567692518), (1175, 0.011339547376243861), (1645, 0.01133350869937734), (531, 0.011318631613253811), (2953, 0.011249826590895136), (2913, 0.011247850680866317), (809, 0.011241121228274021), (2069, 0.01122301894120336), (1551, 0.011213861049717168), (139, 0.011213820950622056), (147, 0.011203093405454796), (535, 0.011193024818996474), (836, 0.011170177426756979), (3617, 0.011129643688387363), (469, 0.011126057681422042), (1124, 0.01110204360815087), (1106, 0.011088867991393494), (1343, 0.011088555320704675), (610, 0.011077320065856502), (691, 0.01107373874626939), (595, 0.011069458778341139), (1858, 0.011060640678554107), (1361, 0.011056284215717894), (989, 0.011050123059635606), (259, 0.011014921533430387), (1743, 0.010996950935729109), (11, 0.010991078911025777), (2085, 0.010989623626297037), (3351, 0.010977634572803725), (1067, 0.010964688889322945), (851, 0.010960940490166394), (1290, 0.010932740465689612), (1438, 0.010919770934504327), (312, 0.01087116431270172), (2304, 0.01086296817959858), (3148, 0.010861239694748462), (1006, 0.01084834415457692), (2136, 0.010845905126028324), (315, 0.010842795439045599), (1672, 0.010842137306390023), (1686, 0.010842008604249567), (3019, 0.010820718825941239), (3035, 0.010819502808609466), (186, 0.010812176673424274), (950, 0.01078187996954923), (683, 0.010761387753185832), (245, 0.010734080177864432), (3450, 0.010723341389812749), (3136, 0.010721757416326326), (2161, 0.01071956354806558), (2736, 0.010717262984836731), (1251, 0.010712221613542263), (491, 0.010701100665922166), (695, 0.010664951568069146), (746, 0.010654577261900838), (1907, 0.010566733153546438), (1892, 0.010561756697166283), (1199, 0.01055385112645835), (2004, 0.010539953422303435), (1136, 0.010517446569151847), (859, 0.010516377247260214), (379, 0.010472602668663015), (2474, 0.010435690345473498), (3692, 0.010431332104299005), (1663, 0.010418492698200927), (21, 0.01040962355340954), (2681, 0.0103899720801055), (1558, 0.010369373505910598), (831, 0.01036228248040925), (3424, 0.010360832009865855), (325, 0.010359048585145364), (2860, 0.010352798868347505), (3177, 0.010333395274468546), (543, 0.010325297524510698), (3229, 0.010249439060487869), (1082, 0.01022283889148499), (267, 0.01021986557951983), (3370, 0.010168111602149544), (2521, 0.010159864026828988), (2747, 0.010149074904957393), (1298, 0.010060717362953626), (84, 0.010041322913840134), (513, 0.010037958466230852), (369, 0.009997837649749701), (3001, 0.009985669212472282), (2057, 0.009968908769276245), (794, 0.009878599644095203), (1077, 0.009778727019533464), (3162, 0.00969198500724061), (3251, 0.009689890360343206), (2338, 0.009666240521431727), (832, 0.009578054631613491), (2515, 0.009521994942916707), (3143, 0.009482089164376557), (1404, 0.009475504237667978), (411, 0.009466610211027113), (1877, 0.009466187134594049), (2806, 0.009460499472632828), (627, 0.009217585311033574), (2508, 0.009216465321721287), (769, 0.009196638286191064), (3392, 0.008990608780614062), (2757, 0.008978962875352603), (2357, 0.008855507083265629), (1248, 0.008808662463959524), (1202, 0.008799784451502958), (3043, 0.008583032768409401), (1524, 0.008359566395922939), (3225, 0.008355150213166082), (1658, 0.008268346968278112), (1306, 0.008155244310086324), (3403, 0.008030607746666037), (1580, 0.008012594817183034), (1382, 0.007993931238810736), (3500, 0.007935316918030129), (842, 0.007873974050971025), (1099, 0.007803849448685624), (791, 0.007752945025031866), (189, 0.0077313110802761575), (3129, 0.007666419509117588), (142, 0.007646022791987043), (80, 0.007625438159420544), (2001, 0.007571170334793081), (2550, 0.007565671377227321), (1509, 0.007535776438688337), (294, 0.0075243299897209265), (698, 0.007510121194208234), (1695, 0.0074839856959071), (848, 0.007474590986607794), (841, 0.007453331265903215), (40, 0.007441210133974748), (565, 0.007426581965807396), (1958, 0.00742187469771296), (3329, 0.00741119665113246), (221, 0.007387063082638913), (1267, 0.007354659217132414), (3359, 0.007342015640694246), (748, 0.007340473196365395), (106, 0.007331891915617759), (37, 0.0073312096103818995), (1257, 0.007292444359425382), (181, 0.007251149246021653), (858, 0.007245942574201027), (816, 0.007232443125499874), (8, 0.007227790388795252), (569, 0.007199086910514205), (143, 0.007198479880852177), (1962, 0.007196645788701514), (179, 0.0071887398230000045), (942, 0.00718751765461161), (899, 0.00717686378050172), (2162, 0.007173459457683893), (2933, 0.007167663048576875), (113, 0.007161027696378777), (1602, 0.007160348525438121), (197, 0.00715826113585178), (234, 0.007137655238194671), (276, 0.007090052568544817), (1682, 0.007077499954302483), (3202, 0.007070435120814223), (2552, 0.007064006772683059), (935, 0.0070609341967005105), (707, 0.007048140787439783), (3364, 0.007047562104264666), (2867, 0.0070422019759826225), (785, 0.007028146444027801), (1402, 0.007025214391288127), (1074, 0.007006361547784264), (704, 0.006996468187770173), (2298, 0.0069844758351658275), (144, 0.006978888158214315), (3004, 0.006978045873770838), (3714, 0.006970814929696193), (1426, 0.006943067606954804), (458, 0.006936779806503274), (1253, 0.0069325992191292835), (1460, 0.006913836176612087), (1078, 0.006900878707770107), (302, 0.006900270657899069), (3304, 0.006892238046618312), (2930, 0.0068831618281130925), (1375, 0.006875572028251529), (2261, 0.0068749154232389), (2167, 0.0068663349043277385), (348, 0.006862210283538236), (1080, 0.0068556839293483825), (750, 0.006840733291602629), (1797, 0.006831145023604826), (1587, 0.0068282931967927965), (2688, 0.0068068489609706155), (3233, 0.006805607768363701), (2121, 0.006805412444962564), (2915, 0.006804327071526641), (2116, 0.006772916404021491), (141, 0.006768853573961289), (191, 0.00676794815375116), (978, 0.0067655792321758244), (2969, 0.006764704046406228), (572, 0.00676051363545122), (1287, 0.006747455095640329), (202, 0.0067272435456644), (341, 0.006679328515218096), (812, 0.006677753325004261), (1937, 0.0066726087988599045), (289, 0.006670226012266367), (175, 0.006665659542484997), (3280, 0.0066643116445866376), (551, 0.006660300820161276), (15, 0.006653468007541191), (359, 0.006648904570465608), (2457, 0.006633642584404478), (2003, 0.006633096371874788), (1072, 0.006616644592646869), (66, 0.006609493710614266), (195, 0.006604208039144561), (349, 0.006592447140621727), (1597, 0.0065904332506572915), (162, 0.006566677776008242), (1754, 0.00655630561252544), (1503, 0.006552192985610935), (2921, 0.006528425764962609), (381, 0.006518866290802537), (1562, 0.006513459978488194), (1134, 0.006507902446547518), (2086, 0.006506620753665925), (132, 0.0065062560266169744), (1183, 0.006498482359587108), (1263, 0.0064950270346025895), (171, 0.006479227263206571), (63, 0.006468471613671785), (2931, 0.006465753311650526), (1564, 0.006446129631852074), (235, 0.00644497940272015), (1550, 0.006431590645513712), (352, 0.006427828576183706), (114, 0.006421386441557827), (1062, 0.006416666291962689), (2222, 0.006407287597883232), (721, 0.00638735640131272), (671, 0.006386526265580247), (3353, 0.0063853436818123565), (176, 0.006376482829817287), (336, 0.006373413039822624), (3171, 0.006369873175742658), (117, 0.006367488409727854), (22, 0.006362984013477211), (1822, 0.0063624583267874795), (218, 0.006359154902400166), (1357, 0.006348324946339372), (874, 0.006339951414333016), (2886, 0.006326848165429893), (498, 0.006312245953955967), (2055, 0.006288697674773219), (3284, 0.006284629565791077), (2188, 0.006268370561151316), (3299, 0.006265760824772603), (3082, 0.0062639126872414035), (124, 0.006254069765056416), (2185, 0.006248053011131265), (3695, 0.00623831776019219), (130, 0.006213216040801781), (2178, 0.006208233896099541), (2201, 0.006203878577357491), (494, 0.006194744107873158), (566, 0.006193373090189257), (617, 0.006190977966270332), (485, 0.006166400004849574), (534, 0.006161977838725594), (261, 0.006153328874138056), (374, 0.006151704778950861), (1882, 0.006146662111395801), (3068, 0.006136258616110179), (58, 0.006132781997564298), (2669, 0.006124502296101994), (961, 0.006113254559785187), (2175, 0.006106684549014275), (592, 0.0061047398961712775), (1278, 0.006081246657812111), (484, 0.006078707714586693), (2586, 0.006069369540107501), (3215, 0.006063959660734686), (1675, 0.006063405570471031), (23, 0.0060592964848213), (399, 0.006051210046043895), (3, 0.006045124455131478), (1433, 0.006044081933968181), (2310, 0.006026701882598218), (2268, 0.006026620645416893), (1114, 0.006023323851518723), (1987, 0.0060222617006813394), (1528, 0.0060148390885373), (1479, 0.006013415651105579), (1897, 0.00600846174113407), (2849, 0.006003532625237702), (437, 0.005995426404051688), (866, 0.005972176042815604), (89, 0.005968896079307612), (1727, 0.00595738291200959), (368, 0.005955790305492862), (3774, 0.005950220628826842), (1417, 0.005948249774474318), (3306, 0.005945941102150752), (2029, 0.005942507214817966), (1933, 0.00593435458164554), (2159, 0.005927692040890022), (901, 0.005924009324426013), (2510, 0.0059225035834765665), (433, 0.0059173416935039), (3154, 0.005904076638167243), (447, 0.005884804199633187), (1020, 0.00587786707334649), (730, 0.005867260418330452), (3180, 0.005855593386044531), (3021, 0.005853967489774242), (86, 0.005847098035719022), (2309, 0.005837562787071624), (934, 0.005833237389577531), (1860, 0.005828859346743871), (3128, 0.005826198732267293), (952, 0.0058024987209258656), (2466, 0.00579648735069686), (1214, 0.005795572249964565), (2212, 0.00579290978967656), (3144, 0.005791375648456665), (3332, 0.0057902710499861355), (1733, 0.00578741243339567), (3412, 0.005778039264398612), (2646, 0.005771347326908636), (3485, 0.005771123249596432), (145, 0.0057703023655511455), (1920, 0.005770226034318297), (180, 0.005757592875776505), (2278, 0.005753688866175076), (44, 0.005752027646326117), (2154, 0.005748292287383566), (2469, 0.005744574146680447), (1342, 0.005743329821457766), (1289, 0.005740315110410647), (3326, 0.005733658112892628), (1856, 0.005732651338329083), (1505, 0.005730480636497298), (2980, 0.005716058629350312), (428, 0.005715479238434363), (2218, 0.0057091634982869505), (2097, 0.005701432958810701), (119, 0.005697311139454826), (1894, 0.005695464723721891), (655, 0.005681327115342079), (512, 0.005676982631838086), (919, 0.005673622896625744), (2623, 0.0056623461180706335), (248, 0.0056615105481059415), (2394, 0.005660150629057587), (2294, 0.005656490095407739), (2650, 0.005639800859033323), (573, 0.005638053285311031), (1448, 0.005637944877507123), (2583, 0.0056366172940620395), (3756, 0.005633564108203619), (2556, 0.005626875697222826), (453, 0.005618785111038713), (296, 0.005618727448690963), (1245, 0.005618086609006948), (1761, 0.005608338001618339), (1212, 0.005601113602507205), (1878, 0.005594675760999698), (355, 0.0055906510617120785), (1178, 0.005590504248559689), (3523, 0.005587693151601276), (2247, 0.005583227378230101), (1844, 0.005583039907069975), (762, 0.005561002040730688), (2527, 0.005546335264589593), (807, 0.005544170567258209), (828, 0.005542908171721763), (1118, 0.00554273479107367), (3335, 0.005539744646294283), (1954, 0.005539635754506214), (140, 0.005538826302803936), (1144, 0.0055312082675678265), (299, 0.005528139705334508), (1680, 0.005528129520653445), (1321, 0.0055277428746398245), (1142, 0.005524722429289147), (209, 0.005521535817274639), (2064, 0.00551687911517754), (65, 0.0055142810598871154), (3316, 0.005508473263378765), (547, 0.005507281721425567), (188, 0.005504427950202639), (1284, 0.005503981356248211), (993, 0.005501205977960383), (863, 0.005491063763555157), (297, 0.005490213830195231), (1254, 0.005487538818169199), (252, 0.005471185336769901), (303, 0.005466344332609724), (3725, 0.005465925185519919), (3153, 0.005460135246898669), (818, 0.005459928355513485), (1726, 0.005459664833792164), (1868, 0.005457864061678356), (2366, 0.005456817793363242), (702, 0.005455190672105538), (3689, 0.005442218263497188), (1035, 0.005438302198442975), (622, 0.005435864000891877), (553, 0.005430229911958894), (1515, 0.005429353097493077), (408, 0.0054287238360458375), (1991, 0.005426629239963763), (1699, 0.005425696085724147), (2295, 0.005425382540537308), (320, 0.005424352926644293), (747, 0.005423948527888825), (394, 0.005418805892701664), (236, 0.005409672826784908), (2095, 0.005409136652388276), (804, 0.005400337889879461), (2412, 0.005396678605857267), (659, 0.005394111898786174), (753, 0.005392967845381615), (3545, 0.005389331015727168), (148, 0.0053836280741999575), (1514, 0.00538308515206749), (982, 0.005381737983927626), (2775, 0.005380984985625331), (979, 0.005380103946332328), (981, 0.0053733525258839645), (1741, 0.00537297728131612), (737, 0.005361300049225668), (3492, 0.005353226567318892), (3667, 0.005352080134931736), (2255, 0.005350837070510802), (387, 0.005340451080981082), (204, 0.005334751651133695), (3672, 0.005332147487247097), (1792, 0.005328666993953144), (1339, 0.005327222682558543), (227, 0.005322149976457185), (1432, 0.00532165950400838), (823, 0.0053173938111291405), (1510, 0.0053147505633270595), (2400, 0.005302889197875984), (2371, 0.005302183337059427), (3077, 0.005299324261548824), (1470, 0.005291492391864199), (3445, 0.0052913165409580465), (1910, 0.005288684001732834), (597, 0.005283638125795931), (2471, 0.005283474412834783), (589, 0.005282616094404149), (653, 0.0052806687182295415), (2565, 0.005275470265758805), (844, 0.005275212145052478), (1158, 0.005270801484543377), (1783, 0.005264119932123458), (1486, 0.005257569972182344), (3040, 0.005237374048486282), (3707, 0.005230558150609256), (1043, 0.005225959690661914), (724, 0.0052198294124834186), (115, 0.005210328430601532), (455, 0.00520762976102169), (3020, 0.005206215381695405), (514, 0.005205316424290446), (2293, 0.005198722546367607), (210, 0.005196226332922427), (468, 0.005192552516476349), (1500, 0.005186446284788743), (217, 0.005180743376761617), (590, 0.00517844861532884), (1853, 0.00516843614629032), (2712, 0.005167416418130848), (537, 0.005167377144959976), (99, 0.005166900575966815), (3062, 0.005163813575823164), (2296, 0.005162057220013897), (3297, 0.005161864022938888), (2169, 0.005160783067110311), (1457, 0.005156561224941433), (951, 0.005156383083371617), (2959, 0.005154087911749169), (1000, 0.005152798180448487), (1195, 0.005148033136933102), (790, 0.005147901023661861), (1702, 0.005144659574003574), (2439, 0.00514214395453708), (821, 0.00514043367799383), (2277, 0.005138839881274418), (992, 0.005138007602889837), (3606, 0.0051343465177073125), (1977, 0.005131988845640193), (677, 0.005129456242952049), (3382, 0.0051220326285648125), (1747, 0.005107520532667206), (392, 0.005105002748055374), (109, 0.005104611692148147), (2100, 0.005097109646530069), (2244, 0.005095044956298984), (500, 0.005085542646929213), (694, 0.005084435276618205), (1661, 0.005082760912805263), (273, 0.005077848923167056), (1334, 0.005076901235243508), (295, 0.005074069532905567), (3740, 0.005066611676586138), (580, 0.005049028408477351), (1592, 0.005046861736385698), (2386, 0.005042378331523824), (1188, 0.005037119838153379), (2142, 0.005034860004620749), (1443, 0.0050335454356252645), (1347, 0.005026717909176745), (2388, 0.005023105578220552), (2288, 0.005020721392224933), (159, 0.005015774930146296), (2514, 0.005010477529264966), (741, 0.005007212393804487), (2050, 0.005005309154740689), (246, 0.004999850424631206), (893, 0.004990031927380344), (1137, 0.004985352135828133), (1635, 0.004977911398369002), (739, 0.004972228350872977), (1049, 0.004965554352078891), (1096, 0.0049644119946726665), (1669, 0.004946691054276124), (285, 0.004944691689235843), (571, 0.004928355447697496), (745, 0.004926676496348137), (3151, 0.004921675590013534), (2558, 0.004920846568035233), (3591, 0.004920763730832189), (1653, 0.004916140607036161), (2074, 0.00490603041512863), (3030, 0.004901112153131497), (1671, 0.0048968667624939835), (2790, 0.004894662982769305), (2978, 0.004890509277584749), (1908, 0.00489041421255893), (1431, 0.00488800003762057), (1101, 0.004884175242686374), (2609, 0.00488242046637275), (2054, 0.004876009859045572), (937, 0.004875681929640373), (1146, 0.004875316458139751), (2140, 0.0048749138468115304), (2579, 0.004866048005869381), (2237, 0.004860831555526165), (955, 0.004857061370675806), (3074, 0.004845060563615641), (3029, 0.00484334660712727), (1450, 0.004843010382844438), (930, 0.004841678143178237), (3518, 0.004836185007868142), (3086, 0.004826510505658616), (708, 0.0048212535079841905), (2195, 0.004817671805207269), (621, 0.00481760230110106), (1930, 0.004812974275206403), (282, 0.004810793766094037), (1104, 0.004800417732799863), (529, 0.004799442123149862), (1950, 0.0047937518095984444), (561, 0.004793318913501954), (2194, 0.004791611691756008), (1848, 0.004790039049722118), (611, 0.004789192829920786), (1616, 0.00478901975304123), (3221, 0.004765914317647739), (1359, 0.004764734960462345), (3584, 0.0047613804120305294), (1830, 0.004759853911178714), (2203, 0.0047549250308065545), (624, 0.004749900549269225), (3073, 0.004747037572311515), (1707, 0.004739789716081096), (2200, 0.0047388392619041155), (1513, 0.004724943459018206), (1453, 0.004716664726799666), (914, 0.0047149398467039964), (1056, 0.00471316864997768), (963, 0.004707748921119897), (973, 0.004705028460758753), (894, 0.004702862086624621), (1310, 0.0047000667041774), (3416, 0.004696587073016579), (1463, 0.004692415992223394), (1174, 0.00468708356743604), (1281, 0.004686197019159713), (1538, 0.004675548494624559), (586, 0.004672828493165039), (3259, 0.00467237617301249), (1437, 0.004668676461305415), (3138, 0.004664826799664076), (2340, 0.004661207467742818), (2435, 0.004653390210170346), (736, 0.0046514752103012785), (830, 0.0046410613240225355), (959, 0.004640505789148309), (3516, 0.004639360221314012), (2023, 0.004630035919408075), (941, 0.004624992294789956), (308, 0.0046195928638677435), (3309, 0.004619446404534983), (1095, 0.00460123714810558), (1955, 0.004571684082606664), (3165, 0.00457120850543212), (2291, 0.004554777459825124), (556, 0.004553756478832179), (3209, 0.004552908304358854), (1626, 0.0045441388620478425), (244, 0.004529600335591639), (1003, 0.0045013431452766255), (2641, 0.004497933254698279), (1138, 0.00449784750158809), (3477, 0.004497427347240055), (1140, 0.004493694342034483), (787, 0.004487218603946213), (3758, 0.0044871337109588), (253, 0.004467342855943311), (2602, 0.0044598700895294024), (3733, 0.004458829739954662), (3603, 0.0044588232212948425), (1109, 0.00445692896713548), (2819, 0.0044548936810403904), (156, 0.00442855172402), (2597, 0.004394309423941854), (344, 0.004387293755538813), (629, 0.004379212716879791), (2853, 0.004374858084509444), (1795, 0.004374689325200137), (3399, 0.004338759175253046), (2704, 0.004305370651626386), (3722, 0.00430500321630338), (3099, 0.004274707698300852), (2429, 0.004272946053048578), (2986, 0.004271698304992887), (3579, 0.004269907718423798), (1064, 0.004239576990924292), (3008, 0.004227260906732616), (2470, 0.004202299500598704), (405, 0.0041738598407278695), (3007, 0.004155370017925361), (1837, 0.0041071218689322665), (3764, 0.0040783611011913435), (2184, 0.004075441766836413), (579, 0.004006040711870863), (528, 0.003983220150291382), (1817, 0.003940932804773525), (3553, 0.003917215574427574), (2016, 0.003908343949825509), (3417, 0.0039059484532769783), (932, 0.003898059518120621), (2336, 0.0038202109783165737), (1018, 0.0037908226299411523), (1304, 0.003707299297747516), (337, 0.003545770960870446), (25, 0.0), (34, 0.0), (42, 0.0), (49, 0.0), (73, 0.0), (77, 0.0), (100, 0.0), (105, 0.0), (118, 0.0), (120, 0.0), (133, 0.0), (135, 0.0), (137, 0.0), (154, 0.0), (155, 0.0), (161, 0.0), (173, 0.0), (177, 0.0), (192, 0.0), (194, 0.0), (214, 0.0), (226, 0.0), (231, 0.0), (247, 0.0), (250, 0.0), (251, 0.0), (255, 0.0), (258, 0.0), (265, 0.0), (268, 0.0), (269, 0.0), (272, 0.0), (280, 0.0), (281, 0.0), (283, 0.0), (287, 0.0), (288, 0.0), (293, 0.0), (298, 0.0), (314, 0.0), (317, 0.0), (321, 0.0), (323, 0.0), (326, 0.0), (327, 0.0), (338, 0.0), (343, 0.0), (351, 0.0), (354, 0.0), (357, 0.0), (364, 0.0), (367, 0.0), (378, 0.0), (385, 0.0), (388, 0.0), (390, 0.0), (391, 0.0), (395, 0.0), (397, 0.0), (398, 0.0), (404, 0.0), (406, 0.0), (407, 0.0), (409, 0.0), (416, 0.0), (417, 0.0), (418, 0.0), (423, 0.0), (427, 0.0), (429, 0.0), (430, 0.0), (431, 0.0), (434, 0.0), (435, 0.0), (438, 0.0), (439, 0.0), (444, 0.0), (445, 0.0), (448, 0.0), (452, 0.0), (463, 0.0), (465, 0.0), (474, 0.0), (477, 0.0), (481, 0.0), (482, 0.0), (489, 0.0), (492, 0.0), (496, 0.0), (497, 0.0), (499, 0.0), (506, 0.0), (509, 0.0), (515, 0.0), (516, 0.0), (517, 0.0), (519, 0.0), (520, 0.0), (521, 0.0), (522, 0.0), (524, 0.0), (526, 0.0), (527, 0.0), (532, 0.0), (533, 0.0), (538, 0.0), (548, 0.0), (550, 0.0), (552, 0.0), (554, 0.0), (555, 0.0), (557, 0.0), (558, 0.0), (559, 0.0), (563, 0.0), (567, 0.0), (576, 0.0), (584, 0.0), (585, 0.0), (588, 0.0), (598, 0.0), (603, 0.0), (605, 0.0), (606, 0.0), (608, 0.0), (614, 0.0), (616, 0.0), (619, 0.0), (620, 0.0), (623, 0.0), (628, 0.0), (630, 0.0), (633, 0.0), (636, 0.0), (637, 0.0), (638, 0.0), (642, 0.0), (647, 0.0), (648, 0.0), (649, 0.0), (650, 0.0), (651, 0.0), (656, 0.0), (662, 0.0), (663, 0.0), (666, 0.0), (667, 0.0), (672, 0.0), (679, 0.0), (681, 0.0), (682, 0.0), (684, 0.0), (686, 0.0), (689, 0.0), (690, 0.0), (692, 0.0), (693, 0.0), (696, 0.0), (697, 0.0), (709, 0.0), (710, 0.0), (712, 0.0), (714, 0.0), (717, 0.0), (719, 0.0), (722, 0.0), (727, 0.0), (742, 0.0), (743, 0.0), (749, 0.0), (751, 0.0), (758, 0.0), (759, 0.0), (765, 0.0), (766, 0.0), (772, 0.0), (776, 0.0), (779, 0.0), (792, 0.0), (795, 0.0), (796, 0.0), (798, 0.0), (801, 0.0), (802, 0.0), (803, 0.0), (806, 0.0), (810, 0.0), (815, 0.0), (817, 0.0), (819, 0.0), (820, 0.0), (822, 0.0), (824, 0.0), (826, 0.0), (827, 0.0), (829, 0.0), (835, 0.0), (837, 0.0), (839, 0.0), (843, 0.0), (846, 0.0), (847, 0.0), (849, 0.0), (852, 0.0), (853, 0.0), (857, 0.0), (860, 0.0), (861, 0.0), (865, 0.0), (867, 0.0), (868, 0.0), (869, 0.0), (871, 0.0), (872, 0.0), (875, 0.0), (876, 0.0), (877, 0.0), (879, 0.0), (881, 0.0), (883, 0.0), (884, 0.0), (886, 0.0), (887, 0.0), (890, 0.0), (891, 0.0), (896, 0.0), (897, 0.0), (903, 0.0), (905, 0.0), (906, 0.0), (907, 0.0), (909, 0.0), (910, 0.0), (912, 0.0), (913, 0.0), (915, 0.0), (916, 0.0), (917, 0.0), (918, 0.0), (921, 0.0), (923, 0.0), (924, 0.0), (925, 0.0), (926, 0.0), (927, 0.0), (928, 0.0), (936, 0.0), (938, 0.0), (943, 0.0), (944, 0.0), (946, 0.0), (947, 0.0), (957, 0.0), (958, 0.0), (962, 0.0), (964, 0.0), (966, 0.0), (968, 0.0), (970, 0.0), (971, 0.0), (975, 0.0), (980, 0.0), (983, 0.0), (986, 0.0), (987, 0.0), (991, 0.0), (995, 0.0), (997, 0.0), (998, 0.0), (1004, 0.0), (1007, 0.0), (1009, 0.0), (1010, 0.0), (1011, 0.0), (1013, 0.0), (1017, 0.0), (1019, 0.0), (1021, 0.0), (1022, 0.0), (1023, 0.0), (1025, 0.0), (1026, 0.0), (1030, 0.0), (1031, 0.0), (1032, 0.0), (1033, 0.0), (1036, 0.0), (1037, 0.0), (1038, 0.0), (1040, 0.0), (1042, 0.0), (1045, 0.0), (1046, 0.0), (1047, 0.0), (1048, 0.0), (1051, 0.0), (1054, 0.0), (1060, 0.0), (1061, 0.0), (1063, 0.0), (1065, 0.0), (1066, 0.0), (1069, 0.0), (1071, 0.0), (1075, 0.0), (1081, 0.0), (1087, 0.0), (1088, 0.0), (1091, 0.0), (1094, 0.0), (1098, 0.0), (1102, 0.0), (1107, 0.0), (1108, 0.0), (1112, 0.0), (1113, 0.0), (1115, 0.0), (1116, 0.0), (1117, 0.0), (1120, 0.0), (1121, 0.0), (1122, 0.0), (1123, 0.0), (1125, 0.0), (1126, 0.0), (1127, 0.0), (1129, 0.0), (1130, 0.0), (1132, 0.0), (1141, 0.0), (1145, 0.0), (1147, 0.0), (1148, 0.0), (1149, 0.0), (1150, 0.0), (1151, 0.0), (1154, 0.0), (1156, 0.0), (1160, 0.0), (1161, 0.0), (1162, 0.0), (1163, 0.0), (1164, 0.0), (1166, 0.0), (1167, 0.0), (1168, 0.0), (1169, 0.0), (1176, 0.0), (1179, 0.0), (1181, 0.0), (1182, 0.0), (1185, 0.0), (1186, 0.0), (1187, 0.0), (1189, 0.0), (1190, 0.0), (1194, 0.0), (1196, 0.0), (1197, 0.0), (1203, 0.0), (1204, 0.0), (1205, 0.0), (1206, 0.0), (1207, 0.0), (1208, 0.0), (1211, 0.0), (1215, 0.0), (1216, 0.0), (1218, 0.0), (1219, 0.0), (1220, 0.0), (1221, 0.0), (1223, 0.0), (1224, 0.0), (1225, 0.0), (1226, 0.0), (1227, 0.0), (1228, 0.0), (1229, 0.0), (1231, 0.0), (1235, 0.0), (1236, 0.0), (1240, 0.0), (1241, 0.0), (1242, 0.0), (1246, 0.0), (1252, 0.0), (1255, 0.0), (1258, 0.0), (1260, 0.0), (1261, 0.0), (1262, 0.0), (1264, 0.0), (1265, 0.0), (1268, 0.0), (1276, 0.0), (1280, 0.0), (1292, 0.0), (1293, 0.0), (1295, 0.0), (1301, 0.0), (1307, 0.0), (1308, 0.0), (1309, 0.0), (1312, 0.0), (1313, 0.0), (1314, 0.0), (1315, 0.0), (1316, 0.0), (1323, 0.0), (1325, 0.0), (1327, 0.0), (1329, 0.0), (1330, 0.0), (1333, 0.0), (1340, 0.0), (1346, 0.0), (1348, 0.0), (1349, 0.0), (1350, 0.0), (1351, 0.0), (1353, 0.0), (1355, 0.0), (1356, 0.0), (1360, 0.0), (1362, 0.0), (1364, 0.0), (1366, 0.0), (1371, 0.0), (1372, 0.0), (1373, 0.0), (1374, 0.0), (1376, 0.0), (1378, 0.0), (1381, 0.0), (1384, 0.0), (1385, 0.0), (1386, 0.0), (1388, 0.0), (1389, 0.0), (1391, 0.0), (1393, 0.0), (1394, 0.0), (1397, 0.0), (1400, 0.0), (1401, 0.0), (1403, 0.0), (1405, 0.0), (1407, 0.0), (1408, 0.0), (1409, 0.0), (1410, 0.0), (1411, 0.0), (1413, 0.0), (1414, 0.0), (1416, 0.0), (1418, 0.0), (1420, 0.0), (1421, 0.0), (1423, 0.0), (1424, 0.0), (1427, 0.0), (1429, 0.0), (1430, 0.0), (1435, 0.0), (1441, 0.0), (1442, 0.0), (1444, 0.0), (1449, 0.0), (1454, 0.0), (1455, 0.0), (1458, 0.0), (1461, 0.0), (1462, 0.0), (1464, 0.0), (1466, 0.0), (1471, 0.0), (1475, 0.0), (1476, 0.0), (1477, 0.0), (1478, 0.0), (1483, 0.0), (1485, 0.0), (1487, 0.0), (1489, 0.0), (1492, 0.0), (1493, 0.0), (1497, 0.0), (1498, 0.0), (1499, 0.0), (1501, 0.0), (1508, 0.0), (1511, 0.0), (1512, 0.0), (1516, 0.0), (1519, 0.0), (1520, 0.0), (1521, 0.0), (1522, 0.0), (1523, 0.0), (1526, 0.0), (1527, 0.0), (1532, 0.0), (1533, 0.0), (1536, 0.0), (1537, 0.0), (1540, 0.0), (1541, 0.0), (1543, 0.0), (1544, 0.0), (1545, 0.0), (1548, 0.0), (1549, 0.0), (1552, 0.0), (1555, 0.0), (1556, 0.0), (1557, 0.0), (1559, 0.0), (1560, 0.0), (1561, 0.0), (1563, 0.0), (1565, 0.0), (1566, 0.0), (1567, 0.0), (1570, 0.0), (1571, 0.0), (1572, 0.0), (1574, 0.0), (1576, 0.0), (1578, 0.0), (1579, 0.0), (1581, 0.0), (1582, 0.0), (1584, 0.0), (1585, 0.0), (1590, 0.0), (1591, 0.0), (1593, 0.0), (1594, 0.0), (1598, 0.0), (1599, 0.0), (1603, 0.0), (1605, 0.0), (1609, 0.0), (1612, 0.0), (1613, 0.0), (1614, 0.0), (1618, 0.0), (1619, 0.0), (1620, 0.0), (1621, 0.0), (1622, 0.0), (1623, 0.0), (1624, 0.0), (1627, 0.0), (1629, 0.0), (1630, 0.0), (1631, 0.0), (1632, 0.0), (1634, 0.0), (1638, 0.0), (1640, 0.0), (1647, 0.0), (1648, 0.0), (1655, 0.0), (1656, 0.0), (1659, 0.0), (1660, 0.0), (1662, 0.0), (1665, 0.0), (1666, 0.0), (1668, 0.0), (1673, 0.0), (1674, 0.0), (1676, 0.0), (1677, 0.0), (1678, 0.0), (1679, 0.0), (1681, 0.0), (1685, 0.0), (1688, 0.0), (1689, 0.0), (1690, 0.0), (1691, 0.0), (1692, 0.0), (1693, 0.0), (1694, 0.0), (1698, 0.0), (1700, 0.0), (1704, 0.0), (1705, 0.0), (1706, 0.0), (1708, 0.0), (1711, 0.0), (1714, 0.0), (1716, 0.0), (1717, 0.0), (1718, 0.0), (1719, 0.0), (1722, 0.0), (1723, 0.0), (1724, 0.0), (1729, 0.0), (1730, 0.0), (1731, 0.0), (1732, 0.0), (1736, 0.0), (1737, 0.0), (1744, 0.0), (1745, 0.0), (1746, 0.0), (1748, 0.0), (1749, 0.0), (1751, 0.0), (1752, 0.0), (1755, 0.0), (1756, 0.0), (1758, 0.0), (1759, 0.0), (1760, 0.0), (1763, 0.0), (1766, 0.0), (1767, 0.0), (1768, 0.0), (1770, 0.0), (1775, 0.0), (1776, 0.0), (1778, 0.0), (1779, 0.0), (1781, 0.0), (1784, 0.0), (1787, 0.0), (1788, 0.0), (1789, 0.0), (1791, 0.0), (1793, 0.0), (1796, 0.0), (1799, 0.0), (1800, 0.0), (1801, 0.0), (1803, 0.0), (1804, 0.0), (1805, 0.0), (1806, 0.0), (1809, 0.0), (1810, 0.0), (1811, 0.0), (1812, 0.0), (1813, 0.0), (1814, 0.0), (1816, 0.0), (1818, 0.0), (1820, 0.0), (1824, 0.0), (1829, 0.0), (1831, 0.0), (1832, 0.0), (1833, 0.0), (1834, 0.0), (1835, 0.0), (1838, 0.0), (1839, 0.0), (1840, 0.0), (1842, 0.0), (1843, 0.0), (1849, 0.0), (1855, 0.0), (1857, 0.0), (1859, 0.0), (1861, 0.0), (1862, 0.0), (1866, 0.0), (1867, 0.0), (1869, 0.0), (1870, 0.0), (1871, 0.0), (1873, 0.0), (1875, 0.0), (1876, 0.0), (1879, 0.0), (1881, 0.0), (1883, 0.0), (1884, 0.0), (1885, 0.0), (1886, 0.0), (1887, 0.0), (1888, 0.0), (1889, 0.0), (1890, 0.0), (1891, 0.0), (1893, 0.0), (1895, 0.0), (1898, 0.0), (1900, 0.0), (1901, 0.0), (1903, 0.0), (1904, 0.0), (1905, 0.0), (1906, 0.0), (1909, 0.0), (1911, 0.0), (1913, 0.0), (1917, 0.0), (1921, 0.0), (1923, 0.0), (1924, 0.0), (1926, 0.0), (1927, 0.0), (1928, 0.0), (1929, 0.0), (1934, 0.0), (1935, 0.0), (1940, 0.0), (1941, 0.0), (1942, 0.0), (1944, 0.0), (1945, 0.0), (1946, 0.0), (1947, 0.0), (1948, 0.0), (1949, 0.0), (1951, 0.0), (1952, 0.0), (1957, 0.0), (1960, 0.0), (1961, 0.0), (1963, 0.0), (1964, 0.0), (1965, 0.0), (1966, 0.0), (1970, 0.0), (1979, 0.0), (1980, 0.0), (1981, 0.0), (1982, 0.0), (1983, 0.0), (1988, 0.0), (1989, 0.0), (1993, 0.0), (1994, 0.0), (1996, 0.0), (1998, 0.0), (2000, 0.0), (2005, 0.0), (2006, 0.0), (2008, 0.0), (2009, 0.0), (2011, 0.0), (2012, 0.0), (2014, 0.0), (2017, 0.0), (2018, 0.0), (2019, 0.0), (2020, 0.0), (2021, 0.0), (2022, 0.0), (2025, 0.0), (2027, 0.0), (2030, 0.0), (2031, 0.0), (2032, 0.0), (2033, 0.0), (2035, 0.0), (2038, 0.0), (2040, 0.0), (2041, 0.0), (2045, 0.0), (2048, 0.0), (2051, 0.0), (2052, 0.0), (2053, 0.0), (2056, 0.0), (2059, 0.0), (2061, 0.0), (2062, 0.0), (2065, 0.0), (2067, 0.0), (2068, 0.0), (2070, 0.0), (2072, 0.0), (2073, 0.0), (2078, 0.0), (2079, 0.0), (2080, 0.0), (2081, 0.0), (2082, 0.0), (2083, 0.0), (2088, 0.0), (2090, 0.0), (2091, 0.0), (2092, 0.0), (2094, 0.0), (2096, 0.0), (2098, 0.0), (2099, 0.0), (2104, 0.0), (2105, 0.0), (2106, 0.0), (2108, 0.0), (2109, 0.0), (2113, 0.0), (2115, 0.0), (2117, 0.0), (2118, 0.0), (2119, 0.0), (2120, 0.0), (2123, 0.0), (2124, 0.0), (2125, 0.0), (2126, 0.0), (2130, 0.0), (2132, 0.0), (2133, 0.0), (2134, 0.0), (2135, 0.0), (2137, 0.0), (2139, 0.0), (2141, 0.0), (2143, 0.0), (2144, 0.0), (2146, 0.0), (2147, 0.0), (2148, 0.0), (2149, 0.0), (2150, 0.0), (2153, 0.0), (2158, 0.0), (2166, 0.0), (2168, 0.0), (2170, 0.0), (2173, 0.0), (2176, 0.0), (2177, 0.0), (2180, 0.0), (2182, 0.0), (2187, 0.0), (2189, 0.0), (2190, 0.0), (2191, 0.0), (2193, 0.0), (2197, 0.0), (2199, 0.0), (2202, 0.0), (2204, 0.0), (2208, 0.0), (2210, 0.0), (2211, 0.0), (2214, 0.0), (2215, 0.0), (2217, 0.0), (2223, 0.0), (2225, 0.0), (2227, 0.0), (2230, 0.0), (2231, 0.0), (2232, 0.0), (2233, 0.0), (2234, 0.0), (2236, 0.0), (2238, 0.0), (2239, 0.0), (2240, 0.0), (2241, 0.0), (2242, 0.0), (2243, 0.0), (2246, 0.0), (2248, 0.0), (2249, 0.0), (2251, 0.0), (2252, 0.0), (2254, 0.0), (2256, 0.0), (2257, 0.0), (2259, 0.0), (2260, 0.0), (2265, 0.0), (2266, 0.0), (2267, 0.0), (2269, 0.0), (2271, 0.0), (2272, 0.0), (2275, 0.0), (2276, 0.0), (2279, 0.0), (2280, 0.0), (2281, 0.0), (2282, 0.0), (2283, 0.0), (2284, 0.0), (2286, 0.0), (2287, 0.0), (2290, 0.0), (2297, 0.0), (2299, 0.0), (2301, 0.0), (2302, 0.0), (2303, 0.0), (2305, 0.0), (2306, 0.0), (2307, 0.0), (2311, 0.0), (2312, 0.0), (2313, 0.0), (2315, 0.0), (2318, 0.0), (2319, 0.0), (2321, 0.0), (2322, 0.0), (2325, 0.0), (2328, 0.0), (2329, 0.0), (2330, 0.0), (2331, 0.0), (2333, 0.0), (2337, 0.0), (2339, 0.0), (2341, 0.0), (2342, 0.0), (2345, 0.0), (2347, 0.0), (2350, 0.0), (2351, 0.0), (2353, 0.0), (2355, 0.0), (2356, 0.0), (2358, 0.0), (2359, 0.0), (2361, 0.0), (2362, 0.0), (2367, 0.0), (2368, 0.0), (2369, 0.0), (2370, 0.0), (2373, 0.0), (2374, 0.0), (2376, 0.0), (2377, 0.0), (2378, 0.0), (2379, 0.0), (2382, 0.0), (2384, 0.0), (2385, 0.0), (2392, 0.0), (2393, 0.0), (2396, 0.0), (2399, 0.0), (2401, 0.0), (2402, 0.0), (2404, 0.0), (2407, 0.0), (2408, 0.0), (2409, 0.0), (2413, 0.0), (2414, 0.0), (2415, 0.0), (2416, 0.0), (2417, 0.0), (2418, 0.0), (2419, 0.0), (2420, 0.0), (2421, 0.0), (2422, 0.0), (2424, 0.0), (2426, 0.0), (2427, 0.0), (2428, 0.0), (2430, 0.0), (2431, 0.0), (2434, 0.0), (2436, 0.0), (2438, 0.0), (2440, 0.0), (2441, 0.0), (2443, 0.0), (2445, 0.0), (2448, 0.0), (2449, 0.0), (2450, 0.0), (2452, 0.0), (2455, 0.0), (2456, 0.0), (2459, 0.0), (2460, 0.0), (2461, 0.0), (2462, 0.0), (2463, 0.0), (2464, 0.0), (2465, 0.0), (2467, 0.0), (2468, 0.0), (2472, 0.0), (2473, 0.0), (2476, 0.0), (2477, 0.0), (2478, 0.0), (2481, 0.0), (2483, 0.0), (2485, 0.0), (2488, 0.0), (2489, 0.0), (2491, 0.0), (2493, 0.0), (2494, 0.0), (2495, 0.0), (2496, 0.0), (2497, 0.0), (2498, 0.0), (2499, 0.0), (2500, 0.0), (2501, 0.0), (2502, 0.0), (2503, 0.0), (2505, 0.0), (2507, 0.0), (2511, 0.0), (2513, 0.0), (2516, 0.0), (2517, 0.0), (2518, 0.0), (2519, 0.0), (2520, 0.0), (2522, 0.0), (2524, 0.0), (2526, 0.0), (2529, 0.0), (2530, 0.0), (2531, 0.0), (2532, 0.0), (2534, 0.0), (2535, 0.0), (2540, 0.0), (2542, 0.0), (2546, 0.0), (2547, 0.0), (2548, 0.0), (2549, 0.0), (2551, 0.0), (2553, 0.0), (2554, 0.0), (2555, 0.0), (2557, 0.0), (2559, 0.0), (2560, 0.0), (2562, 0.0), (2566, 0.0), (2567, 0.0), (2568, 0.0), (2569, 0.0), (2570, 0.0), (2571, 0.0), (2572, 0.0), (2574, 0.0), (2576, 0.0), (2584, 0.0), (2588, 0.0), (2589, 0.0), (2594, 0.0), (2595, 0.0), (2599, 0.0), (2600, 0.0), (2601, 0.0), (2603, 0.0), (2604, 0.0), (2606, 0.0), (2610, 0.0), (2613, 0.0), (2614, 0.0), (2615, 0.0), (2616, 0.0), (2617, 0.0), (2618, 0.0), (2619, 0.0), (2620, 0.0), (2621, 0.0), (2622, 0.0), (2624, 0.0), (2626, 0.0), (2627, 0.0), (2628, 0.0), (2629, 0.0), (2631, 0.0), (2632, 0.0), (2634, 0.0), (2635, 0.0), (2637, 0.0), (2640, 0.0), (2642, 0.0), (2643, 0.0), (2647, 0.0), (2649, 0.0), (2652, 0.0), (2656, 0.0), (2658, 0.0), (2659, 0.0), (2660, 0.0), (2661, 0.0), (2662, 0.0), (2664, 0.0), (2666, 0.0), (2667, 0.0), (2668, 0.0), (2670, 0.0), (2671, 0.0), (2673, 0.0), (2674, 0.0), (2677, 0.0), (2679, 0.0), (2680, 0.0), (2682, 0.0), (2685, 0.0), (2686, 0.0), (2687, 0.0), (2689, 0.0), (2690, 0.0), (2691, 0.0), (2694, 0.0), (2695, 0.0), (2697, 0.0), (2699, 0.0), (2700, 0.0), (2701, 0.0), (2702, 0.0), (2703, 0.0), (2705, 0.0), (2707, 0.0), (2709, 0.0), (2710, 0.0), (2711, 0.0), (2713, 0.0), (2714, 0.0), (2715, 0.0), (2716, 0.0), (2717, 0.0), (2718, 0.0), (2719, 0.0), (2720, 0.0), (2721, 0.0), (2723, 0.0), (2724, 0.0), (2725, 0.0), (2727, 0.0), (2730, 0.0), (2732, 0.0), (2734, 0.0), (2737, 0.0), (2738, 0.0), (2739, 0.0), (2740, 0.0), (2742, 0.0), (2744, 0.0), (2745, 0.0), (2748, 0.0), (2749, 0.0), (2750, 0.0), (2753, 0.0), (2754, 0.0), (2756, 0.0), (2760, 0.0), (2762, 0.0), (2763, 0.0), (2765, 0.0), (2767, 0.0), (2769, 0.0), (2770, 0.0), (2771, 0.0), (2772, 0.0), (2773, 0.0), (2774, 0.0), (2776, 0.0), (2779, 0.0), (2780, 0.0), (2782, 0.0), (2783, 0.0), (2786, 0.0), (2788, 0.0), (2789, 0.0), (2792, 0.0), (2793, 0.0), (2795, 0.0), (2797, 0.0), (2798, 0.0), (2799, 0.0), (2801, 0.0), (2802, 0.0), (2804, 0.0), (2808, 0.0), (2810, 0.0), (2811, 0.0), (2813, 0.0), (2814, 0.0), (2816, 0.0), (2820, 0.0), (2825, 0.0), (2828, 0.0), (2829, 0.0), (2830, 0.0), (2833, 0.0), (2835, 0.0), (2836, 0.0), (2837, 0.0), (2838, 0.0), (2839, 0.0), (2840, 0.0), (2842, 0.0), (2843, 0.0), (2844, 0.0), (2846, 0.0), (2847, 0.0), (2850, 0.0), (2852, 0.0), (2854, 0.0), (2855, 0.0), (2857, 0.0), (2858, 0.0), (2859, 0.0), (2861, 0.0), (2864, 0.0), (2866, 0.0), (2869, 0.0), (2870, 0.0), (2871, 0.0), (2873, 0.0), (2874, 0.0), (2876, 0.0), (2881, 0.0), (2882, 0.0), (2883, 0.0), (2885, 0.0), (2887, 0.0), (2888, 0.0), (2889, 0.0), (2890, 0.0), (2891, 0.0), (2892, 0.0), (2893, 0.0), (2894, 0.0), (2895, 0.0), (2896, 0.0), (2898, 0.0), (2901, 0.0), (2902, 0.0), (2903, 0.0), (2905, 0.0), (2906, 0.0), (2907, 0.0), (2908, 0.0), (2909, 0.0), (2910, 0.0), (2911, 0.0), (2914, 0.0), (2916, 0.0), (2917, 0.0), (2919, 0.0), (2920, 0.0), (2922, 0.0), (2924, 0.0), (2925, 0.0), (2927, 0.0), (2928, 0.0), (2929, 0.0), (2932, 0.0), (2935, 0.0), (2936, 0.0), (2938, 0.0), (2939, 0.0), (2940, 0.0), (2941, 0.0), (2942, 0.0), (2943, 0.0), (2944, 0.0), (2945, 0.0), (2946, 0.0), (2947, 0.0), (2948, 0.0), (2949, 0.0), (2950, 0.0), (2951, 0.0), (2952, 0.0), (2954, 0.0), (2955, 0.0), (2956, 0.0), (2957, 0.0), (2958, 0.0), (2960, 0.0), (2962, 0.0), (2963, 0.0), (2965, 0.0), (2970, 0.0), (2971, 0.0), (2973, 0.0), (2974, 0.0), (2975, 0.0), (2976, 0.0), (2977, 0.0), (2979, 0.0), (2982, 0.0), (2983, 0.0), (2984, 0.0), (2985, 0.0), (2988, 0.0), (2989, 0.0), (2990, 0.0), (2992, 0.0), (2993, 0.0), (2997, 0.0), (2998, 0.0), (2999, 0.0), (3000, 0.0), (3003, 0.0), (3005, 0.0), (3009, 0.0), (3010, 0.0), (3011, 0.0), (3016, 0.0), (3017, 0.0), (3022, 0.0), (3023, 0.0), (3025, 0.0), (3026, 0.0), (3027, 0.0), (3028, 0.0), (3031, 0.0), (3036, 0.0), (3037, 0.0), (3038, 0.0), (3039, 0.0), (3041, 0.0), (3042, 0.0), (3044, 0.0), (3045, 0.0), (3046, 0.0), (3049, 0.0), (3050, 0.0), (3052, 0.0), (3053, 0.0), (3056, 0.0), (3057, 0.0), (3058, 0.0), (3060, 0.0), (3061, 0.0), (3063, 0.0), (3064, 0.0), (3065, 0.0), (3066, 0.0), (3067, 0.0), (3070, 0.0), (3071, 0.0), (3075, 0.0), (3076, 0.0), (3078, 0.0), (3079, 0.0), (3080, 0.0), (3081, 0.0), (3084, 0.0), (3085, 0.0), (3088, 0.0), (3091, 0.0), (3093, 0.0), (3095, 0.0), (3096, 0.0), (3097, 0.0), (3100, 0.0), (3101, 0.0), (3103, 0.0), (3104, 0.0), (3107, 0.0), (3108, 0.0), (3109, 0.0), (3110, 0.0), (3111, 0.0), (3112, 0.0), (3113, 0.0), (3114, 0.0), (3115, 0.0), (3117, 0.0), (3118, 0.0), (3119, 0.0), (3121, 0.0), (3122, 0.0), (3123, 0.0), (3124, 0.0), (3125, 0.0), (3131, 0.0), (3132, 0.0), (3134, 0.0), (3135, 0.0), (3137, 0.0), (3139, 0.0), (3140, 0.0), (3141, 0.0), (3145, 0.0), (3146, 0.0), (3149, 0.0), (3152, 0.0), (3156, 0.0), (3157, 0.0), (3159, 0.0), (3161, 0.0), (3164, 0.0), (3167, 0.0), (3168, 0.0), (3169, 0.0), (3173, 0.0), (3174, 0.0), (3175, 0.0), (3176, 0.0), (3178, 0.0), (3179, 0.0), (3183, 0.0), (3185, 0.0), (3186, 0.0), (3187, 0.0), (3188, 0.0), (3189, 0.0), (3191, 0.0), (3192, 0.0), (3193, 0.0), (3194, 0.0), (3197, 0.0), (3199, 0.0), (3200, 0.0), (3201, 0.0), (3205, 0.0), (3206, 0.0), (3212, 0.0), (3213, 0.0), (3216, 0.0), (3217, 0.0), (3218, 0.0), (3220, 0.0), (3222, 0.0), (3223, 0.0), (3226, 0.0), (3227, 0.0), (3228, 0.0), (3234, 0.0), (3235, 0.0), (3238, 0.0), (3239, 0.0), (3241, 0.0), (3242, 0.0), (3243, 0.0), (3244, 0.0), (3246, 0.0), (3247, 0.0), (3248, 0.0), (3253, 0.0), (3254, 0.0), (3257, 0.0), (3258, 0.0), (3261, 0.0), (3262, 0.0), (3263, 0.0), (3264, 0.0), (3265, 0.0), (3266, 0.0), (3268, 0.0), (3269, 0.0), (3270, 0.0), (3271, 0.0), (3272, 0.0), (3273, 0.0), (3275, 0.0), (3276, 0.0), (3277, 0.0), (3278, 0.0), (3279, 0.0), (3281, 0.0), (3283, 0.0), (3285, 0.0), (3287, 0.0), (3288, 0.0), (3289, 0.0), (3291, 0.0), (3292, 0.0), (3294, 0.0), (3295, 0.0), (3298, 0.0), (3300, 0.0), (3301, 0.0), (3302, 0.0), (3303, 0.0), (3307, 0.0), (3310, 0.0), (3311, 0.0), (3313, 0.0), (3314, 0.0), (3317, 0.0), (3319, 0.0), (3320, 0.0), (3322, 0.0), (3324, 0.0), (3325, 0.0), (3327, 0.0), (3328, 0.0), (3330, 0.0), (3331, 0.0), (3334, 0.0), (3338, 0.0), (3339, 0.0), (3340, 0.0), (3341, 0.0), (3342, 0.0), (3344, 0.0), (3345, 0.0), (3346, 0.0), (3348, 0.0), (3356, 0.0), (3357, 0.0), (3358, 0.0), (3360, 0.0), (3362, 0.0), (3365, 0.0), (3367, 0.0), (3369, 0.0), (3371, 0.0), (3374, 0.0), (3375, 0.0), (3376, 0.0), (3378, 0.0), (3379, 0.0), (3380, 0.0), (3381, 0.0), (3384, 0.0), (3387, 0.0), (3388, 0.0), (3389, 0.0), (3390, 0.0), (3391, 0.0), (3393, 0.0), (3394, 0.0), (3397, 0.0), (3398, 0.0), (3400, 0.0), (3401, 0.0), (3402, 0.0), (3404, 0.0), (3406, 0.0), (3407, 0.0), (3408, 0.0), (3409, 0.0), (3410, 0.0), (3411, 0.0), (3413, 0.0), (3415, 0.0), (3418, 0.0), (3419, 0.0), (3422, 0.0), (3423, 0.0), (3425, 0.0), (3426, 0.0), (3429, 0.0), (3430, 0.0), (3431, 0.0), (3432, 0.0), (3433, 0.0), (3434, 0.0), (3435, 0.0), (3436, 0.0), (3438, 0.0), (3440, 0.0), (3451, 0.0), (3452, 0.0), (3453, 0.0), (3454, 0.0), (3456, 0.0), (3457, 0.0), (3458, 0.0), (3459, 0.0), (3461, 0.0), (3464, 0.0), (3465, 0.0), (3467, 0.0), (3468, 0.0), (3470, 0.0), (3471, 0.0), (3472, 0.0), (3474, 0.0), (3475, 0.0), (3476, 0.0), (3478, 0.0), (3479, 0.0), (3480, 0.0), (3481, 0.0), (3482, 0.0), (3484, 0.0), (3487, 0.0), (3488, 0.0), (3489, 0.0), (3491, 0.0), (3493, 0.0), (3495, 0.0), (3496, 0.0), (3497, 0.0), (3498, 0.0), (3499, 0.0), (3501, 0.0), (3502, 0.0), (3503, 0.0), (3504, 0.0), (3506, 0.0), (3507, 0.0), (3508, 0.0), (3510, 0.0), (3513, 0.0), (3514, 0.0), (3515, 0.0), (3517, 0.0), (3519, 0.0), (3520, 0.0), (3521, 0.0), (3524, 0.0), (3525, 0.0), (3528, 0.0), (3529, 0.0), (3530, 0.0), (3531, 0.0), (3532, 0.0), (3533, 0.0), (3535, 0.0), (3536, 0.0), (3537, 0.0), (3538, 0.0), (3539, 0.0), (3540, 0.0), (3541, 0.0), (3542, 0.0), (3543, 0.0), (3544, 0.0), (3547, 0.0), (3548, 0.0), (3550, 0.0), (3551, 0.0), (3554, 0.0), (3555, 0.0), (3558, 0.0), (3559, 0.0), (3560, 0.0), (3563, 0.0), (3564, 0.0), (3565, 0.0), (3567, 0.0), (3570, 0.0), (3571, 0.0), (3572, 0.0), (3573, 0.0), (3574, 0.0), (3576, 0.0), (3577, 0.0), (3578, 0.0), (3580, 0.0), (3583, 0.0), (3585, 0.0), (3586, 0.0), (3587, 0.0), (3588, 0.0), (3589, 0.0), (3590, 0.0), (3592, 0.0), (3593, 0.0), (3595, 0.0), (3596, 0.0), (3597, 0.0), (3598, 0.0), (3599, 0.0), (3600, 0.0), (3601, 0.0), (3602, 0.0), (3605, 0.0), (3608, 0.0), (3609, 0.0), (3610, 0.0), (3611, 0.0), (3614, 0.0), (3615, 0.0), (3621, 0.0), (3622, 0.0), (3625, 0.0), (3626, 0.0), (3627, 0.0), (3628, 0.0), (3629, 0.0), (3631, 0.0), (3632, 0.0), (3633, 0.0), (3634, 0.0), (3635, 0.0), (3638, 0.0), (3640, 0.0), (3641, 0.0), (3645, 0.0), (3646, 0.0), (3647, 0.0), (3648, 0.0), (3651, 0.0), (3653, 0.0), (3654, 0.0), (3655, 0.0), (3657, 0.0), (3658, 0.0), (3659, 0.0), (3660, 0.0), (3661, 0.0), (3662, 0.0), (3663, 0.0), (3665, 0.0), (3666, 0.0), (3669, 0.0), (3670, 0.0), (3671, 0.0), (3673, 0.0), (3674, 0.0), (3675, 0.0), (3676, 0.0), (3677, 0.0), (3678, 0.0), (3680, 0.0), (3681, 0.0), (3682, 0.0), (3683, 0.0), (3684, 0.0), (3685, 0.0), (3686, 0.0), (3687, 0.0), (3688, 0.0), (3690, 0.0), (3691, 0.0), (3694, 0.0), (3696, 0.0), (3697, 0.0), (3700, 0.0), (3701, 0.0), (3702, 0.0), (3703, 0.0), (3704, 0.0), (3706, 0.0), (3708, 0.0), (3709, 0.0), (3710, 0.0), (3712, 0.0), (3713, 0.0), (3716, 0.0), (3717, 0.0), (3718, 0.0), (3719, 0.0), (3720, 0.0), (3721, 0.0), (3723, 0.0), (3726, 0.0), (3727, 0.0), (3728, 0.0), (3729, 0.0), (3731, 0.0), (3732, 0.0), (3734, 0.0), (3735, 0.0), (3738, 0.0), (3739, 0.0), (3741, 0.0), (3742, 0.0), (3743, 0.0), (3744, 0.0), (3745, 0.0), (3746, 0.0), (3747, 0.0), (3752, 0.0), (3753, 0.0), (3754, 0.0), (3757, 0.0), (3759, 0.0), (3760, 0.0), (3761, 0.0), (3762, 0.0), (3763, 0.0), (3765, 0.0), (3766, 0.0), (3767, 0.0), (3768, 0.0), (3769, 0.0), (3770, 0.0), (3772, 0.0), (3773, 0.0), (3775, 0.0), (3776, 0.0), (3778, 0.0), (3779, 0.0), (3780, 0.0), (3781, 0.0), (3782, 0.0), (3783, 0.0), (3784, 0.0), (3785, 0.0), (3787, 0.0), (3788, 0.0), (3789, 0.0), (3790, 0.0), (3791, 0.0), (3792, 0.0), (3793, 0.0), (3794, 0.0), (3797, 0.0), (3798, 0.0), (3801, 0.0), (3802, 0.0)]\n"
          ]
        }
      ]
    },
    {
      "cell_type": "code",
      "source": [
        "#getting similar movies\n",
        "\n",
        "print('movies recommended : ')\n",
        "i=1\n",
        "\n",
        "for movie in sorted_similar_score:\n",
        "  index = movie[0]\n",
        "  title_from_index = movies_data[movies_data.index==index]['title'].values[0]\n",
        "  if(i<=20):\n",
        "    print(i, ' ,', title_from_index)\n",
        "    i+=1"
      ],
      "metadata": {
        "colab": {
          "base_uri": "https://localhost:8080/"
        },
        "id": "1ffAWfAcGsN9",
        "outputId": "1132f2e3-67a1-4709-dbcf-0be5907fa204"
      },
      "execution_count": 29,
      "outputs": [
        {
          "output_type": "stream",
          "name": "stdout",
          "text": [
            "movies recommended : \n",
            "1  , Iron Man\n",
            "2  , Iron Man 2\n",
            "3  , Iron Man 3\n",
            "4  , Avengers: Age of Ultron\n",
            "5  , The Avengers\n",
            "6  , Captain America: Civil War\n",
            "7  , Captain America: The Winter Soldier\n",
            "8  , Ant-Man\n",
            "9  , X-Men\n",
            "10  , Made\n",
            "11  , X-Men: Apocalypse\n",
            "12  , X2\n",
            "13  , The Incredible Hulk\n",
            "14  , X-Men: First Class\n",
            "15  , X-Men: Days of Future Past\n",
            "16  , Captain America: The First Avenger\n",
            "17  , Kick-Ass 2\n",
            "18  , Guardians of the Galaxy\n",
            "19  , Thor: The Dark World\n",
            "20  , Deadpool\n"
          ]
        }
      ]
    },
    {
      "cell_type": "code",
      "source": [
        "#get recommendation from movie name\n",
        "movie_name_2 = input('enter the movie name : ')\n",
        "list_of_titles = movies_data['title'].dropna().tolist()\n",
        "\n",
        "close_match_2 = difflib.get_close_matches(movie_name_2 , list_of_titles)\n",
        "close_match_2 = close_match_2[0]\n",
        "#finding index of the movie\n",
        "index_2 = movies_data[movies_data.title == close_match_2]['index'].values[0]\n",
        "#getting list of similar movies\n",
        "similarity_score_2 = list(enumerate(similarity[index_2]))\n",
        "sorted_similar_score_2 = sorted(similarity_score_2, key=lambda x:x[1], reverse=True)\n",
        "print('movies recommended : ')\n",
        "i=1\n",
        "for movie in sorted_similar_score_2:\n",
        "  index = movie[0]\n",
        "  title_from_index = movies_data[movies_data.index==index]['title'].values[0]\n",
        "  if(i<=20):\n",
        "    print(i, ' ,', title_from_index)\n",
        "    i+=1"
      ],
      "metadata": {
        "colab": {
          "base_uri": "https://localhost:8080/"
        },
        "id": "oj-O5t0sHifo",
        "outputId": "080e49f2-b7f9-4667-99ff-d5be4f8355c5"
      },
      "execution_count": 32,
      "outputs": [
        {
          "output_type": "stream",
          "name": "stdout",
          "text": [
            "enter the movie name : iron man\n",
            "movies recommended : \n",
            "1  , Iron Man\n",
            "2  , Iron Man 2\n",
            "3  , Iron Man 3\n",
            "4  , Avengers: Age of Ultron\n",
            "5  , The Avengers\n",
            "6  , Captain America: Civil War\n",
            "7  , Captain America: The Winter Soldier\n",
            "8  , Ant-Man\n",
            "9  , X-Men\n",
            "10  , Made\n",
            "11  , X-Men: Apocalypse\n",
            "12  , X2\n",
            "13  , The Incredible Hulk\n",
            "14  , X-Men: First Class\n",
            "15  , X-Men: Days of Future Past\n",
            "16  , Captain America: The First Avenger\n",
            "17  , Kick-Ass 2\n",
            "18  , Guardians of the Galaxy\n",
            "19  , Thor: The Dark World\n",
            "20  , Deadpool\n"
          ]
        }
      ]
    },
    {
      "cell_type": "code",
      "source": [],
      "metadata": {
        "id": "YT0Ad4-uKU4T"
      },
      "execution_count": null,
      "outputs": []
    }
  ]
}