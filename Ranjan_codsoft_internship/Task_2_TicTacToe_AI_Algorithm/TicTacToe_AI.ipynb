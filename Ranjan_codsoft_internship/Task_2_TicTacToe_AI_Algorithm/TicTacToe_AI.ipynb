{
  "nbformat": 4,
  "nbformat_minor": 0,
  "metadata": {
    "colab": {
      "provenance": []
    },
    "kernelspec": {
      "name": "python3",
      "display_name": "Python 3"
    },
    "language_info": {
      "name": "python"
    }
  },
  "cells": [
    {
      "cell_type": "code",
      "source": [
        "import random\n",
        "\n",
        "# printing board\n",
        "def print_board(board):\n",
        "    for row in board:\n",
        "        print(\" | \".join(row))\n",
        "        print(\"-\" * 9)"
      ],
      "metadata": {
        "id": "gwwXk-9QZX2g"
      },
      "execution_count": 3,
      "outputs": []
    },
    {
      "cell_type": "code",
      "source": [
        "# checking if a player has won\n",
        "def check_win(board, player):\n",
        "\n",
        "    for i in range(3):\n",
        "        if all(board[i][j] == player for j in range(3)) or all(board[j][i] == player for j in range(3)):\n",
        "            return True\n",
        "    if all(board[i][i] == player for i in range(3)) or all(board[i][2 - i] == player for i in range(3)):\n",
        "        return True\n",
        "    return False"
      ],
      "metadata": {
        "id": "q3WCbghQZZLb"
      },
      "execution_count": 5,
      "outputs": []
    },
    {
      "cell_type": "code",
      "source": [
        "# checking draw\n",
        "def check_draw(board):\n",
        "    return all(board[i][j] != ' ' for i in range(3) for j in range(3))"
      ],
      "metadata": {
        "id": "YlrWPvoyZbwz"
      },
      "execution_count": 7,
      "outputs": []
    },
    {
      "cell_type": "code",
      "source": [
        "# AI's move using Minimax algorithm\n",
        "def ai_move(board, depth, is_maximizer):\n",
        "    if check_win(board, 'X'):\n",
        "        return -1\n",
        "    if check_win(board, 'O'):\n",
        "        return 1\n",
        "    if check_draw(board):\n",
        "        return 0\n",
        "\n",
        "    if is_maximizer:\n",
        "        best_score = -float('inf')\n",
        "        for i in range(3):\n",
        "            for j in range(3):\n",
        "                if board[i][j] == ' ':\n",
        "                    board[i][j] = 'O'\n",
        "                    score = ai_move(board, depth + 1, False)\n",
        "                    board[i][j] = ' '\n",
        "                    best_score = max(score, best_score)\n",
        "        return best_score\n",
        "    else:\n",
        "        best_score = float('inf')\n",
        "        for i in range(3):\n",
        "            for j in range(3):\n",
        "                if board[i][j] == ' ':\n",
        "                    board[i][j] = 'X'\n",
        "                    score = ai_move(board, depth + 1, True)\n",
        "                    board[i][j] = ' '\n",
        "                    best_score = min(score, best_score)\n",
        "        return best_score"
      ],
      "metadata": {
        "id": "LVA-jem7ZgEY"
      },
      "execution_count": 8,
      "outputs": []
    },
    {
      "cell_type": "code",
      "source": [
        "#  AI's move implemenation\n",
        "def make_ai_move(board):\n",
        "    best_move = None\n",
        "    best_score = -float('inf')\n",
        "    for i in range(3):\n",
        "        for j in range(3):\n",
        "            if board[i][j] == ' ':\n",
        "                board[i][j] = 'O'\n",
        "                score = ai_move(board, 0, False)\n",
        "                board[i][j] = ' '\n",
        "                if score > best_score:\n",
        "                    best_score = score\n",
        "                    best_move = (i, j)\n",
        "    if best_move:\n",
        "        board[best_move[0]][best_move[1]] = 'O'"
      ],
      "metadata": {
        "id": "15tOCdlzZdvY"
      },
      "execution_count": 9,
      "outputs": []
    },
    {
      "cell_type": "code",
      "source": [
        "def play_game():\n",
        "    board = [[' ' for _ in range(3)] for _ in range(3)]\n",
        "    print(\"Welcome to Tic-Tac-Toe!\")\n",
        "    print_board(board)\n",
        "\n",
        "    while True:\n",
        "        row, col = map(int, input(\"Enter your move (row and column, e.g., '1 1'): \").split())\n",
        "        if board[row - 1][col - 1] != ' ':\n",
        "            print(\"Invalid move. Try again.\")\n",
        "            continue\n",
        "        board[row - 1][col - 1] = 'X'\n",
        "        print_board(board)\n",
        "\n",
        "        if check_win(board, 'X'):\n",
        "            print(\"You win!\")\n",
        "            break\n",
        "\n",
        "        if check_draw(board):\n",
        "            print(\"It's a draw!\")\n",
        "            break\n",
        "\n",
        "        print(\"AI is making its move...\")\n",
        "        make_ai_move(board)\n",
        "        print_board(board)\n",
        "\n",
        "        if check_win(board, 'O'):\n",
        "            print(\"AI wins!\")\n",
        "            break\n",
        "\n",
        "        if check_draw(board):\n",
        "            print(\"It's a draw!\")\n",
        "            break\n",
        "\n",
        "if __name__ == \"__main__\":\n",
        "    play_game()"
      ],
      "metadata": {
        "colab": {
          "base_uri": "https://localhost:8080/"
        },
        "id": "h1Z3JWZOZa1p",
        "outputId": "0b56d3f0-c37e-4324-af77-7d2fccf5f6c7"
      },
      "execution_count": 12,
      "outputs": [
        {
          "output_type": "stream",
          "name": "stdout",
          "text": [
            "Welcome to Tic-Tac-Toe!\n",
            "  |   |  \n",
            "---------\n",
            "  |   |  \n",
            "---------\n",
            "  |   |  \n",
            "---------\n",
            "Enter your move (row and column, e.g., '1 1'): 1 1 \n",
            "X |   |  \n",
            "---------\n",
            "  |   |  \n",
            "---------\n",
            "  |   |  \n",
            "---------\n",
            "AI is making its move...\n",
            "X |   |  \n",
            "---------\n",
            "  | O |  \n",
            "---------\n",
            "  |   |  \n",
            "---------\n",
            "Enter your move (row and column, e.g., '1 1'): 1 3\n",
            "X |   | X\n",
            "---------\n",
            "  | O |  \n",
            "---------\n",
            "  |   |  \n",
            "---------\n",
            "AI is making its move...\n",
            "X | O | X\n",
            "---------\n",
            "  | O |  \n",
            "---------\n",
            "  |   |  \n",
            "---------\n",
            "Enter your move (row and column, e.g., '1 1'): 3 1\n",
            "X | O | X\n",
            "---------\n",
            "  | O |  \n",
            "---------\n",
            "X |   |  \n",
            "---------\n",
            "AI is making its move...\n",
            "X | O | X\n",
            "---------\n",
            "O | O |  \n",
            "---------\n",
            "X |   |  \n",
            "---------\n",
            "Enter your move (row and column, e.g., '1 1'): 3 3\n",
            "X | O | X\n",
            "---------\n",
            "O | O |  \n",
            "---------\n",
            "X |   | X\n",
            "---------\n",
            "AI is making its move...\n",
            "X | O | X\n",
            "---------\n",
            "O | O | O\n",
            "---------\n",
            "X |   | X\n",
            "---------\n",
            "AI wins!\n"
          ]
        }
      ]
    },
    {
      "cell_type": "code",
      "source": [],
      "metadata": {
        "id": "kispA4XuY_Is"
      },
      "execution_count": null,
      "outputs": []
    }
  ]
}